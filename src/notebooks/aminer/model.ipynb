{
 "cells": [
  {
   "cell_type": "markdown",
   "metadata": {},
   "source": [
    "# モデルの学習"
   ]
  },
  {
   "cell_type": "code",
   "execution_count": 1,
   "metadata": {},
   "outputs": [],
   "source": [
    "# import libraries\n",
    "\n",
    "import numpy as np\n",
    "import pandas as pd\n",
    "import gc\n",
    "import os\n",
    "import json\n",
    "from collections import Counter, defaultdict\n",
    "from tqdm.notebook import tqdm\n",
    "import matplotlib.pyplot as plt\n",
    "import matplotlib.dates as mdates\n",
    "%matplotlib inline\n",
    "import plotly.express as px\n",
    "import re\n",
    "import datetime as dt\n",
    "import japanize_matplotlib\n",
    "import itertools\n",
    "year_pattern = r'([1-2][0-9]{3})'"
   ]
  },
  {
   "cell_type": "code",
   "execution_count": 2,
   "metadata": {},
   "outputs": [],
   "source": [
    "DATAPATH = \"../../../data/\"\n",
    "START_YEAR = 2008\n",
    "END_YEAR = 2020\n",
    "YEAR_STD = END_YEAR - START_YEAR "
   ]
  },
  {
   "cell_type": "code",
   "execution_count": 3,
   "metadata": {},
   "outputs": [],
   "source": [
    "def get_metadata(filename):\n",
    "    with open(DATAPATH + filename, encoding=\"utf-8\", mode='r') as f:\n",
    "        for line in f:\n",
    "            yield line"
   ]
  },
  {
   "cell_type": "code",
   "execution_count": 4,
   "metadata": {},
   "outputs": [],
   "source": [
    "with open(DATAPATH + \"DBLP/keywords.txt\") as f:\n",
    "    keywords = list(map(lambda x: x.replace(\"\\n\", \"\"), f.readlines()))\n",
    "key_sets = set(keywords)\n",
    "N = len(keywords)"
   ]
  },
  {
   "cell_type": "code",
   "execution_count": 5,
   "metadata": {},
   "outputs": [],
   "source": [
    "word_dict = {}\n",
    "for num, kw in enumerate(keywords):\n",
    "    word_dict[kw] = num"
   ]
  },
  {
   "cell_type": "code",
   "execution_count": 6,
   "metadata": {},
   "outputs": [
    {
     "data": {
      "text/plain": [
       "(7075, 7075, 13)"
      ]
     },
     "execution_count": 6,
     "metadata": {},
     "output_type": "execute_result"
    }
   ],
   "source": [
    "datas = np.load(DATAPATH + \"DBLP/pathes.npy\")\n",
    "datas.shape"
   ]
  },
  {
   "cell_type": "code",
   "execution_count": 65,
   "metadata": {},
   "outputs": [],
   "source": [
    "a = np.zeros([7075,7075])\n",
    "for i in range(7075):\n",
    "    for j in range(7075):\n",
    "        b = sum(datas[i][j])\n",
    "        a[i][j] = b\n",
    "        if i > j and b > 0:\n",
    "            print(i, j, b)\n",
    "            break"
   ]
  },
  {
   "cell_type": "code",
   "execution_count": 66,
   "metadata": {},
   "outputs": [],
   "source": [
    "c = np.zeros(7075)\n",
    "for i in range(7075):\n",
    "    c[i] = sum(a[i]) + sum(a[ :, i])"
   ]
  },
  {
   "cell_type": "code",
   "execution_count": 67,
   "metadata": {},
   "outputs": [
    {
     "data": {
      "image/png": "[encoded data removed]",
      "text/plain": [
       "<Figure size 1296x576 with 1 Axes>"
      ]
     },
     "metadata": {},
     "output_type": "display_data"
    }
   ],
   "source": [
    "plt.style.use(\"ggplot\")\n",
    "\n",
    "# FigureとAxesを作成\n",
    "fig, ax = plt.subplots(figsize=(18,8))\n",
    "\n",
    "# タイトルと軸ラベルを設定\n",
    "ax.set_title(\"キーワードの頻度\")\n",
    "ax.set_xlabel(\"ID\")\n",
    "ax.set_ylabel(\"頻度\")\n",
    "\n",
    "# Axesに棒グラフを追加\n",
    "ax.bar(range(7075), sorted(c))\n",
    "\n",
    "plt.show()"
   ]
  },
  {
   "cell_type": "code",
   "execution_count": null,
   "metadata": {},
   "outputs": [],
   "source": []
  }
 ],
 "metadata": {
  "interpreter": {
   "hash": "e5ac9074c40421cbf492f67471c5dc3e49846f397739518f542476e0deba3a6a"
  },
  "kernelspec": {
   "display_name": "Python 3.7.11 ('trend')",
   "language": "python",
   "name": "python3"
  },
  "language_info": {
   "codemirror_mode": {
    "name": "ipython",
    "version": 3
   },
   "file_extension": ".py",
   "mimetype": "text/x-python",
   "name": "python",
   "nbconvert_exporter": "python",
   "pygments_lexer": "ipython3",
   "version": "3.7.11"
  },
  "orig_nbformat": 4
 },
 "nbformat": 4,
 "nbformat_minor": 2
}
