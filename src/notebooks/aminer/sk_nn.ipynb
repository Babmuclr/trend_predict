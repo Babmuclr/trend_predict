{
 "cells": [
  {
   "cell_type": "markdown",
   "metadata": {},
   "source": [
    "# モデルの学習"
   ]
  },
  {
   "cell_type": "code",
   "execution_count": 1,
   "metadata": {},
   "outputs": [],
   "source": [
    "# import libraries\n",
    "\n",
    "import numpy as np\n",
    "import pandas as pd\n",
    "import gc\n",
    "import os\n",
    "import json\n",
    "from collections import Counter, defaultdict\n",
    "from tqdm.notebook import tqdm\n",
    "import matplotlib.pyplot as plt\n",
    "import matplotlib.dates as mdates\n",
    "%matplotlib inline\n",
    "import plotly.express as px\n",
    "import re\n",
    "import datetime as dt\n",
    "import japanize_matplotlib\n",
    "import itertools\n",
    "year_pattern = r'([1-2][0-9]{3})'\n",
    "import time"
   ]
  },
  {
   "cell_type": "code",
   "execution_count": 2,
   "metadata": {},
   "outputs": [],
   "source": [
    "DATAPATH = \"../../../data/DBLP/made/\"\n",
    "OUTPUTPATH = \"../../../result/aminer/\""
   ]
  },
  {
   "cell_type": "code",
   "execution_count": 3,
   "metadata": {},
   "outputs": [
    {
     "data": {
      "text/plain": [
       "(2275, '3d imaging')"
      ]
     },
     "execution_count": 3,
     "metadata": {},
     "output_type": "execute_result"
    }
   ],
   "source": [
    "with open(DATAPATH + \"keywords_delete_similar_words.txt\") as f:\n",
    "    keywords = list(map(lambda x: x.replace(\"\\n\", \"\"), f.readlines()))\n",
    "key_sets = set(keywords)\n",
    "len(keywords), keywords[0]"
   ]
  },
  {
   "cell_type": "code",
   "execution_count": 4,
   "metadata": {},
   "outputs": [],
   "source": [
    "import torch\n",
    "import torch.utils.data\n",
    "import torch.nn as nn\n",
    "import torch.nn.functional as F\n",
    "import torch.optim as optim\n",
    "\n",
    "from sklearn.neural_network import MLPRegressor\n",
    "from sklearn.metrics import mean_squared_error\n",
    "from sklearn import utils\n",
    "\n",
    "from scipy.stats import pearsonr"
   ]
  },
  {
   "cell_type": "code",
   "execution_count": 5,
   "metadata": {},
   "outputs": [
    {
     "data": {
      "text/plain": [
       "((2275, 2275, 23), (2275, 2275), (2275, 2275, 23), (2275, 2275))"
      ]
     },
     "execution_count": 5,
     "metadata": {},
     "output_type": "execute_result"
    }
   ],
   "source": [
    "train_x = np.load(DATAPATH + \"train_x.npy\")\n",
    "train_y = np.load(DATAPATH + \"train_y.npy\")\n",
    "\n",
    "test_x = np.load(DATAPATH + \"test_x.npy\")\n",
    "test_y = np.load(DATAPATH + \"test_y.npy\")\n",
    "train_x.shape, train_y.shape, test_x.shape, test_y.shape"
   ]
  },
  {
   "cell_type": "code",
   "execution_count": 6,
   "metadata": {},
   "outputs": [
    {
     "data": {
      "text/plain": [
       "(2275, 23)"
      ]
     },
     "execution_count": 6,
     "metadata": {},
     "output_type": "execute_result"
    }
   ],
   "source": [
    "N = train_x.shape[0]\n",
    "M = train_x.shape[2]\n",
    "N, M"
   ]
  },
  {
   "cell_type": "code",
   "execution_count": 7,
   "metadata": {},
   "outputs": [
    {
     "data": {
      "text/plain": [
       "((2586675, 23), (2586675,), (2586675, 23), (2586675,))"
      ]
     },
     "execution_count": 7,
     "metadata": {},
     "output_type": "execute_result"
    }
   ],
   "source": [
    "train_x, train_y, test_x, test_y = train_x[np.triu_indices(n=N, k=1)], train_y[np.triu_indices(n=N, k=1)], test_x[np.triu_indices(n=N, k=1)], test_y[np.triu_indices(n=N, k=1)]\n",
    "train_x.shape, train_y.shape, test_x.shape, test_y.shape"
   ]
  },
  {
   "cell_type": "code",
   "execution_count": 8,
   "metadata": {},
   "outputs": [
    {
     "data": {
      "text/plain": [
       "2586675"
      ]
     },
     "execution_count": 8,
     "metadata": {},
     "output_type": "execute_result"
    }
   ],
   "source": [
    "P = train_x.shape[0]\n",
    "P"
   ]
  },
  {
   "cell_type": "code",
   "execution_count": 9,
   "metadata": {},
   "outputs": [
    {
     "name": "stdout",
     "output_type": "stream",
     "text": [
      "フィッティング時間: 714.3359811306\n",
      "スコア時間: 2.7017639838159084\n"
     ]
    }
   ],
   "source": [
    "model = MLPRegressor()\n",
    "start_time = time.perf_counter()\n",
    "model.fit(train_x, train_y)\n",
    "print(\"フィッティング時間: {}\".format(time.perf_counter() - start_time))\n",
    "start_time = time.perf_counter()\n",
    "model.score(test_x, test_y)\n",
    "print(\"スコア時間: {}\".format(time.perf_counter() - start_time))"
   ]
  },
  {
   "cell_type": "code",
   "execution_count": 10,
   "metadata": {},
   "outputs": [
    {
     "data": {
      "text/plain": [
       "((2586675,), (2586675,))"
      ]
     },
     "execution_count": 10,
     "metadata": {},
     "output_type": "execute_result"
    }
   ],
   "source": [
    "result = model.predict(test_x)\n",
    "result_before = model.predict(train_x)\n",
    "result.shape, result_before.shape"
   ]
  },
  {
   "cell_type": "code",
   "execution_count": 11,
   "metadata": {},
   "outputs": [
    {
     "name": "stdout",
     "output_type": "stream",
     "text": [
      "RMSE: 10.378, MSE: 107.696, 相関係数: 0.843\n"
     ]
    }
   ],
   "source": [
    "print(\"RMSE: {}, MSE: {}, 相関係数: {}\".format(\n",
    "    round(np.sqrt(mean_squared_error(result_before, train_y)),3), \n",
    "    round(mean_squared_error(result_before, train_y),3),\n",
    "    round(pearsonr(result_before, train_y)[0],3)))"
   ]
  },
  {
   "cell_type": "code",
   "execution_count": 12,
   "metadata": {},
   "outputs": [
    {
     "name": "stdout",
     "output_type": "stream",
     "text": [
      "RMSE: 6.331, MSE: 40.076, 相関係数: 0.45\n"
     ]
    }
   ],
   "source": [
    "print(\"RMSE: {}, MSE: {}, 相関係数: {}\".format(\n",
    "    round(np.sqrt(mean_squared_error(result, test_y)),3), \n",
    "    round(mean_squared_error(result, test_y),3),\n",
    "    round(pearsonr(result, test_y)[0],3)))"
   ]
  },
  {
   "cell_type": "code",
   "execution_count": 13,
   "metadata": {},
   "outputs": [
    {
     "data": {
      "text/plain": [
       "0.31"
      ]
     },
     "execution_count": 13,
     "metadata": {},
     "output_type": "execute_result"
    }
   ],
   "source": [
    "df = pd.DataFrame(result, columns=[\"予測\"])\n",
    "df[\"実測\"] = test_y\n",
    "df[\"予測順位\"] = df[\"予測\"].rank(ascending=False)\n",
    "df[\"実測順位\"] = df[\"実測\"].rank(ascending=False)\n",
    "df = df.sort_values(\"予測順位\", )\n",
    "top = df.head(100)\n",
    "len(top[top[\"実測順位\"]<100]) / len(top)"
   ]
  },
  {
   "cell_type": "code",
   "execution_count": 14,
   "metadata": {},
   "outputs": [
    {
     "data": {
      "image/png": "[encoded data removed]",
      "text/plain": [
       "<Figure size 864x576 with 1 Axes>"
      ]
     },
     "metadata": {},
     "output_type": "display_data"
    }
   ],
   "source": [
    "fig, ax = plt.subplots(facecolor=\"white\",figsize=(12,8))\n",
    "ax.scatter(train_y, result_before, alpha=0.3)\n",
    "ax.set_xlabel(\"実際の論文数\")\n",
    "ax.set_ylabel(\"予測の論文数\")\n",
    "ax.grid()\n",
    "ax.set_title(\"線形回帰\")\n",
    "fig.show()"
   ]
  },
  {
   "cell_type": "code",
   "execution_count": 15,
   "metadata": {},
   "outputs": [
    {
     "data": {
      "image/png": "[encoded data removed]",
      "text/plain": [
       "<Figure size 864x576 with 1 Axes>"
      ]
     },
     "metadata": {},
     "output_type": "display_data"
    }
   ],
   "source": [
    "fig, ax = plt.subplots(facecolor=\"white\",figsize=(12,8))\n",
    "ax.scatter(test_y, result, alpha=0.3)\n",
    "ax.set_xlabel(\"実際の論文数\")\n",
    "ax.set_ylabel(\"予測の論文数\")\n",
    "ax.grid()\n",
    "ax.set_title(\"線形回帰\")\n",
    "fig.savefig(OUTPUTPATH+\"img/lr.png\")\n",
    "fig.show()"
   ]
  },
  {
   "cell_type": "code",
   "execution_count": 16,
   "metadata": {},
   "outputs": [
    {
     "name": "stdout",
     "output_type": "stream",
     "text": [
      "キーワード: algorithm, design, 予測値: 1048.0, 実測値: 171.0\n",
      "キーワード: algorithm, experimentation, 予測値: 1068.6, 実測値: 68.0\n",
      "キーワード: algorithm, performance, 予測値: 1328.3, 実測値: 203.0\n",
      "キーワード: bit error rate, signal-to-noise ratio, 予測値: 547.6, 実測値: 81.0\n",
      "キーワード: capacitors, switches, 予測値: 531.6, 実測値: 669.0\n",
      "キーワード: computational model, data model, 予測値: 587.3, 実測値: 947.0\n",
      "キーワード: computational model, mathematical models, 予測値: 899.5, 実測値: 1003.0\n",
      "キーワード: covariance matrix, vectors, 予測値: 635.3, 実測値: 0.0\n",
      "キーワード: data model, mathematical models, 予測値: 447.4, 実測値: 446.0\n",
      "キーワード: decoding, encoding, 予測値: 801.9, 実測値: 670.0\n",
      "キーワード: design, experimentation, 予測値: 500.6, 実測値: 48.0\n",
      "キーワード: design, human factors, 予測値: 403.0, 実測値: 20.0\n",
      "キーワード: design, performance, 予測値: 1089.8, 実測値: 173.0\n",
      "キーワード: energy efficient, wireless sensor network, 予測値: 602.6, 実測値: 295.0\n",
      "キーワード: estimation, mathematical models, 予測値: 423.8, 実測値: 396.0\n",
      "キーワード: estimation, noise, 予測値: 571.0, 実測値: 18.0\n",
      "キーワード: experimentation, performance, 予測値: 581.7, 実測値: 63.0\n",
      "キーワード: face, face recognition, 予測値: 438.6, 実測値: 254.0\n",
      "キーワード: fading, signal-to-noise ratio, 予測値: 733.4, 実測値: 30.0\n",
      "キーワード: generic algorithm, optimisation, 予測値: 490.5, 実測値: 431.0\n",
      "キーワード: information systems, information technology, 予測値: 627.3, 実測値: 20.0\n",
      "キーワード: information systems, management science, 予測値: 517.8, 実測値: 1.0\n",
      "キーワード: information technology, management science, 予測値: 501.9, 実測値: 1.0\n",
      "キーワード: interference, signal-to-noise ratio, 予測値: 534.7, 実測値: 1040.0\n",
      "キーワード: interference, wireless communications, 予測値: 447.0, 実測値: 794.0\n",
      "キーワード: internet, servers, 予測値: 544.1, 実測値: 122.0\n",
      "キーワード: machine learning, support vector machine, 予測値: 583.1, 実測値: 437.0\n",
      "キーワード: mimo, signal-to-noise ratio, 予測値: 648.7, 実測値: 227.0\n",
      "キーワード: mobile communications, mobile computing, 予測値: 571.4, 実測値: 434.0\n",
      "キーワード: network topology, topology, 予測値: 402.6, 実測値: 691.0\n",
      "キーワード: noise, noise measurement, 予測値: 652.6, 実測値: 16.0\n",
      "キーワード: nonlinear programming, optimisation, 予測値: 445.4, 実測値: 640.0\n",
      "キーワード: ofdm, signal-to-noise ratio, 予測値: 448.4, 実測値: 165.0\n",
      "キーワード: ontologies, semantic web, 予測値: 461.6, 実測値: 68.0\n",
      "キーワード: ontologies, semantics, 予測値: 785.4, 実測値: 112.0\n",
      "キーワード: optimisation, vectors, 予測値: 481.3, 実測値: 5.0\n",
      "キーワード: protocol, servers, 予測値: 453.2, 実測値: 303.0\n",
      "キーワード: relays, signal-to-noise ratio, 予測値: 560.5, 実測値: 412.0\n",
      "キーワード: routing, routing protocol, 予測値: 710.8, 実測値: 270.0\n",
      "キーワード: sensor networks, wireless sensor network, 予測値: 901.8, 実測値: 3.0\n",
      "キーワード: social networking, social networks, 予測値: 699.9, 実測値: 4.0\n",
      "キーワード: sociology, statistics, 予測値: 656.7, 実測値: 777.0\n",
      "キーワード: software development, software engineering, 予測値: 463.3, 実測値: 102.0\n",
      "キーワード: wireless communications, wireless sensor network, 予測値: 638.6, 実測値: 1115.0\n"
     ]
    }
   ],
   "source": [
    "predict_matrix = np.zeros([N,N]) \n",
    "correct_matrix = np.zeros([N,N]) \n",
    "correct_matrix[np.triu_indices(n=N, k=1)] = test_y\n",
    "predict_matrix[np.triu_indices(n=N, k=1)] = model.predict(test_x)\n",
    "for i in range(N):\n",
    "    for j in range(N):\n",
    "        if predict_matrix[i][j] > 400:\n",
    "            print(\"キーワード: {}, {}, 予測値: {}, 実測値: {}\".format(keywords[i], keywords[j],round(predict_matrix[i][j],1), correct_matrix[i][j]))"
   ]
  },
  {
   "cell_type": "code",
   "execution_count": 17,
   "metadata": {},
   "outputs": [],
   "source": [
    "bool_matrix = np.zeros([N,N]) \n",
    "bool_matrix[np.triu_indices(n=N, k=1)] = train_y\n",
    "word_matrix = np.zeros([N,N,2]).astype(str)\n",
    "for i in range(N):\n",
    "    for j in range(N):\n",
    "        word_matrix[i][j][0] = keywords[i]\n",
    "        word_matrix[i][j][1] = keywords[j]\n",
    "correct_new = correct_matrix[np.where(bool_matrix==0)]\n",
    "predict_new = predict_matrix[np.where(bool_matrix==0)]\n",
    "word_new = word_matrix[np.where(bool_matrix==0)]"
   ]
  },
  {
   "cell_type": "code",
   "execution_count": 36,
   "metadata": {},
   "outputs": [
    {
     "data": {
      "text/plain": [
       "(4211183, 2)"
      ]
     },
     "execution_count": 36,
     "metadata": {},
     "output_type": "execute_result"
    }
   ],
   "source": [
    "word_new.shape"
   ]
  },
  {
   "cell_type": "code",
   "execution_count": 18,
   "metadata": {},
   "outputs": [
    {
     "data": {
      "text/html": [
       "<div>\n",
       "<style scoped>\n",
       "    .dataframe tbody tr th:only-of-type {\n",
       "        vertical-align: middle;\n",
       "    }\n",
       "\n",
       "    .dataframe tbody tr th {\n",
       "        vertical-align: top;\n",
       "    }\n",
       "\n",
       "    .dataframe thead th {\n",
       "        text-align: right;\n",
       "    }\n",
       "</style>\n",
       "<table border=\"1\" class=\"dataframe\">\n",
       "  <thead>\n",
       "    <tr style=\"text-align: right;\">\n",
       "      <th></th>\n",
       "      <th>実測値</th>\n",
       "      <th>予測値</th>\n",
       "      <th>キーワード1</th>\n",
       "      <th>キーワード2</th>\n",
       "    </tr>\n",
       "  </thead>\n",
       "  <tbody>\n",
       "    <tr>\n",
       "      <th>0</th>\n",
       "      <td>0.0</td>\n",
       "      <td>0.000000</td>\n",
       "      <td>3d imaging</td>\n",
       "      <td>3d imaging</td>\n",
       "    </tr>\n",
       "    <tr>\n",
       "      <th>1</th>\n",
       "      <td>0.0</td>\n",
       "      <td>-0.870601</td>\n",
       "      <td>3d imaging</td>\n",
       "      <td>a priori knowledge</td>\n",
       "    </tr>\n",
       "    <tr>\n",
       "      <th>2</th>\n",
       "      <td>0.0</td>\n",
       "      <td>0.064527</td>\n",
       "      <td>3d imaging</td>\n",
       "      <td>accelerometers</td>\n",
       "    </tr>\n",
       "    <tr>\n",
       "      <th>3</th>\n",
       "      <td>0.0</td>\n",
       "      <td>-0.631258</td>\n",
       "      <td>3d imaging</td>\n",
       "      <td>access control</td>\n",
       "    </tr>\n",
       "    <tr>\n",
       "      <th>4</th>\n",
       "      <td>0.0</td>\n",
       "      <td>-0.339165</td>\n",
       "      <td>3d imaging</td>\n",
       "      <td>access network</td>\n",
       "    </tr>\n",
       "  </tbody>\n",
       "</table>\n",
       "</div>"
      ],
      "text/plain": [
       "   実測値       予測値      キーワード1              キーワード2\n",
       "0  0.0  0.000000  3d imaging          3d imaging\n",
       "1  0.0 -0.870601  3d imaging  a priori knowledge\n",
       "2  0.0  0.064527  3d imaging      accelerometers\n",
       "3  0.0 -0.631258  3d imaging      access control\n",
       "4  0.0 -0.339165  3d imaging      access network"
      ]
     },
     "execution_count": 18,
     "metadata": {},
     "output_type": "execute_result"
    }
   ],
   "source": [
    "df = pd.DataFrame(correct_new, columns=[\"実測値\"])\n",
    "df[\"予測値\"] = predict_new\n",
    "df[\"キーワード1\"] = word_new[:,0]\n",
    "df[\"キーワード2\"] = word_new[:,1]\n",
    "df.head()"
   ]
  },
  {
   "cell_type": "code",
   "execution_count": 19,
   "metadata": {},
   "outputs": [
    {
     "data": {
      "text/html": [
       "<div>\n",
       "<style scoped>\n",
       "    .dataframe tbody tr th:only-of-type {\n",
       "        vertical-align: middle;\n",
       "    }\n",
       "\n",
       "    .dataframe tbody tr th {\n",
       "        vertical-align: top;\n",
       "    }\n",
       "\n",
       "    .dataframe thead th {\n",
       "        text-align: right;\n",
       "    }\n",
       "</style>\n",
       "<table border=\"1\" class=\"dataframe\">\n",
       "  <thead>\n",
       "    <tr style=\"text-align: right;\">\n",
       "      <th></th>\n",
       "      <th>実測値</th>\n",
       "      <th>予測値</th>\n",
       "      <th>キーワード1</th>\n",
       "      <th>キーワード2</th>\n",
       "    </tr>\n",
       "  </thead>\n",
       "  <tbody>\n",
       "    <tr>\n",
       "      <th>1132132</th>\n",
       "      <td>0.0</td>\n",
       "      <td>5.037200</td>\n",
       "      <td>fading channel</td>\n",
       "      <td>health information systems</td>\n",
       "    </tr>\n",
       "    <tr>\n",
       "      <th>1067911</th>\n",
       "      <td>0.0</td>\n",
       "      <td>4.962416</td>\n",
       "      <td>error statistics</td>\n",
       "      <td>health information systems</td>\n",
       "    </tr>\n",
       "    <tr>\n",
       "      <th>1130533</th>\n",
       "      <td>0.0</td>\n",
       "      <td>4.448333</td>\n",
       "      <td>fading</td>\n",
       "      <td>health information systems</td>\n",
       "    </tr>\n",
       "    <tr>\n",
       "      <th>1452498</th>\n",
       "      <td>0.0</td>\n",
       "      <td>4.351041</td>\n",
       "      <td>health information systems</td>\n",
       "      <td>instructional design</td>\n",
       "    </tr>\n",
       "    <tr>\n",
       "      <th>269777</th>\n",
       "      <td>0.0</td>\n",
       "      <td>4.273659</td>\n",
       "      <td>boundary value problem</td>\n",
       "      <td>indexing terms</td>\n",
       "    </tr>\n",
       "    <tr>\n",
       "      <th>584161</th>\n",
       "      <td>0.0</td>\n",
       "      <td>4.261634</td>\n",
       "      <td>control system synthesis</td>\n",
       "      <td>health information systems</td>\n",
       "    </tr>\n",
       "    <tr>\n",
       "      <th>889770</th>\n",
       "      <td>0.0</td>\n",
       "      <td>4.237178</td>\n",
       "      <td>diversity reception</td>\n",
       "      <td>random oracle model</td>\n",
       "    </tr>\n",
       "    <tr>\n",
       "      <th>620137</th>\n",
       "      <td>0.0</td>\n",
       "      <td>4.231917</td>\n",
       "      <td>creativity</td>\n",
       "      <td>health information systems</td>\n",
       "    </tr>\n",
       "    <tr>\n",
       "      <th>340860</th>\n",
       "      <td>0.0</td>\n",
       "      <td>4.155539</td>\n",
       "      <td>channel coding</td>\n",
       "      <td>health information systems</td>\n",
       "    </tr>\n",
       "    <tr>\n",
       "      <th>344341</th>\n",
       "      <td>0.0</td>\n",
       "      <td>4.134383</td>\n",
       "      <td>channel state information</td>\n",
       "      <td>random oracle model</td>\n",
       "    </tr>\n",
       "    <tr>\n",
       "      <th>339472</th>\n",
       "      <td>0.0</td>\n",
       "      <td>4.123570</td>\n",
       "      <td>channel capacity</td>\n",
       "      <td>health information systems</td>\n",
       "    </tr>\n",
       "    <tr>\n",
       "      <th>269173</th>\n",
       "      <td>0.0</td>\n",
       "      <td>4.105333</td>\n",
       "      <td>boundary value problem</td>\n",
       "      <td>computer science</td>\n",
       "    </tr>\n",
       "    <tr>\n",
       "      <th>2927814</th>\n",
       "      <td>0.0</td>\n",
       "      <td>4.095212</td>\n",
       "      <td>radiofrequency interference</td>\n",
       "      <td>random oracle model</td>\n",
       "    </tr>\n",
       "    <tr>\n",
       "      <th>397195</th>\n",
       "      <td>0.0</td>\n",
       "      <td>4.081334</td>\n",
       "      <td>cmos technology</td>\n",
       "      <td>health information systems</td>\n",
       "    </tr>\n",
       "    <tr>\n",
       "      <th>394198</th>\n",
       "      <td>0.0</td>\n",
       "      <td>4.055134</td>\n",
       "      <td>cmos integrated circuits</td>\n",
       "      <td>health information systems</td>\n",
       "    </tr>\n",
       "    <tr>\n",
       "      <th>342761</th>\n",
       "      <td>0.0</td>\n",
       "      <td>4.043108</td>\n",
       "      <td>channel estimation</td>\n",
       "      <td>random oracle model</td>\n",
       "    </tr>\n",
       "    <tr>\n",
       "      <th>1453436</th>\n",
       "      <td>0.0</td>\n",
       "      <td>4.032916</td>\n",
       "      <td>health information systems</td>\n",
       "      <td>teaching methods</td>\n",
       "    </tr>\n",
       "    <tr>\n",
       "      <th>1385214</th>\n",
       "      <td>0.0</td>\n",
       "      <td>4.008520</td>\n",
       "      <td>graph g</td>\n",
       "      <td>regular language</td>\n",
       "    </tr>\n",
       "    <tr>\n",
       "      <th>1453618</th>\n",
       "      <td>0.0</td>\n",
       "      <td>3.973754</td>\n",
       "      <td>health information systems</td>\n",
       "      <td>wikipedia</td>\n",
       "    </tr>\n",
       "    <tr>\n",
       "      <th>287626</th>\n",
       "      <td>0.0</td>\n",
       "      <td>3.967720</td>\n",
       "      <td>business information systems</td>\n",
       "      <td>modal logic</td>\n",
       "    </tr>\n",
       "  </tbody>\n",
       "</table>\n",
       "</div>"
      ],
      "text/plain": [
       "         実測値       予測値                        キーワード1  \\\n",
       "1132132  0.0  5.037200                fading channel   \n",
       "1067911  0.0  4.962416              error statistics   \n",
       "1130533  0.0  4.448333                        fading   \n",
       "1452498  0.0  4.351041    health information systems   \n",
       "269777   0.0  4.273659        boundary value problem   \n",
       "584161   0.0  4.261634      control system synthesis   \n",
       "889770   0.0  4.237178           diversity reception   \n",
       "620137   0.0  4.231917                    creativity   \n",
       "340860   0.0  4.155539                channel coding   \n",
       "344341   0.0  4.134383     channel state information   \n",
       "339472   0.0  4.123570              channel capacity   \n",
       "269173   0.0  4.105333        boundary value problem   \n",
       "2927814  0.0  4.095212   radiofrequency interference   \n",
       "397195   0.0  4.081334               cmos technology   \n",
       "394198   0.0  4.055134      cmos integrated circuits   \n",
       "342761   0.0  4.043108            channel estimation   \n",
       "1453436  0.0  4.032916    health information systems   \n",
       "1385214  0.0  4.008520                       graph g   \n",
       "1453618  0.0  3.973754    health information systems   \n",
       "287626   0.0  3.967720  business information systems   \n",
       "\n",
       "                             キーワード2  \n",
       "1132132  health information systems  \n",
       "1067911  health information systems  \n",
       "1130533  health information systems  \n",
       "1452498        instructional design  \n",
       "269777               indexing terms  \n",
       "584161   health information systems  \n",
       "889770          random oracle model  \n",
       "620137   health information systems  \n",
       "340860   health information systems  \n",
       "344341          random oracle model  \n",
       "339472   health information systems  \n",
       "269173             computer science  \n",
       "2927814         random oracle model  \n",
       "397195   health information systems  \n",
       "394198   health information systems  \n",
       "342761          random oracle model  \n",
       "1453436            teaching methods  \n",
       "1385214            regular language  \n",
       "1453618                   wikipedia  \n",
       "287626                  modal logic  "
      ]
     },
     "execution_count": 19,
     "metadata": {},
     "output_type": "execute_result"
    }
   ],
   "source": [
    "df.sort_values(\"予測値\", ascending=False, inplace=True)\n",
    "df.head(20)"
   ]
  },
  {
   "cell_type": "code",
   "execution_count": 20,
   "metadata": {},
   "outputs": [
    {
     "data": {
      "text/html": [
       "<div>\n",
       "<style scoped>\n",
       "    .dataframe tbody tr th:only-of-type {\n",
       "        vertical-align: middle;\n",
       "    }\n",
       "\n",
       "    .dataframe tbody tr th {\n",
       "        vertical-align: top;\n",
       "    }\n",
       "\n",
       "    .dataframe thead th {\n",
       "        text-align: right;\n",
       "    }\n",
       "</style>\n",
       "<table border=\"1\" class=\"dataframe\">\n",
       "  <thead>\n",
       "    <tr style=\"text-align: right;\">\n",
       "      <th></th>\n",
       "      <th>実測値</th>\n",
       "      <th>予測値</th>\n",
       "      <th>キーワード1</th>\n",
       "      <th>キーワード2</th>\n",
       "    </tr>\n",
       "  </thead>\n",
       "  <tbody>\n",
       "    <tr>\n",
       "      <th>3703880</th>\n",
       "      <td>953.0</td>\n",
       "      <td>-0.400691</td>\n",
       "      <td>task analysis</td>\n",
       "      <td>training</td>\n",
       "    </tr>\n",
       "    <tr>\n",
       "      <th>1740315</th>\n",
       "      <td>224.0</td>\n",
       "      <td>0.589162</td>\n",
       "      <td>internet of things</td>\n",
       "      <td>task analysis</td>\n",
       "    </tr>\n",
       "    <tr>\n",
       "      <th>744974</th>\n",
       "      <td>168.0</td>\n",
       "      <td>-0.850788</td>\n",
       "      <td>deconvolution</td>\n",
       "      <td>task analysis</td>\n",
       "    </tr>\n",
       "    <tr>\n",
       "      <th>741952</th>\n",
       "      <td>154.0</td>\n",
       "      <td>0.270057</td>\n",
       "      <td>decoding</td>\n",
       "      <td>task analysis</td>\n",
       "    </tr>\n",
       "    <tr>\n",
       "      <th>459010</th>\n",
       "      <td>149.0</td>\n",
       "      <td>1.255261</td>\n",
       "      <td>complexity theory</td>\n",
       "      <td>mimo communication</td>\n",
       "    </tr>\n",
       "    <tr>\n",
       "      <th>2163214</th>\n",
       "      <td>144.0</td>\n",
       "      <td>-0.214728</td>\n",
       "      <td>mobile handsets</td>\n",
       "      <td>task analysis</td>\n",
       "    </tr>\n",
       "    <tr>\n",
       "      <th>77476</th>\n",
       "      <td>115.0</td>\n",
       "      <td>-0.880878</td>\n",
       "      <td>analytical models</td>\n",
       "      <td>task analysis</td>\n",
       "    </tr>\n",
       "    <tr>\n",
       "      <th>3035679</th>\n",
       "      <td>110.0</td>\n",
       "      <td>-0.313719</td>\n",
       "      <td>remote sensing</td>\n",
       "      <td>task analysis</td>\n",
       "    </tr>\n",
       "    <tr>\n",
       "      <th>3538568</th>\n",
       "      <td>104.0</td>\n",
       "      <td>0.409438</td>\n",
       "      <td>standards</td>\n",
       "      <td>task analysis</td>\n",
       "    </tr>\n",
       "    <tr>\n",
       "      <th>459545</th>\n",
       "      <td>98.0</td>\n",
       "      <td>0.447914</td>\n",
       "      <td>complexity theory</td>\n",
       "      <td>task analysis</td>\n",
       "    </tr>\n",
       "    <tr>\n",
       "      <th>2988026</th>\n",
       "      <td>95.0</td>\n",
       "      <td>-0.746033</td>\n",
       "      <td>recurrent neural networks</td>\n",
       "      <td>task analysis</td>\n",
       "    </tr>\n",
       "    <tr>\n",
       "      <th>1607949</th>\n",
       "      <td>93.0</td>\n",
       "      <td>-0.756308</td>\n",
       "      <td>indexes</td>\n",
       "      <td>task analysis</td>\n",
       "    </tr>\n",
       "    <tr>\n",
       "      <th>3703881</th>\n",
       "      <td>93.0</td>\n",
       "      <td>-0.701091</td>\n",
       "      <td>task analysis</td>\n",
       "      <td>training data</td>\n",
       "    </tr>\n",
       "    <tr>\n",
       "      <th>459224</th>\n",
       "      <td>86.0</td>\n",
       "      <td>0.911123</td>\n",
       "      <td>complexity theory</td>\n",
       "      <td>precoding</td>\n",
       "    </tr>\n",
       "    <tr>\n",
       "      <th>2735553</th>\n",
       "      <td>80.0</td>\n",
       "      <td>-0.462064</td>\n",
       "      <td>privacy</td>\n",
       "      <td>task analysis</td>\n",
       "    </tr>\n",
       "    <tr>\n",
       "      <th>1568425</th>\n",
       "      <td>75.0</td>\n",
       "      <td>-0.226786</td>\n",
       "      <td>image reconstruction</td>\n",
       "      <td>task analysis</td>\n",
       "    </tr>\n",
       "    <tr>\n",
       "      <th>575998</th>\n",
       "      <td>69.0</td>\n",
       "      <td>-0.899155</td>\n",
       "      <td>context modeling</td>\n",
       "      <td>task analysis</td>\n",
       "    </tr>\n",
       "    <tr>\n",
       "      <th>1621741</th>\n",
       "      <td>68.0</td>\n",
       "      <td>-0.882196</td>\n",
       "      <td>informatics</td>\n",
       "      <td>task analysis</td>\n",
       "    </tr>\n",
       "    <tr>\n",
       "      <th>3255895</th>\n",
       "      <td>67.0</td>\n",
       "      <td>-0.062169</td>\n",
       "      <td>service robots</td>\n",
       "      <td>task analysis</td>\n",
       "    </tr>\n",
       "    <tr>\n",
       "      <th>1566975</th>\n",
       "      <td>67.0</td>\n",
       "      <td>-0.745793</td>\n",
       "      <td>image recognition</td>\n",
       "      <td>task analysis</td>\n",
       "    </tr>\n",
       "  </tbody>\n",
       "</table>\n",
       "</div>"
      ],
      "text/plain": [
       "           実測値       予測値                     キーワード1              キーワード2\n",
       "3703880  953.0 -0.400691              task analysis            training\n",
       "1740315  224.0  0.589162         internet of things       task analysis\n",
       "744974   168.0 -0.850788              deconvolution       task analysis\n",
       "741952   154.0  0.270057                   decoding       task analysis\n",
       "459010   149.0  1.255261          complexity theory  mimo communication\n",
       "2163214  144.0 -0.214728            mobile handsets       task analysis\n",
       "77476    115.0 -0.880878          analytical models       task analysis\n",
       "3035679  110.0 -0.313719             remote sensing       task analysis\n",
       "3538568  104.0  0.409438                  standards       task analysis\n",
       "459545    98.0  0.447914          complexity theory       task analysis\n",
       "2988026   95.0 -0.746033  recurrent neural networks       task analysis\n",
       "1607949   93.0 -0.756308                    indexes       task analysis\n",
       "3703881   93.0 -0.701091              task analysis       training data\n",
       "459224    86.0  0.911123          complexity theory           precoding\n",
       "2735553   80.0 -0.462064                    privacy       task analysis\n",
       "1568425   75.0 -0.226786       image reconstruction       task analysis\n",
       "575998    69.0 -0.899155           context modeling       task analysis\n",
       "1621741   68.0 -0.882196                informatics       task analysis\n",
       "3255895   67.0 -0.062169             service robots       task analysis\n",
       "1566975   67.0 -0.745793          image recognition       task analysis"
      ]
     },
     "execution_count": 20,
     "metadata": {},
     "output_type": "execute_result"
    }
   ],
   "source": [
    "df.sort_values(\"実測値\", ascending=False, inplace=True)\n",
    "df.head(20)"
   ]
  },
  {
   "cell_type": "code",
   "execution_count": null,
   "metadata": {},
   "outputs": [],
   "source": []
  },
  {
   "cell_type": "markdown",
   "metadata": {},
   "source": [
    "# 人気度"
   ]
  },
  {
   "cell_type": "code",
   "execution_count": 22,
   "metadata": {},
   "outputs": [
    {
     "data": {
      "text/plain": [
       "((2275, 2275, 23), (2275, 2275), (2275, 2275, 23), (2275, 2275))"
      ]
     },
     "execution_count": 22,
     "metadata": {},
     "output_type": "execute_result"
    }
   ],
   "source": [
    "train_x = np.load(DATAPATH + \"train_x.npy\")\n",
    "train_y = np.load(DATAPATH + \"train_y_diff.npy\")\n",
    "\n",
    "test_x = np.load(DATAPATH + \"test_x.npy\")\n",
    "test_y = np.load(DATAPATH + \"test_y_diff.npy\")\n",
    "train_x.shape, train_y.shape, test_x.shape, test_y.shape"
   ]
  },
  {
   "cell_type": "code",
   "execution_count": 23,
   "metadata": {},
   "outputs": [
    {
     "data": {
      "text/plain": [
       "((2586675, 23), (2586675,), (2586675, 23), (2586675,))"
      ]
     },
     "execution_count": 23,
     "metadata": {},
     "output_type": "execute_result"
    }
   ],
   "source": [
    "train_x, train_y, test_x, test_y = train_x[np.triu_indices(n=N, k=1)], train_y[np.triu_indices(n=N, k=1)], test_x[np.triu_indices(n=N, k=1)], test_y[np.triu_indices(n=N, k=1)]\n",
    "train_x.shape, train_y.shape, test_x.shape, test_y.shape"
   ]
  },
  {
   "cell_type": "code",
   "execution_count": 24,
   "metadata": {},
   "outputs": [
    {
     "name": "stdout",
     "output_type": "stream",
     "text": [
      "フィッティング時間: 1279.5759703032672\n",
      "スコア時間: 3.140917833894491\n"
     ]
    }
   ],
   "source": [
    "model = MLPRegressor()\n",
    "start_time = time.perf_counter()\n",
    "model.fit(train_x, train_y)\n",
    "print(\"フィッティング時間: {}\".format(time.perf_counter() - start_time))\n",
    "start_time = time.perf_counter()\n",
    "model.score(test_x, test_y)\n",
    "print(\"スコア時間: {}\".format(time.perf_counter() - start_time))\n",
    "result = model.predict(test_x)\n",
    "result_before = model.predict(train_x)"
   ]
  },
  {
   "cell_type": "code",
   "execution_count": 25,
   "metadata": {},
   "outputs": [
    {
     "name": "stdout",
     "output_type": "stream",
     "text": [
      "RMSE: 10.272, MSE: 105.515, 相関係数: 0.785\n"
     ]
    }
   ],
   "source": [
    "print(\"RMSE: {}, MSE: {}, 相関係数: {}\".format(\n",
    "    round(np.sqrt(mean_squared_error(result_before, train_y)),3), \n",
    "    round(mean_squared_error(result_before, train_y),3),\n",
    "    round(pearsonr(result_before, train_y)[0],3)))"
   ]
  },
  {
   "cell_type": "code",
   "execution_count": 26,
   "metadata": {},
   "outputs": [
    {
     "name": "stdout",
     "output_type": "stream",
     "text": [
      "RMSE: 6.273, MSE: 39.345, 相関係数: 0.93\n"
     ]
    }
   ],
   "source": [
    "print(\"RMSE: {}, MSE: {}, 相関係数: {}\".format(\n",
    "    round(np.sqrt(mean_squared_error(result, test_y)),3), \n",
    "    round(mean_squared_error(result, test_y),3),\n",
    "    round(pearsonr(result, test_y)[0],3)))"
   ]
  },
  {
   "cell_type": "code",
   "execution_count": 27,
   "metadata": {},
   "outputs": [
    {
     "data": {
      "text/plain": [
       "0.75"
      ]
     },
     "execution_count": 27,
     "metadata": {},
     "output_type": "execute_result"
    }
   ],
   "source": [
    "df = pd.DataFrame(result, columns=[\"予測\"])\n",
    "df[\"実測\"] = test_y\n",
    "df[\"予測順位\"] = df[\"予測\"].rank(ascending=True)\n",
    "df[\"実測順位\"] = df[\"実測\"].rank(ascending=True)\n",
    "df = df.sort_values(\"予測順位\", )\n",
    "top = df.head(100)\n",
    "len(top[top[\"実測順位\"]<100]) / len(top)"
   ]
  },
  {
   "cell_type": "code",
   "execution_count": 28,
   "metadata": {},
   "outputs": [
    {
     "data": {
      "image/png": "[encoded data removed]",
      "text/plain": [
       "<Figure size 864x576 with 1 Axes>"
      ]
     },
     "metadata": {},
     "output_type": "display_data"
    }
   ],
   "source": [
    "fig, ax = plt.subplots(facecolor=\"white\",figsize=(12,8))\n",
    "ax.scatter(test_y, result, alpha=0.3)\n",
    "ax.set_xlabel(\"実際の論文数\")\n",
    "ax.set_ylabel(\"予測の論文数\")\n",
    "ax.grid()\n",
    "ax.set_title(\"線形回帰\")\n",
    "fig.savefig(OUTPUTPATH+\"img/lr_diff.png\")\n",
    "fig.show()"
   ]
  },
  {
   "cell_type": "code",
   "execution_count": 29,
   "metadata": {},
   "outputs": [
    {
     "data": {
      "image/png": "[encoded data removed]",
      "text/plain": [
       "<Figure size 864x576 with 1 Axes>"
      ]
     },
     "metadata": {},
     "output_type": "display_data"
    }
   ],
   "source": [
    "fig, ax = plt.subplots(facecolor=\"white\",figsize=(12,8))\n",
    "ax.scatter(train_y, result_before, alpha=0.3)\n",
    "ax.set_xlabel(\"実際の論文数\")\n",
    "ax.set_ylabel(\"予測の論文数\")\n",
    "ax.grid()\n",
    "ax.set_title(\"線形回帰\")\n",
    "# fig.savefig(OUTPUTPATH+\"img/gbm.png\")\n",
    "fig.show()"
   ]
  },
  {
   "cell_type": "code",
   "execution_count": 30,
   "metadata": {},
   "outputs": [
    {
     "name": "stdout",
     "output_type": "stream",
     "text": [
      "キーワード: algorithm, bioinformatics, 予測値: -3223.3, 実測値: -3231.0\n",
      "キーワード: algorithm, microarrays, 予測値: -2155.4, 実測値: -2223.0\n",
      "キーワード: bioinformatics, biomedical research, 予測値: -2529.5, 実測値: -2723.0\n",
      "キーワード: bioinformatics, microarrays, 予測値: -2139.1, 実測値: -2217.0\n",
      "キーワード: feature extraction, image classification, 予測値: -2665.9, 実測値: -2556.0\n",
      "キーワード: feature extraction, support vector machine, 予測値: -2334.7, 実測値: -1718.0\n",
      "キーワード: field programmable gate array, fpga, 予測値: -2242.6, 実測値: -2088.0\n",
      "キーワード: learning (artificial intelligence, machine learning, 予測値: -2220.4, 実測値: -2054.0\n",
      "キーワード: mobile communications, mobile computing, 予測値: -2115.7, 実測値: -2464.0\n",
      "キーワード: qos, quality of service, 予測値: -2246.8, 実測値: -2074.0\n"
     ]
    }
   ],
   "source": [
    "predict_matrix = np.zeros([N,N]) \n",
    "correct_matrix = np.zeros([N,N]) \n",
    "correct_matrix[np.triu_indices(n=N, k=1)] = test_y\n",
    "predict_matrix[np.triu_indices(n=N, k=1)] = model.predict(test_x)\n",
    "for i in range(N):\n",
    "    for j in range(N):\n",
    "        if predict_matrix[i][j] < -2000:\n",
    "            print(\"キーワード: {}, {}, 予測値: {}, 実測値: {}\".format(keywords[i], keywords[j],round(predict_matrix[i][j],1), correct_matrix[i][j]))"
   ]
  },
  {
   "cell_type": "code",
   "execution_count": 31,
   "metadata": {},
   "outputs": [],
   "source": [
    "correct_new = correct_matrix[np.where(bool_matrix==0)]\n",
    "predict_new = predict_matrix[np.where(bool_matrix==0)]\n",
    "word_new = word_matrix[np.where(bool_matrix==0)]"
   ]
  },
  {
   "cell_type": "code",
   "execution_count": 32,
   "metadata": {},
   "outputs": [
    {
     "data": {
      "text/html": [
       "<div>\n",
       "<style scoped>\n",
       "    .dataframe tbody tr th:only-of-type {\n",
       "        vertical-align: middle;\n",
       "    }\n",
       "\n",
       "    .dataframe tbody tr th {\n",
       "        vertical-align: top;\n",
       "    }\n",
       "\n",
       "    .dataframe thead th {\n",
       "        text-align: right;\n",
       "    }\n",
       "</style>\n",
       "<table border=\"1\" class=\"dataframe\">\n",
       "  <thead>\n",
       "    <tr style=\"text-align: right;\">\n",
       "      <th></th>\n",
       "      <th>実測値</th>\n",
       "      <th>予測値</th>\n",
       "      <th>キーワード1</th>\n",
       "      <th>キーワード2</th>\n",
       "    </tr>\n",
       "  </thead>\n",
       "  <tbody>\n",
       "    <tr>\n",
       "      <th>0</th>\n",
       "      <td>0.0</td>\n",
       "      <td>0.000000</td>\n",
       "      <td>3d imaging</td>\n",
       "      <td>3d imaging</td>\n",
       "    </tr>\n",
       "    <tr>\n",
       "      <th>1</th>\n",
       "      <td>0.0</td>\n",
       "      <td>-0.212418</td>\n",
       "      <td>3d imaging</td>\n",
       "      <td>a priori knowledge</td>\n",
       "    </tr>\n",
       "    <tr>\n",
       "      <th>2</th>\n",
       "      <td>0.0</td>\n",
       "      <td>1.483278</td>\n",
       "      <td>3d imaging</td>\n",
       "      <td>accelerometers</td>\n",
       "    </tr>\n",
       "    <tr>\n",
       "      <th>3</th>\n",
       "      <td>0.0</td>\n",
       "      <td>0.059451</td>\n",
       "      <td>3d imaging</td>\n",
       "      <td>access control</td>\n",
       "    </tr>\n",
       "    <tr>\n",
       "      <th>4</th>\n",
       "      <td>0.0</td>\n",
       "      <td>1.180546</td>\n",
       "      <td>3d imaging</td>\n",
       "      <td>access network</td>\n",
       "    </tr>\n",
       "  </tbody>\n",
       "</table>\n",
       "</div>"
      ],
      "text/plain": [
       "   実測値       予測値      キーワード1              キーワード2\n",
       "0  0.0  0.000000  3d imaging          3d imaging\n",
       "1  0.0 -0.212418  3d imaging  a priori knowledge\n",
       "2  0.0  1.483278  3d imaging      accelerometers\n",
       "3  0.0  0.059451  3d imaging      access control\n",
       "4  0.0  1.180546  3d imaging      access network"
      ]
     },
     "execution_count": 32,
     "metadata": {},
     "output_type": "execute_result"
    }
   ],
   "source": [
    "df = pd.DataFrame(correct_new, columns=[\"実測値\"])\n",
    "df[\"予測値\"] = predict_new\n",
    "df[\"キーワード1\"] = word_new[:,0]\n",
    "df[\"キーワード2\"] = word_new[:,1]\n",
    "df.head()"
   ]
  },
  {
   "cell_type": "code",
   "execution_count": 33,
   "metadata": {},
   "outputs": [
    {
     "data": {
      "text/html": [
       "<div>\n",
       "<style scoped>\n",
       "    .dataframe tbody tr th:only-of-type {\n",
       "        vertical-align: middle;\n",
       "    }\n",
       "\n",
       "    .dataframe tbody tr th {\n",
       "        vertical-align: top;\n",
       "    }\n",
       "\n",
       "    .dataframe thead th {\n",
       "        text-align: right;\n",
       "    }\n",
       "</style>\n",
       "<table border=\"1\" class=\"dataframe\">\n",
       "  <thead>\n",
       "    <tr style=\"text-align: right;\">\n",
       "      <th></th>\n",
       "      <th>実測値</th>\n",
       "      <th>予測値</th>\n",
       "      <th>キーワード1</th>\n",
       "      <th>キーワード2</th>\n",
       "    </tr>\n",
       "  </thead>\n",
       "  <tbody>\n",
       "    <tr>\n",
       "      <th>1384981</th>\n",
       "      <td>0.0</td>\n",
       "      <td>7.598045</td>\n",
       "      <td>graph g</td>\n",
       "      <td>optimisation</td>\n",
       "    </tr>\n",
       "    <tr>\n",
       "      <th>269275</th>\n",
       "      <td>0.0</td>\n",
       "      <td>7.484563</td>\n",
       "      <td>boundary value problem</td>\n",
       "      <td>data mining</td>\n",
       "    </tr>\n",
       "    <tr>\n",
       "      <th>687097</th>\n",
       "      <td>2.0</td>\n",
       "      <td>6.497961</td>\n",
       "      <td>data mining</td>\n",
       "      <td>frequency</td>\n",
       "    </tr>\n",
       "    <tr>\n",
       "      <th>509458</th>\n",
       "      <td>0.0</td>\n",
       "      <td>5.611231</td>\n",
       "      <td>computer science</td>\n",
       "      <td>frequency</td>\n",
       "    </tr>\n",
       "    <tr>\n",
       "      <th>92795</th>\n",
       "      <td>0.0</td>\n",
       "      <td>5.545709</td>\n",
       "      <td>application software</td>\n",
       "      <td>generic algorithm</td>\n",
       "    </tr>\n",
       "    <tr>\n",
       "      <th>93353</th>\n",
       "      <td>0.0</td>\n",
       "      <td>5.523386</td>\n",
       "      <td>application software</td>\n",
       "      <td>probability</td>\n",
       "    </tr>\n",
       "    <tr>\n",
       "      <th>2510708</th>\n",
       "      <td>0.0</td>\n",
       "      <td>5.464705</td>\n",
       "      <td>optimisation</td>\n",
       "      <td>space technology</td>\n",
       "    </tr>\n",
       "    <tr>\n",
       "      <th>93011</th>\n",
       "      <td>0.0</td>\n",
       "      <td>5.295597</td>\n",
       "      <td>application software</td>\n",
       "      <td>learning (artificial intelligenc</td>\n",
       "    </tr>\n",
       "    <tr>\n",
       "      <th>93094</th>\n",
       "      <td>0.0</td>\n",
       "      <td>5.289917</td>\n",
       "      <td>application software</td>\n",
       "      <td>measurement</td>\n",
       "    </tr>\n",
       "    <tr>\n",
       "      <th>93526</th>\n",
       "      <td>0.0</td>\n",
       "      <td>5.091671</td>\n",
       "      <td>application software</td>\n",
       "      <td>sensor</td>\n",
       "    </tr>\n",
       "    <tr>\n",
       "      <th>93346</th>\n",
       "      <td>0.0</td>\n",
       "      <td>5.083646</td>\n",
       "      <td>application software</td>\n",
       "      <td>predictive models</td>\n",
       "    </tr>\n",
       "    <tr>\n",
       "      <th>92978</th>\n",
       "      <td>0.0</td>\n",
       "      <td>5.038735</td>\n",
       "      <td>application software</td>\n",
       "      <td>iterative method</td>\n",
       "    </tr>\n",
       "    <tr>\n",
       "      <th>93754</th>\n",
       "      <td>0.0</td>\n",
       "      <td>5.030357</td>\n",
       "      <td>application software</td>\n",
       "      <td>uncertainty</td>\n",
       "    </tr>\n",
       "    <tr>\n",
       "      <th>93660</th>\n",
       "      <td>0.0</td>\n",
       "      <td>5.022527</td>\n",
       "      <td>application software</td>\n",
       "      <td>switches</td>\n",
       "    </tr>\n",
       "    <tr>\n",
       "      <th>1610624</th>\n",
       "      <td>0.0</td>\n",
       "      <td>5.014515</td>\n",
       "      <td>indexing terms</td>\n",
       "      <td>informatics</td>\n",
       "    </tr>\n",
       "    <tr>\n",
       "      <th>93667</th>\n",
       "      <td>0.0</td>\n",
       "      <td>5.013212</td>\n",
       "      <td>application software</td>\n",
       "      <td>system performance</td>\n",
       "    </tr>\n",
       "    <tr>\n",
       "      <th>93536</th>\n",
       "      <td>0.0</td>\n",
       "      <td>4.988385</td>\n",
       "      <td>application software</td>\n",
       "      <td>shape</td>\n",
       "    </tr>\n",
       "    <tr>\n",
       "      <th>92368</th>\n",
       "      <td>0.0</td>\n",
       "      <td>4.959833</td>\n",
       "      <td>application software</td>\n",
       "      <td>clustering algorithm</td>\n",
       "    </tr>\n",
       "    <tr>\n",
       "      <th>92452</th>\n",
       "      <td>0.0</td>\n",
       "      <td>4.955510</td>\n",
       "      <td>application software</td>\n",
       "      <td>convergence</td>\n",
       "    </tr>\n",
       "    <tr>\n",
       "      <th>447275</th>\n",
       "      <td>0.0</td>\n",
       "      <td>4.946027</td>\n",
       "      <td>competitive ratio</td>\n",
       "      <td>data mining</td>\n",
       "    </tr>\n",
       "  </tbody>\n",
       "</table>\n",
       "</div>"
      ],
      "text/plain": [
       "         実測値       予測値                  キーワード1  \\\n",
       "1384981  0.0  7.598045                 graph g   \n",
       "269275   0.0  7.484563  boundary value problem   \n",
       "687097   2.0  6.497961             data mining   \n",
       "509458   0.0  5.611231        computer science   \n",
       "92795    0.0  5.545709    application software   \n",
       "93353    0.0  5.523386    application software   \n",
       "2510708  0.0  5.464705            optimisation   \n",
       "93011    0.0  5.295597    application software   \n",
       "93094    0.0  5.289917    application software   \n",
       "93526    0.0  5.091671    application software   \n",
       "93346    0.0  5.083646    application software   \n",
       "92978    0.0  5.038735    application software   \n",
       "93754    0.0  5.030357    application software   \n",
       "93660    0.0  5.022527    application software   \n",
       "1610624  0.0  5.014515          indexing terms   \n",
       "93667    0.0  5.013212    application software   \n",
       "93536    0.0  4.988385    application software   \n",
       "92368    0.0  4.959833    application software   \n",
       "92452    0.0  4.955510    application software   \n",
       "447275   0.0  4.946027       competitive ratio   \n",
       "\n",
       "                                   キーワード2  \n",
       "1384981                      optimisation  \n",
       "269275                        data mining  \n",
       "687097                          frequency  \n",
       "509458                          frequency  \n",
       "92795                   generic algorithm  \n",
       "93353                         probability  \n",
       "2510708                  space technology  \n",
       "93011    learning (artificial intelligenc  \n",
       "93094                         measurement  \n",
       "93526                              sensor  \n",
       "93346                   predictive models  \n",
       "92978                    iterative method  \n",
       "93754                         uncertainty  \n",
       "93660                            switches  \n",
       "1610624                       informatics  \n",
       "93667                  system performance  \n",
       "93536                               shape  \n",
       "92368                clustering algorithm  \n",
       "92452                         convergence  \n",
       "447275                        data mining  "
      ]
     },
     "execution_count": 33,
     "metadata": {},
     "output_type": "execute_result"
    }
   ],
   "source": [
    "df.sort_values(\"予測値\", ascending=False, inplace=True)\n",
    "df.head(20)"
   ]
  },
  {
   "cell_type": "code",
   "execution_count": 34,
   "metadata": {},
   "outputs": [
    {
     "data": {
      "text/html": [
       "<div>\n",
       "<style scoped>\n",
       "    .dataframe tbody tr th:only-of-type {\n",
       "        vertical-align: middle;\n",
       "    }\n",
       "\n",
       "    .dataframe tbody tr th {\n",
       "        vertical-align: top;\n",
       "    }\n",
       "\n",
       "    .dataframe thead th {\n",
       "        text-align: right;\n",
       "    }\n",
       "</style>\n",
       "<table border=\"1\" class=\"dataframe\">\n",
       "  <thead>\n",
       "    <tr style=\"text-align: right;\">\n",
       "      <th></th>\n",
       "      <th>実測値</th>\n",
       "      <th>予測値</th>\n",
       "      <th>キーワード1</th>\n",
       "      <th>キーワード2</th>\n",
       "    </tr>\n",
       "  </thead>\n",
       "  <tbody>\n",
       "    <tr>\n",
       "      <th>3703880</th>\n",
       "      <td>953.0</td>\n",
       "      <td>0.389565</td>\n",
       "      <td>task analysis</td>\n",
       "      <td>training</td>\n",
       "    </tr>\n",
       "    <tr>\n",
       "      <th>1740315</th>\n",
       "      <td>224.0</td>\n",
       "      <td>1.610069</td>\n",
       "      <td>internet of things</td>\n",
       "      <td>task analysis</td>\n",
       "    </tr>\n",
       "    <tr>\n",
       "      <th>744974</th>\n",
       "      <td>168.0</td>\n",
       "      <td>-0.182245</td>\n",
       "      <td>deconvolution</td>\n",
       "      <td>task analysis</td>\n",
       "    </tr>\n",
       "    <tr>\n",
       "      <th>741952</th>\n",
       "      <td>154.0</td>\n",
       "      <td>0.219232</td>\n",
       "      <td>decoding</td>\n",
       "      <td>task analysis</td>\n",
       "    </tr>\n",
       "    <tr>\n",
       "      <th>459010</th>\n",
       "      <td>149.0</td>\n",
       "      <td>2.048173</td>\n",
       "      <td>complexity theory</td>\n",
       "      <td>mimo communication</td>\n",
       "    </tr>\n",
       "    <tr>\n",
       "      <th>2163214</th>\n",
       "      <td>144.0</td>\n",
       "      <td>1.309030</td>\n",
       "      <td>mobile handsets</td>\n",
       "      <td>task analysis</td>\n",
       "    </tr>\n",
       "    <tr>\n",
       "      <th>77476</th>\n",
       "      <td>115.0</td>\n",
       "      <td>-0.315426</td>\n",
       "      <td>analytical models</td>\n",
       "      <td>task analysis</td>\n",
       "    </tr>\n",
       "    <tr>\n",
       "      <th>3035679</th>\n",
       "      <td>110.0</td>\n",
       "      <td>0.232986</td>\n",
       "      <td>remote sensing</td>\n",
       "      <td>task analysis</td>\n",
       "    </tr>\n",
       "    <tr>\n",
       "      <th>3538568</th>\n",
       "      <td>104.0</td>\n",
       "      <td>1.591638</td>\n",
       "      <td>standards</td>\n",
       "      <td>task analysis</td>\n",
       "    </tr>\n",
       "    <tr>\n",
       "      <th>459545</th>\n",
       "      <td>98.0</td>\n",
       "      <td>1.551091</td>\n",
       "      <td>complexity theory</td>\n",
       "      <td>task analysis</td>\n",
       "    </tr>\n",
       "    <tr>\n",
       "      <th>2988026</th>\n",
       "      <td>95.0</td>\n",
       "      <td>-0.008809</td>\n",
       "      <td>recurrent neural networks</td>\n",
       "      <td>task analysis</td>\n",
       "    </tr>\n",
       "    <tr>\n",
       "      <th>1607949</th>\n",
       "      <td>93.0</td>\n",
       "      <td>-0.299958</td>\n",
       "      <td>indexes</td>\n",
       "      <td>task analysis</td>\n",
       "    </tr>\n",
       "    <tr>\n",
       "      <th>3703881</th>\n",
       "      <td>93.0</td>\n",
       "      <td>-0.004921</td>\n",
       "      <td>task analysis</td>\n",
       "      <td>training data</td>\n",
       "    </tr>\n",
       "    <tr>\n",
       "      <th>459224</th>\n",
       "      <td>86.0</td>\n",
       "      <td>1.790615</td>\n",
       "      <td>complexity theory</td>\n",
       "      <td>precoding</td>\n",
       "    </tr>\n",
       "    <tr>\n",
       "      <th>2735553</th>\n",
       "      <td>80.0</td>\n",
       "      <td>-0.201460</td>\n",
       "      <td>privacy</td>\n",
       "      <td>task analysis</td>\n",
       "    </tr>\n",
       "    <tr>\n",
       "      <th>1568425</th>\n",
       "      <td>75.0</td>\n",
       "      <td>0.333622</td>\n",
       "      <td>image reconstruction</td>\n",
       "      <td>task analysis</td>\n",
       "    </tr>\n",
       "    <tr>\n",
       "      <th>575998</th>\n",
       "      <td>69.0</td>\n",
       "      <td>-0.720035</td>\n",
       "      <td>context modeling</td>\n",
       "      <td>task analysis</td>\n",
       "    </tr>\n",
       "    <tr>\n",
       "      <th>1621741</th>\n",
       "      <td>68.0</td>\n",
       "      <td>-0.698343</td>\n",
       "      <td>informatics</td>\n",
       "      <td>task analysis</td>\n",
       "    </tr>\n",
       "    <tr>\n",
       "      <th>1566975</th>\n",
       "      <td>67.0</td>\n",
       "      <td>-0.285399</td>\n",
       "      <td>image recognition</td>\n",
       "      <td>task analysis</td>\n",
       "    </tr>\n",
       "    <tr>\n",
       "      <th>3255895</th>\n",
       "      <td>67.0</td>\n",
       "      <td>0.357182</td>\n",
       "      <td>service robots</td>\n",
       "      <td>task analysis</td>\n",
       "    </tr>\n",
       "  </tbody>\n",
       "</table>\n",
       "</div>"
      ],
      "text/plain": [
       "           実測値       予測値                     キーワード1              キーワード2\n",
       "3703880  953.0  0.389565              task analysis            training\n",
       "1740315  224.0  1.610069         internet of things       task analysis\n",
       "744974   168.0 -0.182245              deconvolution       task analysis\n",
       "741952   154.0  0.219232                   decoding       task analysis\n",
       "459010   149.0  2.048173          complexity theory  mimo communication\n",
       "2163214  144.0  1.309030            mobile handsets       task analysis\n",
       "77476    115.0 -0.315426          analytical models       task analysis\n",
       "3035679  110.0  0.232986             remote sensing       task analysis\n",
       "3538568  104.0  1.591638                  standards       task analysis\n",
       "459545    98.0  1.551091          complexity theory       task analysis\n",
       "2988026   95.0 -0.008809  recurrent neural networks       task analysis\n",
       "1607949   93.0 -0.299958                    indexes       task analysis\n",
       "3703881   93.0 -0.004921              task analysis       training data\n",
       "459224    86.0  1.790615          complexity theory           precoding\n",
       "2735553   80.0 -0.201460                    privacy       task analysis\n",
       "1568425   75.0  0.333622       image reconstruction       task analysis\n",
       "575998    69.0 -0.720035           context modeling       task analysis\n",
       "1621741   68.0 -0.698343                informatics       task analysis\n",
       "1566975   67.0 -0.285399          image recognition       task analysis\n",
       "3255895   67.0  0.357182             service robots       task analysis"
      ]
     },
     "execution_count": 34,
     "metadata": {},
     "output_type": "execute_result"
    }
   ],
   "source": [
    "df.sort_values(\"実測値\", ascending=False, inplace=True)\n",
    "df.head(20)"
   ]
  },
  {
   "cell_type": "code",
   "execution_count": 35,
   "metadata": {},
   "outputs": [
    {
     "data": {
      "text/plain": [
       "4211183"
      ]
     },
     "execution_count": 35,
     "metadata": {},
     "output_type": "execute_result"
    }
   ],
   "source": [
    "len(df)"
   ]
  },
  {
   "cell_type": "code",
   "execution_count": null,
   "metadata": {},
   "outputs": [],
   "source": []
  }
 ],
 "metadata": {
  "interpreter": {
   "hash": "e5ac9074c40421cbf492f67471c5dc3e49846f397739518f542476e0deba3a6a"
  },
  "kernelspec": {
   "display_name": "Python 3.10.4 ('trend')",
   "language": "python",
   "name": "python3"
  },
  "language_info": {
   "codemirror_mode": {
    "name": "ipython",
    "version": 3
   },
   "file_extension": ".py",
   "mimetype": "text/x-python",
   "name": "python",
   "nbconvert_exporter": "python",
   "pygments_lexer": "ipython3",
   "version": "3.10.4"
  },
  "orig_nbformat": 4
 },
 "nbformat": 4,
 "nbformat_minor": 2
}
