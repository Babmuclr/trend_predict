{
 "cells": [
  {
   "cell_type": "markdown",
   "metadata": {},
   "source": [
    "# 特徴量エンジニアリング"
   ]
  },
  {
   "cell_type": "code",
   "execution_count": 1,
   "metadata": {},
   "outputs": [],
   "source": [
    "# import libraries\n",
    "\n",
    "import numpy as np\n",
    "import pandas as pd\n",
    "import gc\n",
    "import os\n",
    "import json\n",
    "from collections import Counter, defaultdict\n",
    "from tqdm.notebook import tqdm\n",
    "import matplotlib.pyplot as plt\n",
    "import matplotlib.dates as mdates\n",
    "%matplotlib inline\n",
    "import plotly.express as px\n",
    "import re\n",
    "import datetime as dt\n",
    "import japanize_matplotlib\n",
    "import itertools\n",
    "year_pattern = r'([1-2][0-9]{3})'"
   ]
  },
  {
   "cell_type": "code",
   "execution_count": 2,
   "metadata": {},
   "outputs": [],
   "source": [
    "DATAPATH = \"../../../data/\""
   ]
  },
  {
   "cell_type": "code",
   "execution_count": 3,
   "metadata": {},
   "outputs": [
    {
     "data": {
      "text/plain": [
       "(2512, 'radiometry')"
      ]
     },
     "execution_count": 3,
     "metadata": {},
     "output_type": "execute_result"
    }
   ],
   "source": [
    "with open(DATAPATH + \"DBLP/keywords.txt\") as f:\n",
    "    keywords = list(map(lambda x: x.replace(\"\\n\", \"\"), f.readlines()))\n",
    "key_sets = set(keywords)\n",
    "len(keywords), keywords[0]"
   ]
  },
  {
   "cell_type": "code",
   "execution_count": 4,
   "metadata": {},
   "outputs": [],
   "source": [
    "word_dict = {}\n",
    "for num, kw in enumerate(keywords):\n",
    "    word_dict[kw] = num"
   ]
  },
  {
   "cell_type": "code",
   "execution_count": 5,
   "metadata": {},
   "outputs": [],
   "source": [
    "N = len(keywords)\n",
    "START_YEAR = 2000\n",
    "END_YEAR   = 2015\n",
    "YEAR_STD   = END_YEAR - START_YEAR "
   ]
  },
  {
   "cell_type": "code",
   "execution_count": 6,
   "metadata": {},
   "outputs": [
    {
     "data": {
      "text/plain": [
       "(2512, 2512, 21)"
      ]
     },
     "execution_count": 6,
     "metadata": {},
     "output_type": "execute_result"
    }
   ],
   "source": [
    "pathes = np.load(DATAPATH+\"DBLP/pathes.npy\")\n",
    "pathes.shape"
   ]
  },
  {
   "cell_type": "code",
   "execution_count": 7,
   "metadata": {},
   "outputs": [
    {
     "data": {
      "text/plain": [
       "((2512, 2512, 11), (2512, 2512, 10), (2512, 2512, 9))"
      ]
     },
     "execution_count": 7,
     "metadata": {},
     "output_type": "execute_result"
    }
   ],
   "source": [
    "STD = 10\n",
    "pathes_s1, pathes_s2, pathes_s3 = pathes[:,:,:-STD], pathes[:,:,:-STD-1], pathes[:,:,:-STD-2]\n",
    "pathes_s1.shape, pathes_s2.shape, pathes_s3.shape"
   ]
  },
  {
   "cell_type": "markdown",
   "metadata": {},
   "source": [
    "## 隣接行列の作成"
   ]
  },
  {
   "cell_type": "code",
   "execution_count": 8,
   "metadata": {},
   "outputs": [
    {
     "data": {
      "text/plain": [
       "(2512, 2512)"
      ]
     },
     "execution_count": 8,
     "metadata": {},
     "output_type": "execute_result"
    }
   ],
   "source": [
    "pathes_sum1 = np.sum(pathes_s1, axis=2)\n",
    "pathes_sum2 = np.sum(pathes_s2, axis=2)\n",
    "pathes_sum3 = np.sum(pathes_s3, axis=2)\n",
    "# 厳密な隣接行列ではない\n",
    "adj = np.where(pathes_sum1 <= 0, 0, 1)\n",
    "adj_ex2, adj_ex3 = np.where(pathes_sum2 <= 0, 0, 1), np.where(pathes_sum3 <= 0, 0, 1)\n",
    "adj.shape"
   ]
  },
  {
   "cell_type": "markdown",
   "metadata": {},
   "source": [
    "## 次数の計算"
   ]
  },
  {
   "cell_type": "code",
   "execution_count": 9,
   "metadata": {},
   "outputs": [
    {
     "data": {
      "text/plain": [
       "(2512,)"
      ]
     },
     "execution_count": 9,
     "metadata": {},
     "output_type": "execute_result"
    }
   ],
   "source": [
    "degs1 = np.sum(adj, axis=0)\n",
    "degs2 = np.sum(adj, axis=1)\n",
    "degs = degs1 + degs2\n",
    "degs.shape"
   ]
  },
  {
   "cell_type": "code",
   "execution_count": 10,
   "metadata": {},
   "outputs": [
    {
     "data": {
      "text/plain": [
       "((2512, 2512), (2512, 2512))"
      ]
     },
     "execution_count": 10,
     "metadata": {},
     "output_type": "execute_result"
    }
   ],
   "source": [
    "degs1 = np.tile( degs, (N, 1))\n",
    "degs2 = degs1.T\n",
    "degs1.shape, degs2.shape"
   ]
  },
  {
   "cell_type": "code",
   "execution_count": 11,
   "metadata": {},
   "outputs": [],
   "source": [
    "keyword_dict = {}\n",
    "for deg, kw in zip(degs, keywords):\n",
    "    keyword_dict[kw] = deg"
   ]
  },
  {
   "cell_type": "code",
   "execution_count": 12,
   "metadata": {},
   "outputs": [
    {
     "data": {
      "image/png": "[encoded data removed]",
      "text/plain": [
       "<Figure size 1296x576 with 1 Axes>"
      ]
     },
     "metadata": {},
     "output_type": "display_data"
    }
   ],
   "source": [
    "plt.style.use(\"ggplot\")\n",
    "\n",
    "# FigureとAxesを作成\n",
    "fig, ax = plt.subplots(figsize=(18,8))\n",
    "\n",
    "# タイトルと軸ラベルを設定\n",
    "ax.set_title(\"各キーワードの次数\")\n",
    "ax.set_xlabel(\"ID\")\n",
    "ax.set_ylabel(\"次数\")\n",
    "\n",
    "# Axesに棒グラフを追加\n",
    "ax.bar(range(N), sorted(degs), width=1)\n",
    "\n",
    "plt.show()"
   ]
  },
  {
   "cell_type": "markdown",
   "metadata": {},
   "source": [
    "## 論文数"
   ]
  },
  {
   "cell_type": "code",
   "execution_count": 13,
   "metadata": {},
   "outputs": [
    {
     "data": {
      "text/plain": [
       "(2512,)"
      ]
     },
     "execution_count": 13,
     "metadata": {},
     "output_type": "execute_result"
    }
   ],
   "source": [
    "papers1 = np.sum(pathes_sum1, axis=0)\n",
    "papers2 = np.sum(pathes_sum1, axis=1)\n",
    "papers = papers1 + papers2\n",
    "papers.shape"
   ]
  },
  {
   "cell_type": "code",
   "execution_count": 14,
   "metadata": {},
   "outputs": [
    {
     "data": {
      "text/plain": [
       "((2512, 2512), (2512, 2512))"
      ]
     },
     "execution_count": 14,
     "metadata": {},
     "output_type": "execute_result"
    }
   ],
   "source": [
    "papers1 = np.tile( papers, (N, 1))\n",
    "papers2 = papers1.T\n",
    "papers1.shape, papers2.shape"
   ]
  },
  {
   "cell_type": "code",
   "execution_count": 15,
   "metadata": {},
   "outputs": [],
   "source": [
    "papers_dict = {}\n",
    "for paper, kw in zip(papers, keywords):\n",
    "    keyword_dict[kw] = paper"
   ]
  },
  {
   "cell_type": "code",
   "execution_count": 16,
   "metadata": {},
   "outputs": [
    {
     "data": {
      "image/png": "[encoded data removed]",
      "text/plain": [
       "<Figure size 1296x576 with 1 Axes>"
      ]
     },
     "metadata": {},
     "output_type": "display_data"
    }
   ],
   "source": [
    "plt.style.use(\"ggplot\")\n",
    "\n",
    "# FigureとAxesを作成\n",
    "fig, ax = plt.subplots(figsize=(18,8))\n",
    "\n",
    "# タイトルと軸ラベルを設定\n",
    "ax.set_title(\"各キーワードに関する論文数\")\n",
    "ax.set_xlabel(\"キーワードID\")\n",
    "ax.set_ylabel(\"論文数\")\n",
    "\n",
    "# Axesに棒グラフを追加\n",
    "ax.bar(range(N), sorted(papers), width=1)\n",
    "\n",
    "plt.show()"
   ]
  },
  {
   "cell_type": "markdown",
   "metadata": {},
   "source": [
    "## 距離n(=2,3,4)のノード数\n",
    "隣接行列の冪乗(n乗)は、距離nである各点から他の点までのルート数を表すことを利用する"
   ]
  },
  {
   "cell_type": "code",
   "execution_count": 17,
   "metadata": {},
   "outputs": [
    {
     "name": "stdout",
     "output_type": "stream",
     "text": [
      "グラフの密度は、0.505\n"
     ]
    }
   ],
   "source": [
    "adj = adj + adj.T\n",
    "print(\"グラフの密度は、{}\".format(round(np.sum(adj) / len(adj) / len(adj), 3)))"
   ]
  },
  {
   "cell_type": "markdown",
   "metadata": {},
   "source": [
    "かなり密なグラフ"
   ]
  },
  {
   "cell_type": "code",
   "execution_count": 18,
   "metadata": {},
   "outputs": [],
   "source": [
    "import dask.array as da"
   ]
  },
  {
   "cell_type": "code",
   "execution_count": 19,
   "metadata": {},
   "outputs": [
    {
     "data": {
      "text/plain": [
       "array([[0, 1, 1, ..., 1, 1, 0],\n",
       "       [1, 0, 1, ..., 1, 1, 1],\n",
       "       [1, 1, 0, ..., 1, 1, 0],\n",
       "       ...,\n",
       "       [1, 1, 1, ..., 0, 0, 0],\n",
       "       [1, 1, 1, ..., 0, 0, 0],\n",
       "       [0, 1, 0, ..., 0, 0, 0]])"
      ]
     },
     "execution_count": 19,
     "metadata": {},
     "output_type": "execute_result"
    }
   ],
   "source": [
    "adj"
   ]
  },
  {
   "cell_type": "code",
   "execution_count": 20,
   "metadata": {},
   "outputs": [
    {
     "name": "stdout",
     "output_type": "stream",
     "text": [
      "CPU times: user 1min 13s, sys: 920 ms, total: 1min 14s\n",
      "Wall time: 12 s\n"
     ]
    },
    {
     "data": {
      "text/plain": [
       "array([[ 789,  757,  529, ...,  389,  489,  259],\n",
       "       [ 757, 2264,  766, ...,  490,  833,  388],\n",
       "       [ 529,  766,  794, ...,  379,  446,  221],\n",
       "       ...,\n",
       "       [ 389,  490,  379, ...,  505,  337,  158],\n",
       "       [ 489,  833,  446, ...,  337,  876,  259],\n",
       "       [ 259,  388,  221, ...,  158,  259,  420]])"
      ]
     },
     "execution_count": 20,
     "metadata": {},
     "output_type": "execute_result"
    }
   ],
   "source": [
    "%%time\n",
    "def dadot(arr, p):\n",
    "    darr = da.from_array(arr, chunks=(1000,1000))\n",
    "    dadot = da.dot(darr, darr)\n",
    "    return dadot.compute()\n",
    "\n",
    "dadot(adj, 2)"
   ]
  },
  {
   "cell_type": "code",
   "execution_count": 21,
   "metadata": {},
   "outputs": [
    {
     "name": "stdout",
     "output_type": "stream",
     "text": [
      "CPU times: user 1min 15s, sys: 152 ms, total: 1min 15s\n",
      "Wall time: 1min 15s\n"
     ]
    },
    {
     "data": {
      "text/plain": [
       "array([[ 789,  757,  529, ...,  389,  489,  259],\n",
       "       [ 757, 2264,  766, ...,  490,  833,  388],\n",
       "       [ 529,  766,  794, ...,  379,  446,  221],\n",
       "       ...,\n",
       "       [ 389,  490,  379, ...,  505,  337,  158],\n",
       "       [ 489,  833,  446, ...,  337,  876,  259],\n",
       "       [ 259,  388,  221, ...,  158,  259,  420]])"
      ]
     },
     "execution_count": 21,
     "metadata": {},
     "output_type": "execute_result"
    }
   ],
   "source": [
    "%%time\n",
    "np.linalg.matrix_power(adj, 2)"
   ]
  },
  {
   "cell_type": "code",
   "execution_count": 22,
   "metadata": {},
   "outputs": [
    {
     "name": "stdout",
     "output_type": "stream",
     "text": [
      "CPU times: user 3min 42s, sys: 2.26 s, total: 3min 44s\n",
      "Wall time: 35.2 s\n"
     ]
    }
   ],
   "source": [
    "\n",
    "%%time\n",
    "adj2 = dadot(adj, 2)\n",
    "adj3 = dadot(adj, 3)\n",
    "adj4 = dadot(adj, 4)"
   ]
  },
  {
   "cell_type": "code",
   "execution_count": 23,
   "metadata": {},
   "outputs": [],
   "source": [
    "adj_ex2 = adj_ex2 + adj_ex2.T\n",
    "adj2_ex1 = dadot(adj_ex2, 2)\n",
    "adj3_ex1 = dadot(adj_ex2, 3)\n",
    "adj4_ex1 = dadot(adj_ex2, 4)"
   ]
  },
  {
   "cell_type": "code",
   "execution_count": 24,
   "metadata": {},
   "outputs": [],
   "source": [
    "adj_ex3 = adj_ex3 + adj_ex3.T\n",
    "adj2_ex2 = dadot(adj_ex3, 2)\n",
    "adj3_ex2 = dadot(adj_ex3, 3)\n",
    "adj4_ex2 = dadot(adj_ex3, 4)"
   ]
  },
  {
   "cell_type": "markdown",
   "metadata": {},
   "source": [
    "## 距離\n",
    "各ノード間の距離を求める"
   ]
  },
  {
   "cell_type": "code",
   "execution_count": 25,
   "metadata": {},
   "outputs": [],
   "source": [
    "import numpy as np\n",
    "from scipy.sparse.csgraph import shortest_path, floyd_warshall, dijkstra, bellman_ford, johnson\n",
    "from scipy.sparse import csr_matrix"
   ]
  },
  {
   "cell_type": "code",
   "execution_count": 26,
   "metadata": {},
   "outputs": [
    {
     "name": "stdout",
     "output_type": "stream",
     "text": [
      "CPU times: user 17.1 s, sys: 288 ms, total: 17.4 s\n",
      "Wall time: 17.3 s\n"
     ]
    },
    {
     "data": {
      "text/plain": [
       "(2512, 2512)"
      ]
     },
     "execution_count": 26,
     "metadata": {},
     "output_type": "execute_result"
    }
   ],
   "source": [
    "%%time\n",
    "distances = shortest_path(adj)\n",
    "distances.shape"
   ]
  },
  {
   "cell_type": "code",
   "execution_count": 27,
   "metadata": {},
   "outputs": [
    {
     "data": {
      "text/plain": [
       "(2512, 2512)"
      ]
     },
     "execution_count": 27,
     "metadata": {},
     "output_type": "execute_result"
    }
   ],
   "source": [
    "pathes_sum = pathes_sum1 + pathes_sum1.T\n",
    "distances2 = shortest_path(np.array(pathes_sum))\n",
    "distances2.shape"
   ]
  },
  {
   "cell_type": "code",
   "execution_count": 28,
   "metadata": {},
   "outputs": [
    {
     "data": {
      "text/plain": [
       "(2512, 2512)"
      ]
     },
     "execution_count": 28,
     "metadata": {},
     "output_type": "execute_result"
    }
   ],
   "source": [
    "degs = degs.reshape([1,-1])\n",
    "diss = degs.T.dot(degs)\n",
    "diss.shape"
   ]
  },
  {
   "cell_type": "code",
   "execution_count": 29,
   "metadata": {},
   "outputs": [
    {
     "data": {
      "text/plain": [
       "(2512, 2512)"
      ]
     },
     "execution_count": 29,
     "metadata": {},
     "output_type": "execute_result"
    }
   ],
   "source": [
    "diss_sqrt = np.sqrt(diss)\n",
    "diss_sqrt.shape"
   ]
  },
  {
   "cell_type": "code",
   "execution_count": 30,
   "metadata": {},
   "outputs": [],
   "source": [
    "distances3 = distances * diss\n",
    "distances4 = distances * diss_sqrt"
   ]
  },
  {
   "cell_type": "markdown",
   "metadata": {},
   "source": [
    "## コサイン類似度"
   ]
  },
  {
   "cell_type": "code",
   "execution_count": 31,
   "metadata": {},
   "outputs": [
    {
     "data": {
      "text/plain": [
       "(2512, 2512)"
      ]
     },
     "execution_count": 31,
     "metadata": {},
     "output_type": "execute_result"
    }
   ],
   "source": [
    "cosine_sim = adj2 / diss_sqrt\n",
    "cosine_sim.shape"
   ]
  },
  {
   "cell_type": "markdown",
   "metadata": {},
   "source": [
    "# 標準化"
   ]
  },
  {
   "cell_type": "code",
   "execution_count": 33,
   "metadata": {},
   "outputs": [],
   "source": [
    "adj2 = adj2 / np.max(adj2)\n",
    "adj3 = adj3 / np.max(adj3)\n",
    "adj4 = adj4 / np.max(adj4)"
   ]
  },
  {
   "cell_type": "code",
   "execution_count": 34,
   "metadata": {},
   "outputs": [],
   "source": [
    "adj2_ex1 = adj2_ex1 / np.max(adj2_ex1)\n",
    "adj3_ex1 = adj3_ex1 / np.max(adj3_ex1)\n",
    "adj4_ex1 = adj4_ex1 / np.max(adj4_ex1)"
   ]
  },
  {
   "cell_type": "code",
   "execution_count": 35,
   "metadata": {},
   "outputs": [],
   "source": [
    "adj2_ex2 = adj2_ex2 / np.max(adj2_ex2)\n",
    "adj3_ex2 = adj3_ex2 / np.max(adj3_ex2)\n",
    "adj4_ex2 = adj4_ex2 / np.max(adj4_ex2)"
   ]
  },
  {
   "cell_type": "code",
   "execution_count": 36,
   "metadata": {},
   "outputs": [],
   "source": [
    "distances = distances / np.max(distances)\n",
    "distances2 = distances2 / np.max(distances2)\n",
    "distances3 = distances3 / np.max(distances3)\n",
    "distances4 = distances4 / np.max(distances4)"
   ]
  },
  {
   "cell_type": "markdown",
   "metadata": {},
   "source": [
    "# 特徴量"
   ]
  },
  {
   "cell_type": "code",
   "execution_count": 39,
   "metadata": {},
   "outputs": [
    {
     "data": {
      "text/plain": [
       "(2512, 2512, 18)"
      ]
     },
     "execution_count": 39,
     "metadata": {},
     "output_type": "execute_result"
    }
   ],
   "source": [
    "data = np.stack([\n",
    "    degs1, degs2, papers1, papers2, cosine_sim, adj2, adj2_ex1, adj2_ex2, adj3, adj3_ex1, adj3_ex2, adj4, adj4_ex1, adj4_ex2, distances, distances2, distances3, distances4\n",
    "], 2)\n",
    "data.shape"
   ]
  },
  {
   "cell_type": "code",
   "execution_count": 41,
   "metadata": {},
   "outputs": [],
   "source": [
    "np.save(DATAPATH + \"DBLP/train_x.npy\", data)"
   ]
  },
  {
   "cell_type": "markdown",
   "metadata": {},
   "source": [
    "## 目的変数\n",
    "時を経つごとに、論文数が減っている"
   ]
  },
  {
   "cell_type": "code",
   "execution_count": 55,
   "metadata": {},
   "outputs": [
    {
     "data": {
      "text/plain": [
       "((2512, 2512, 5), (2512, 2512, 5))"
      ]
     },
     "execution_count": 55,
     "metadata": {},
     "output_type": "execute_result"
    }
   ],
   "source": [
    "preds = pathes[:,:,-STD:-STD+5]\n",
    "\n",
    "preds.shape, preds_s.shape"
   ]
  },
  {
   "cell_type": "code",
   "execution_count": 51,
   "metadata": {},
   "outputs": [
    {
     "data": {
      "text/plain": [
       "(2512, 2512)"
      ]
     },
     "execution_count": 51,
     "metadata": {},
     "output_type": "execute_result"
    }
   ],
   "source": [
    "preds = np.sum(preds, axis=2)\n",
    "preds.shape"
   ]
  },
  {
   "cell_type": "code",
   "execution_count": 52,
   "metadata": {},
   "outputs": [],
   "source": [
    "p = preds.reshape(-1)"
   ]
  },
  {
   "cell_type": "code",
   "execution_count": 54,
   "metadata": {},
   "outputs": [
    {
     "data": {
      "text/plain": [
       "(0.1803003227818573, 0.0394849943202564)"
      ]
     },
     "execution_count": 54,
     "metadata": {},
     "output_type": "execute_result"
    }
   ],
   "source": [
    "np.count_nonzero(p > 0) / N / N"
   ]
  },
  {
   "cell_type": "code",
   "execution_count": 59,
   "metadata": {},
   "outputs": [
    {
     "data": {
      "image/png": "[encoded data removed]",
      "text/plain": [
       "<Figure size 1296x576 with 1 Axes>"
      ]
     },
     "metadata": {},
     "output_type": "display_data"
    }
   ],
   "source": [
    "plt.style.use(\"ggplot\")\n",
    "\n",
    "# FigureとAxesを作成\n",
    "fig, ax = plt.subplots(figsize=(18,8))\n",
    "\n",
    "# タイトルと軸ラベルを設定\n",
    "ax.set_title(\"答えの論文数\")\n",
    "ax.set_xlabel(\"ペア\")\n",
    "ax.set_ylabel(\"論文数\")\n",
    "\n",
    "# Axesに棒グラフを追加\n",
    "ax.plot(range(N*N), sorted(p))\n",
    "\n",
    "plt.show()"
   ]
  },
  {
   "cell_type": "code",
   "execution_count": 60,
   "metadata": {},
   "outputs": [],
   "source": [
    "np.save(DATAPATH + \"DBLP/train_y.npy\", preds)"
   ]
  },
  {
   "cell_type": "code",
   "execution_count": null,
   "metadata": {},
   "outputs": [],
   "source": []
  }
 ],
 "metadata": {
  "interpreter": {
   "hash": "e5ac9074c40421cbf492f67471c5dc3e49846f397739518f542476e0deba3a6a"
  },
  "kernelspec": {
   "display_name": "Python 3.7.11 ('trend')",
   "language": "python",
   "name": "python3"
  },
  "language_info": {
   "codemirror_mode": {
    "name": "ipython",
    "version": 3
   },
   "file_extension": ".py",
   "mimetype": "text/x-python",
   "name": "python",
   "nbconvert_exporter": "python",
   "pygments_lexer": "ipython3",
   "version": "3.7.11"
  },
  "orig_nbformat": 4
 },
 "nbformat": 4,
 "nbformat_minor": 2
}
