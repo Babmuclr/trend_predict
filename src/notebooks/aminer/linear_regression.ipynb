{
 "cells": [
  {
   "cell_type": "markdown",
   "metadata": {},
   "source": [
    "# モデルの学習"
   ]
  },
  {
   "cell_type": "code",
   "execution_count": 61,
   "metadata": {},
   "outputs": [],
   "source": [
    "# import libraries\n",
    "\n",
    "import numpy as np\n",
    "import pandas as pd\n",
    "import gc\n",
    "import os\n",
    "import json\n",
    "from collections import Counter, defaultdict\n",
    "from tqdm.notebook import tqdm\n",
    "import matplotlib.pyplot as plt\n",
    "import matplotlib.dates as mdates\n",
    "%matplotlib inline\n",
    "import plotly.express as px\n",
    "import re\n",
    "import datetime as dt\n",
    "import japanize_matplotlib\n",
    "import itertools\n",
    "year_pattern = r'([1-2][0-9]{3})'\n",
    "import time"
   ]
  },
  {
   "cell_type": "code",
   "execution_count": 62,
   "metadata": {},
   "outputs": [],
   "source": [
    "DATAPATH = \"../../../data/DBLP/made/\"\n",
    "OUTPUTPATH = \"../../../result/aminer/\""
   ]
  },
  {
   "cell_type": "code",
   "execution_count": 63,
   "metadata": {},
   "outputs": [
    {
     "data": {
      "text/plain": [
       "(2275, '3d imaging')"
      ]
     },
     "execution_count": 63,
     "metadata": {},
     "output_type": "execute_result"
    }
   ],
   "source": [
    "with open(DATAPATH + \"keywords_delete_similar_words.txt\") as f:\n",
    "    keywords = list(map(lambda x: x.replace(\"\\n\", \"\"), f.readlines()))\n",
    "key_sets = set(keywords)\n",
    "len(keywords), keywords[0]"
   ]
  },
  {
   "cell_type": "code",
   "execution_count": 64,
   "metadata": {},
   "outputs": [],
   "source": [
    "import torch\n",
    "import torch.utils.data\n",
    "import torch.nn as nn\n",
    "import torch.nn.functional as F\n",
    "import torch.optim as optim\n",
    "\n",
    "from sklearn.linear_model import LinearRegression\n",
    "from sklearn.metrics import mean_squared_error\n",
    "from sklearn import utils\n",
    "\n",
    "from scipy.stats import pearsonr"
   ]
  },
  {
   "cell_type": "code",
   "execution_count": 65,
   "metadata": {},
   "outputs": [
    {
     "data": {
      "text/plain": [
       "((2275, 2275, 23), (2275, 2275), (2275, 2275, 23), (2275, 2275))"
      ]
     },
     "execution_count": 65,
     "metadata": {},
     "output_type": "execute_result"
    }
   ],
   "source": [
    "train_x = np.load(DATAPATH + \"train_x.npy\")\n",
    "train_y = np.load(DATAPATH + \"train_y.npy\")\n",
    "\n",
    "test_x = np.load(DATAPATH + \"test_x.npy\")\n",
    "test_y = np.load(DATAPATH + \"test_y.npy\")\n",
    "train_x.shape, train_y.shape, test_x.shape, test_y.shape"
   ]
  },
  {
   "cell_type": "code",
   "execution_count": 66,
   "metadata": {},
   "outputs": [
    {
     "data": {
      "text/plain": [
       "(2275, 23)"
      ]
     },
     "execution_count": 66,
     "metadata": {},
     "output_type": "execute_result"
    }
   ],
   "source": [
    "N = train_x.shape[0]\n",
    "M = train_x.shape[2]\n",
    "N, M"
   ]
  },
  {
   "cell_type": "code",
   "execution_count": 67,
   "metadata": {},
   "outputs": [
    {
     "data": {
      "text/plain": [
       "((2586675, 23), (2586675,), (2586675, 23), (2586675,))"
      ]
     },
     "execution_count": 67,
     "metadata": {},
     "output_type": "execute_result"
    }
   ],
   "source": [
    "train_x, train_y, test_x, test_y = train_x[np.triu_indices(n=N, k=1)], train_y[np.triu_indices(n=N, k=1)], test_x[np.triu_indices(n=N, k=1)], test_y[np.triu_indices(n=N, k=1)]\n",
    "train_x.shape, train_y.shape, test_x.shape, test_y.shape"
   ]
  },
  {
   "cell_type": "code",
   "execution_count": 68,
   "metadata": {},
   "outputs": [
    {
     "data": {
      "text/plain": [
       "2586675"
      ]
     },
     "execution_count": 68,
     "metadata": {},
     "output_type": "execute_result"
    }
   ],
   "source": [
    "P = train_x.shape[0]\n",
    "P"
   ]
  },
  {
   "cell_type": "code",
   "execution_count": 69,
   "metadata": {},
   "outputs": [
    {
     "name": "stdout",
     "output_type": "stream",
     "text": [
      "フィッティング時間: 1.9469756372272968\n",
      "スコア時間: 0.07257544994354248\n"
     ]
    }
   ],
   "source": [
    "model = LinearRegression()\n",
    "start_time = time.perf_counter()\n",
    "model.fit(train_x, train_y)\n",
    "print(\"フィッティング時間: {}\".format(time.perf_counter() - start_time))\n",
    "start_time = time.perf_counter()\n",
    "model.score(test_x, test_y)\n",
    "print(\"スコア時間: {}\".format(time.perf_counter() - start_time))"
   ]
  },
  {
   "cell_type": "code",
   "execution_count": 70,
   "metadata": {},
   "outputs": [
    {
     "data": {
      "text/plain": [
       "((2586675,), (2586675,))"
      ]
     },
     "execution_count": 70,
     "metadata": {},
     "output_type": "execute_result"
    }
   ],
   "source": [
    "result = model.predict(test_x)\n",
    "result_before = model.predict(train_x)\n",
    "result.shape, result_before.shape"
   ]
  },
  {
   "cell_type": "code",
   "execution_count": 71,
   "metadata": {},
   "outputs": [
    {
     "name": "stdout",
     "output_type": "stream",
     "text": [
      "RMSE: 10.944, MSE: 119.771, 相関係数: 0.822\n"
     ]
    }
   ],
   "source": [
    "print(\"RMSE: {}, MSE: {}, 相関係数: {}\".format(\n",
    "    round(np.sqrt(mean_squared_error(result_before, train_y)),3), \n",
    "    round(mean_squared_error(result_before, train_y),3),\n",
    "    round(pearsonr(result_before, train_y)[0],3)))"
   ]
  },
  {
   "cell_type": "code",
   "execution_count": 72,
   "metadata": {},
   "outputs": [
    {
     "name": "stdout",
     "output_type": "stream",
     "text": [
      "RMSE: 5.595, MSE: 31.303, 相関係数: 0.583\n"
     ]
    }
   ],
   "source": [
    "print(\"RMSE: {}, MSE: {}, 相関係数: {}\".format(\n",
    "    round(np.sqrt(mean_squared_error(result, test_y)),3), \n",
    "    round(mean_squared_error(result, test_y),3),\n",
    "    round(pearsonr(result, test_y)[0],3)))"
   ]
  },
  {
   "cell_type": "code",
   "execution_count": 73,
   "metadata": {},
   "outputs": [
    {
     "data": {
      "text/plain": [
       "0.43"
      ]
     },
     "execution_count": 73,
     "metadata": {},
     "output_type": "execute_result"
    }
   ],
   "source": [
    "df = pd.DataFrame(result, columns=[\"予測\"])\n",
    "df[\"実測\"] = test_y\n",
    "df[\"予測順位\"] = df[\"予測\"].rank(ascending=False)\n",
    "df[\"実測順位\"] = df[\"実測\"].rank(ascending=False)\n",
    "df = df.sort_values(\"予測順位\", )\n",
    "top = df.head(100)\n",
    "len(top[top[\"実測順位\"]<100]) / len(top)"
   ]
  },
  {
   "cell_type": "code",
   "execution_count": 74,
   "metadata": {},
   "outputs": [
    {
     "data": {
      "image/png": "[encoded data removed]",
      "text/plain": [
       "<Figure size 864x576 with 1 Axes>"
      ]
     },
     "metadata": {},
     "output_type": "display_data"
    }
   ],
   "source": [
    "fig, ax = plt.subplots(facecolor=\"white\",figsize=(12,8))\n",
    "ax.scatter(train_y, result_before, alpha=0.3)\n",
    "ax.set_xlabel(\"実際の論文数\")\n",
    "ax.set_ylabel(\"予測の論文数\")\n",
    "ax.grid()\n",
    "ax.set_title(\"線形回帰\")\n",
    "fig.show()"
   ]
  },
  {
   "cell_type": "code",
   "execution_count": 75,
   "metadata": {},
   "outputs": [
    {
     "data": {
      "image/png": "[encoded data removed]",
      "text/plain": [
       "<Figure size 864x576 with 1 Axes>"
      ]
     },
     "metadata": {},
     "output_type": "display_data"
    }
   ],
   "source": [
    "fig, ax = plt.subplots(facecolor=\"white\",figsize=(12,8))\n",
    "ax.scatter(test_y, result, alpha=0.3)\n",
    "ax.set_xlabel(\"実際の論文数\")\n",
    "ax.set_ylabel(\"予測の論文数\")\n",
    "ax.grid()\n",
    "ax.set_title(\"線形回帰\")\n",
    "fig.savefig(OUTPUTPATH+\"img/lr.png\")\n",
    "fig.show()"
   ]
  },
  {
   "cell_type": "code",
   "execution_count": 76,
   "metadata": {},
   "outputs": [
    {
     "name": "stdout",
     "output_type": "stream",
     "text": [
      "キーワード: accuracy, feature extraction, 予測値: 425.9, 実測値: 24.0\n",
      "キーワード: algorithm, design, 予測値: 1028.9, 実測値: 171.0\n",
      "キーワード: algorithm, experimentation, 予測値: 702.5, 実測値: 68.0\n",
      "キーワード: algorithm, performance, 予測値: 1148.8, 実測値: 203.0\n",
      "キーワード: algorithm design and analysis, optimisation, 予測値: 426.5, 実測値: 466.0\n",
      "キーワード: bioinformatics, biomedical research, 予測値: 408.4, 実測値: 6.0\n",
      "キーワード: capacitors, switches, 予測値: 490.6, 実測値: 669.0\n",
      "キーワード: computational model, data model, 予測値: 461.1, 実測値: 947.0\n",
      "キーワード: computational model, mathematical models, 予測値: 683.7, 実測値: 1003.0\n",
      "キーワード: decoding, encoding, 予測値: 404.9, 実測値: 670.0\n",
      "キーワード: design, experimentation, 予測値: 530.3, 実測値: 48.0\n",
      "キーワード: design, human factors, 予測値: 426.3, 実測値: 20.0\n",
      "キーワード: design, performance, 予測値: 1116.3, 実測値: 173.0\n",
      "キーワード: estimation, noise, 予測値: 428.2, 実測値: 18.0\n",
      "キーワード: experimentation, performance, 予測値: 581.1, 実測値: 63.0\n",
      "キーワード: feature extraction, support vector machine, 予測値: 463.3, 実測値: 746.0\n",
      "キーワード: feature extraction, visualization, 予測値: 455.6, 実測値: 878.0\n",
      "キーワード: interference, resource management, 予測値: 420.0, 実測値: 922.0\n",
      "キーワード: interference, signal-to-noise ratio, 予測値: 750.0, 実測値: 1040.0\n",
      "キーワード: interference, wireless communications, 予測値: 553.0, 実測値: 794.0\n",
      "キーワード: measurement, performance, 予測値: 455.0, 実測値: 50.0\n",
      "キーワード: mobile communications, mobile computing, 予測値: 602.9, 実測値: 434.0\n",
      "キーワード: network topology, topology, 予測値: 408.0, 実測値: 691.0\n",
      "キーワード: nonlinear programming, optimisation, 予測値: 508.8, 実測値: 640.0\n",
      "キーワード: optimisation, resource management, 予測値: 438.3, 実測値: 1103.0\n",
      "キーワード: remote sensing, satellites, 予測値: 485.9, 実測値: 337.0\n",
      "キーワード: sociology, statistics, 予測値: 708.6, 実測値: 777.0\n",
      "キーワード: wireless communications, wireless sensor network, 予測値: 621.5, 実測値: 1115.0\n"
     ]
    }
   ],
   "source": [
    "predict_matrix = np.zeros([N,N]) \n",
    "correct_matrix = np.zeros([N,N]) \n",
    "correct_matrix[np.triu_indices(n=N, k=1)] = test_y\n",
    "predict_matrix[np.triu_indices(n=N, k=1)] = model.predict(test_x)\n",
    "for i in range(N):\n",
    "    for j in range(N):\n",
    "        if predict_matrix[i][j] > 400:\n",
    "            print(\"キーワード: {}, {}, 予測値: {}, 実測値: {}\".format(keywords[i], keywords[j],round(predict_matrix[i][j],1), correct_matrix[i][j]))"
   ]
  },
  {
   "cell_type": "code",
   "execution_count": 77,
   "metadata": {},
   "outputs": [],
   "source": [
    "bool_matrix = np.zeros([N,N]) \n",
    "bool_matrix[np.triu_indices(n=N, k=1)] = train_y\n",
    "word_matrix = np.zeros([N,N,2]).astype(str)\n",
    "for i in range(N):\n",
    "    for j in range(N):\n",
    "        word_matrix[i][j][0] = keywords[i]\n",
    "        word_matrix[i][j][1] = keywords[j]\n",
    "correct_new = correct_matrix[np.where(bool_matrix==0)]\n",
    "predict_new = predict_matrix[np.where(bool_matrix==0)]\n",
    "word_new = word_matrix[np.where(bool_matrix==0)]"
   ]
  },
  {
   "cell_type": "code",
   "execution_count": 78,
   "metadata": {},
   "outputs": [
    {
     "data": {
      "text/html": [
       "<div>\n",
       "<style scoped>\n",
       "    .dataframe tbody tr th:only-of-type {\n",
       "        vertical-align: middle;\n",
       "    }\n",
       "\n",
       "    .dataframe tbody tr th {\n",
       "        vertical-align: top;\n",
       "    }\n",
       "\n",
       "    .dataframe thead th {\n",
       "        text-align: right;\n",
       "    }\n",
       "</style>\n",
       "<table border=\"1\" class=\"dataframe\">\n",
       "  <thead>\n",
       "    <tr style=\"text-align: right;\">\n",
       "      <th></th>\n",
       "      <th>実測値</th>\n",
       "      <th>予測値</th>\n",
       "      <th>キーワード1</th>\n",
       "      <th>キーワード2</th>\n",
       "    </tr>\n",
       "  </thead>\n",
       "  <tbody>\n",
       "    <tr>\n",
       "      <th>0</th>\n",
       "      <td>0.0</td>\n",
       "      <td>0.000000</td>\n",
       "      <td>3d imaging</td>\n",
       "      <td>3d imaging</td>\n",
       "    </tr>\n",
       "    <tr>\n",
       "      <th>1</th>\n",
       "      <td>0.0</td>\n",
       "      <td>1.008812</td>\n",
       "      <td>3d imaging</td>\n",
       "      <td>a priori knowledge</td>\n",
       "    </tr>\n",
       "    <tr>\n",
       "      <th>2</th>\n",
       "      <td>0.0</td>\n",
       "      <td>3.437279</td>\n",
       "      <td>3d imaging</td>\n",
       "      <td>accelerometers</td>\n",
       "    </tr>\n",
       "    <tr>\n",
       "      <th>3</th>\n",
       "      <td>0.0</td>\n",
       "      <td>0.670922</td>\n",
       "      <td>3d imaging</td>\n",
       "      <td>access control</td>\n",
       "    </tr>\n",
       "    <tr>\n",
       "      <th>4</th>\n",
       "      <td>0.0</td>\n",
       "      <td>2.995314</td>\n",
       "      <td>3d imaging</td>\n",
       "      <td>access network</td>\n",
       "    </tr>\n",
       "  </tbody>\n",
       "</table>\n",
       "</div>"
      ],
      "text/plain": [
       "   実測値       予測値      キーワード1              キーワード2\n",
       "0  0.0  0.000000  3d imaging          3d imaging\n",
       "1  0.0  1.008812  3d imaging  a priori knowledge\n",
       "2  0.0  3.437279  3d imaging      accelerometers\n",
       "3  0.0  0.670922  3d imaging      access control\n",
       "4  0.0  2.995314  3d imaging      access network"
      ]
     },
     "execution_count": 78,
     "metadata": {},
     "output_type": "execute_result"
    }
   ],
   "source": [
    "df = pd.DataFrame(correct_new, columns=[\"実測値\"])\n",
    "df[\"予測値\"] = predict_new\n",
    "df[\"キーワード1\"] = word_new[:,0]\n",
    "df[\"キーワード2\"] = word_new[:,1]\n",
    "df.head()"
   ]
  },
  {
   "cell_type": "code",
   "execution_count": 79,
   "metadata": {},
   "outputs": [
    {
     "data": {
      "text/html": [
       "<div>\n",
       "<style scoped>\n",
       "    .dataframe tbody tr th:only-of-type {\n",
       "        vertical-align: middle;\n",
       "    }\n",
       "\n",
       "    .dataframe tbody tr th {\n",
       "        vertical-align: top;\n",
       "    }\n",
       "\n",
       "    .dataframe thead th {\n",
       "        text-align: right;\n",
       "    }\n",
       "</style>\n",
       "<table border=\"1\" class=\"dataframe\">\n",
       "  <thead>\n",
       "    <tr style=\"text-align: right;\">\n",
       "      <th></th>\n",
       "      <th>実測値</th>\n",
       "      <th>予測値</th>\n",
       "      <th>キーワード1</th>\n",
       "      <th>キーワード2</th>\n",
       "    </tr>\n",
       "  </thead>\n",
       "  <tbody>\n",
       "    <tr>\n",
       "      <th>334415</th>\n",
       "      <td>0.0</td>\n",
       "      <td>8.807918</td>\n",
       "      <td>change management</td>\n",
       "      <td>health information systems</td>\n",
       "    </tr>\n",
       "    <tr>\n",
       "      <th>1452909</th>\n",
       "      <td>0.0</td>\n",
       "      <td>8.637984</td>\n",
       "      <td>health information systems</td>\n",
       "      <td>organisational aspects</td>\n",
       "    </tr>\n",
       "    <tr>\n",
       "      <th>620137</th>\n",
       "      <td>0.0</td>\n",
       "      <td>8.526610</td>\n",
       "      <td>creativity</td>\n",
       "      <td>health information systems</td>\n",
       "    </tr>\n",
       "    <tr>\n",
       "      <th>1452498</th>\n",
       "      <td>0.0</td>\n",
       "      <td>8.231180</td>\n",
       "      <td>health information systems</td>\n",
       "      <td>instructional design</td>\n",
       "    </tr>\n",
       "    <tr>\n",
       "      <th>1385214</th>\n",
       "      <td>0.0</td>\n",
       "      <td>7.936509</td>\n",
       "      <td>graph g</td>\n",
       "      <td>regular language</td>\n",
       "    </tr>\n",
       "    <tr>\n",
       "      <th>1452406</th>\n",
       "      <td>0.0</td>\n",
       "      <td>7.909186</td>\n",
       "      <td>health information systems</td>\n",
       "      <td>higher education</td>\n",
       "    </tr>\n",
       "    <tr>\n",
       "      <th>1044699</th>\n",
       "      <td>0.0</td>\n",
       "      <td>7.830931</td>\n",
       "      <td>enterprise architecture</td>\n",
       "      <td>instructional design</td>\n",
       "    </tr>\n",
       "    <tr>\n",
       "      <th>399197</th>\n",
       "      <td>0.0</td>\n",
       "      <td>7.803923</td>\n",
       "      <td>cochannel interference</td>\n",
       "      <td>multiaccess communication</td>\n",
       "    </tr>\n",
       "    <tr>\n",
       "      <th>619941</th>\n",
       "      <td>0.0</td>\n",
       "      <td>7.717166</td>\n",
       "      <td>creativity</td>\n",
       "      <td>enterprise architecture</td>\n",
       "    </tr>\n",
       "    <tr>\n",
       "      <th>286782</th>\n",
       "      <td>0.0</td>\n",
       "      <td>7.716261</td>\n",
       "      <td>business information systems</td>\n",
       "      <td>creativity</td>\n",
       "    </tr>\n",
       "    <tr>\n",
       "      <th>1071447</th>\n",
       "      <td>0.0</td>\n",
       "      <td>7.711492</td>\n",
       "      <td>ethics</td>\n",
       "      <td>health information systems</td>\n",
       "    </tr>\n",
       "    <tr>\n",
       "      <th>1453604</th>\n",
       "      <td>0.0</td>\n",
       "      <td>7.678928</td>\n",
       "      <td>health information systems</td>\n",
       "      <td>web 2 0</td>\n",
       "    </tr>\n",
       "    <tr>\n",
       "      <th>1385180</th>\n",
       "      <td>0.0</td>\n",
       "      <td>7.648716</td>\n",
       "      <td>graph g</td>\n",
       "      <td>random oracle model</td>\n",
       "    </tr>\n",
       "    <tr>\n",
       "      <th>1170541</th>\n",
       "      <td>0.0</td>\n",
       "      <td>7.637157</td>\n",
       "      <td>field study</td>\n",
       "      <td>health information systems</td>\n",
       "    </tr>\n",
       "    <tr>\n",
       "      <th>807534</th>\n",
       "      <td>0.0</td>\n",
       "      <td>7.606503</td>\n",
       "      <td>digital divide</td>\n",
       "      <td>enterprise architecture</td>\n",
       "    </tr>\n",
       "    <tr>\n",
       "      <th>287786</th>\n",
       "      <td>0.0</td>\n",
       "      <td>7.596420</td>\n",
       "      <td>business information systems</td>\n",
       "      <td>organisational aspects</td>\n",
       "    </tr>\n",
       "    <tr>\n",
       "      <th>1537763</th>\n",
       "      <td>0.0</td>\n",
       "      <td>7.555795</td>\n",
       "      <td>h∞ control</td>\n",
       "      <td>model predictive control</td>\n",
       "    </tr>\n",
       "    <tr>\n",
       "      <th>1453607</th>\n",
       "      <td>0.0</td>\n",
       "      <td>7.543102</td>\n",
       "      <td>health information systems</td>\n",
       "      <td>web design</td>\n",
       "    </tr>\n",
       "    <tr>\n",
       "      <th>600951</th>\n",
       "      <td>0.0</td>\n",
       "      <td>7.538828</td>\n",
       "      <td>cooperative diversity</td>\n",
       "      <td>multiaccess communication</td>\n",
       "    </tr>\n",
       "    <tr>\n",
       "      <th>2246206</th>\n",
       "      <td>0.0</td>\n",
       "      <td>7.509406</td>\n",
       "      <td>multiaccess communication</td>\n",
       "      <td>space time block code</td>\n",
       "    </tr>\n",
       "  </tbody>\n",
       "</table>\n",
       "</div>"
      ],
      "text/plain": [
       "         実測値       予測値                        キーワード1  \\\n",
       "334415   0.0  8.807918             change management   \n",
       "1452909  0.0  8.637984    health information systems   \n",
       "620137   0.0  8.526610                    creativity   \n",
       "1452498  0.0  8.231180    health information systems   \n",
       "1385214  0.0  7.936509                       graph g   \n",
       "1452406  0.0  7.909186    health information systems   \n",
       "1044699  0.0  7.830931       enterprise architecture   \n",
       "399197   0.0  7.803923        cochannel interference   \n",
       "619941   0.0  7.717166                    creativity   \n",
       "286782   0.0  7.716261  business information systems   \n",
       "1071447  0.0  7.711492                        ethics   \n",
       "1453604  0.0  7.678928    health information systems   \n",
       "1385180  0.0  7.648716                       graph g   \n",
       "1170541  0.0  7.637157                   field study   \n",
       "807534   0.0  7.606503                digital divide   \n",
       "287786   0.0  7.596420  business information systems   \n",
       "1537763  0.0  7.555795                    h∞ control   \n",
       "1453607  0.0  7.543102    health information systems   \n",
       "600951   0.0  7.538828         cooperative diversity   \n",
       "2246206  0.0  7.509406     multiaccess communication   \n",
       "\n",
       "                             キーワード2  \n",
       "334415   health information systems  \n",
       "1452909      organisational aspects  \n",
       "620137   health information systems  \n",
       "1452498        instructional design  \n",
       "1385214            regular language  \n",
       "1452406            higher education  \n",
       "1044699        instructional design  \n",
       "399197    multiaccess communication  \n",
       "619941      enterprise architecture  \n",
       "286782                   creativity  \n",
       "1071447  health information systems  \n",
       "1453604                     web 2 0  \n",
       "1385180         random oracle model  \n",
       "1170541  health information systems  \n",
       "807534      enterprise architecture  \n",
       "287786       organisational aspects  \n",
       "1537763    model predictive control  \n",
       "1453607                  web design  \n",
       "600951    multiaccess communication  \n",
       "2246206       space time block code  "
      ]
     },
     "execution_count": 79,
     "metadata": {},
     "output_type": "execute_result"
    }
   ],
   "source": [
    "df.sort_values(\"予測値\", ascending=False, inplace=True)\n",
    "df.head(20)"
   ]
  },
  {
   "cell_type": "code",
   "execution_count": 80,
   "metadata": {},
   "outputs": [
    {
     "data": {
      "text/html": [
       "<div>\n",
       "<style scoped>\n",
       "    .dataframe tbody tr th:only-of-type {\n",
       "        vertical-align: middle;\n",
       "    }\n",
       "\n",
       "    .dataframe tbody tr th {\n",
       "        vertical-align: top;\n",
       "    }\n",
       "\n",
       "    .dataframe thead th {\n",
       "        text-align: right;\n",
       "    }\n",
       "</style>\n",
       "<table border=\"1\" class=\"dataframe\">\n",
       "  <thead>\n",
       "    <tr style=\"text-align: right;\">\n",
       "      <th></th>\n",
       "      <th>実測値</th>\n",
       "      <th>予測値</th>\n",
       "      <th>キーワード1</th>\n",
       "      <th>キーワード2</th>\n",
       "    </tr>\n",
       "  </thead>\n",
       "  <tbody>\n",
       "    <tr>\n",
       "      <th>3703880</th>\n",
       "      <td>953.0</td>\n",
       "      <td>1.156474</td>\n",
       "      <td>task analysis</td>\n",
       "      <td>training</td>\n",
       "    </tr>\n",
       "    <tr>\n",
       "      <th>1740315</th>\n",
       "      <td>224.0</td>\n",
       "      <td>3.830746</td>\n",
       "      <td>internet of things</td>\n",
       "      <td>task analysis</td>\n",
       "    </tr>\n",
       "    <tr>\n",
       "      <th>744974</th>\n",
       "      <td>168.0</td>\n",
       "      <td>0.415477</td>\n",
       "      <td>deconvolution</td>\n",
       "      <td>task analysis</td>\n",
       "    </tr>\n",
       "    <tr>\n",
       "      <th>741952</th>\n",
       "      <td>154.0</td>\n",
       "      <td>0.516809</td>\n",
       "      <td>decoding</td>\n",
       "      <td>task analysis</td>\n",
       "    </tr>\n",
       "    <tr>\n",
       "      <th>459010</th>\n",
       "      <td>149.0</td>\n",
       "      <td>4.723251</td>\n",
       "      <td>complexity theory</td>\n",
       "      <td>mimo communication</td>\n",
       "    </tr>\n",
       "    <tr>\n",
       "      <th>2163214</th>\n",
       "      <td>144.0</td>\n",
       "      <td>3.147350</td>\n",
       "      <td>mobile handsets</td>\n",
       "      <td>task analysis</td>\n",
       "    </tr>\n",
       "    <tr>\n",
       "      <th>77476</th>\n",
       "      <td>115.0</td>\n",
       "      <td>0.317256</td>\n",
       "      <td>analytical models</td>\n",
       "      <td>task analysis</td>\n",
       "    </tr>\n",
       "    <tr>\n",
       "      <th>3035679</th>\n",
       "      <td>110.0</td>\n",
       "      <td>0.168432</td>\n",
       "      <td>remote sensing</td>\n",
       "      <td>task analysis</td>\n",
       "    </tr>\n",
       "    <tr>\n",
       "      <th>3538568</th>\n",
       "      <td>104.0</td>\n",
       "      <td>3.969452</td>\n",
       "      <td>standards</td>\n",
       "      <td>task analysis</td>\n",
       "    </tr>\n",
       "    <tr>\n",
       "      <th>459545</th>\n",
       "      <td>98.0</td>\n",
       "      <td>4.251003</td>\n",
       "      <td>complexity theory</td>\n",
       "      <td>task analysis</td>\n",
       "    </tr>\n",
       "    <tr>\n",
       "      <th>2988026</th>\n",
       "      <td>95.0</td>\n",
       "      <td>0.592588</td>\n",
       "      <td>recurrent neural networks</td>\n",
       "      <td>task analysis</td>\n",
       "    </tr>\n",
       "    <tr>\n",
       "      <th>1607949</th>\n",
       "      <td>93.0</td>\n",
       "      <td>-0.083380</td>\n",
       "      <td>indexes</td>\n",
       "      <td>task analysis</td>\n",
       "    </tr>\n",
       "    <tr>\n",
       "      <th>3703881</th>\n",
       "      <td>93.0</td>\n",
       "      <td>0.269097</td>\n",
       "      <td>task analysis</td>\n",
       "      <td>training data</td>\n",
       "    </tr>\n",
       "    <tr>\n",
       "      <th>459224</th>\n",
       "      <td>86.0</td>\n",
       "      <td>5.087633</td>\n",
       "      <td>complexity theory</td>\n",
       "      <td>precoding</td>\n",
       "    </tr>\n",
       "    <tr>\n",
       "      <th>2735553</th>\n",
       "      <td>80.0</td>\n",
       "      <td>0.553736</td>\n",
       "      <td>privacy</td>\n",
       "      <td>task analysis</td>\n",
       "    </tr>\n",
       "    <tr>\n",
       "      <th>1568425</th>\n",
       "      <td>75.0</td>\n",
       "      <td>0.178017</td>\n",
       "      <td>image reconstruction</td>\n",
       "      <td>task analysis</td>\n",
       "    </tr>\n",
       "    <tr>\n",
       "      <th>575998</th>\n",
       "      <td>69.0</td>\n",
       "      <td>0.351878</td>\n",
       "      <td>context modeling</td>\n",
       "      <td>task analysis</td>\n",
       "    </tr>\n",
       "    <tr>\n",
       "      <th>1621741</th>\n",
       "      <td>68.0</td>\n",
       "      <td>0.444217</td>\n",
       "      <td>informatics</td>\n",
       "      <td>task analysis</td>\n",
       "    </tr>\n",
       "    <tr>\n",
       "      <th>3255895</th>\n",
       "      <td>67.0</td>\n",
       "      <td>2.352121</td>\n",
       "      <td>service robots</td>\n",
       "      <td>task analysis</td>\n",
       "    </tr>\n",
       "    <tr>\n",
       "      <th>1566975</th>\n",
       "      <td>67.0</td>\n",
       "      <td>0.068941</td>\n",
       "      <td>image recognition</td>\n",
       "      <td>task analysis</td>\n",
       "    </tr>\n",
       "  </tbody>\n",
       "</table>\n",
       "</div>"
      ],
      "text/plain": [
       "           実測値       予測値                     キーワード1              キーワード2\n",
       "3703880  953.0  1.156474              task analysis            training\n",
       "1740315  224.0  3.830746         internet of things       task analysis\n",
       "744974   168.0  0.415477              deconvolution       task analysis\n",
       "741952   154.0  0.516809                   decoding       task analysis\n",
       "459010   149.0  4.723251          complexity theory  mimo communication\n",
       "2163214  144.0  3.147350            mobile handsets       task analysis\n",
       "77476    115.0  0.317256          analytical models       task analysis\n",
       "3035679  110.0  0.168432             remote sensing       task analysis\n",
       "3538568  104.0  3.969452                  standards       task analysis\n",
       "459545    98.0  4.251003          complexity theory       task analysis\n",
       "2988026   95.0  0.592588  recurrent neural networks       task analysis\n",
       "1607949   93.0 -0.083380                    indexes       task analysis\n",
       "3703881   93.0  0.269097              task analysis       training data\n",
       "459224    86.0  5.087633          complexity theory           precoding\n",
       "2735553   80.0  0.553736                    privacy       task analysis\n",
       "1568425   75.0  0.178017       image reconstruction       task analysis\n",
       "575998    69.0  0.351878           context modeling       task analysis\n",
       "1621741   68.0  0.444217                informatics       task analysis\n",
       "3255895   67.0  2.352121             service robots       task analysis\n",
       "1566975   67.0  0.068941          image recognition       task analysis"
      ]
     },
     "execution_count": 80,
     "metadata": {},
     "output_type": "execute_result"
    }
   ],
   "source": [
    "df.sort_values(\"実測値\", ascending=False, inplace=True)\n",
    "df.head(20)"
   ]
  },
  {
   "cell_type": "code",
   "execution_count": 81,
   "metadata": {},
   "outputs": [
    {
     "data": {
      "text/plain": [
       "array([ 5.91519730e+00,  5.78265807e+00,  1.73606008e+00,  4.23719095e-01,\n",
       "        2.28588489e+01,  4.51066249e-01, -1.24502754e+01, -7.91335368e-01,\n",
       "        4.51066249e-01, -1.24502754e+01, -7.91335368e-01,  4.51066249e-01,\n",
       "       -1.24502754e+01, -7.91335368e-01,  1.38621408e+01,  1.27239559e+00,\n",
       "        3.66835234e+01, -3.85195829e+01,  8.72248545e-02, -2.41789266e-01,\n",
       "       -4.75335745e-01,  3.37385238e-02,  3.35626750e+00])"
      ]
     },
     "execution_count": 81,
     "metadata": {},
     "output_type": "execute_result"
    }
   ],
   "source": [
    "model.coef_"
   ]
  },
  {
   "cell_type": "code",
   "execution_count": null,
   "metadata": {},
   "outputs": [],
   "source": []
  },
  {
   "cell_type": "markdown",
   "metadata": {},
   "source": [
    "# 人気度"
   ]
  },
  {
   "cell_type": "code",
   "execution_count": 43,
   "metadata": {},
   "outputs": [
    {
     "data": {
      "text/plain": [
       "((2275, 2275, 23), (2275, 2275), (2275, 2275, 23), (2275, 2275))"
      ]
     },
     "execution_count": 43,
     "metadata": {},
     "output_type": "execute_result"
    }
   ],
   "source": [
    "train_x = np.load(DATAPATH + \"train_x.npy\")\n",
    "train_y = np.load(DATAPATH + \"train_y_diff.npy\")\n",
    "\n",
    "test_x = np.load(DATAPATH + \"test_x.npy\")\n",
    "test_y = np.load(DATAPATH + \"test_y_diff.npy\")\n",
    "train_x.shape, train_y.shape, test_x.shape, test_y.shape"
   ]
  },
  {
   "cell_type": "code",
   "execution_count": 44,
   "metadata": {},
   "outputs": [
    {
     "data": {
      "text/plain": [
       "((2586675, 23), (2586675,), (2586675, 23), (2586675,))"
      ]
     },
     "execution_count": 44,
     "metadata": {},
     "output_type": "execute_result"
    }
   ],
   "source": [
    "train_x, train_y, test_x, test_y = train_x[np.triu_indices(n=N, k=1)], train_y[np.triu_indices(n=N, k=1)], test_x[np.triu_indices(n=N, k=1)], test_y[np.triu_indices(n=N, k=1)]\n",
    "train_x.shape, train_y.shape, test_x.shape, test_y.shape"
   ]
  },
  {
   "cell_type": "code",
   "execution_count": 45,
   "metadata": {},
   "outputs": [
    {
     "name": "stdout",
     "output_type": "stream",
     "text": [
      "フィッティング時間: 2.090621951967478\n",
      "スコア時間: 0.07304241508245468\n"
     ]
    }
   ],
   "source": [
    "model = LinearRegression()\n",
    "start_time = time.perf_counter()\n",
    "model.fit(train_x, train_y)\n",
    "print(\"フィッティング時間: {}\".format(time.perf_counter() - start_time))\n",
    "start_time = time.perf_counter()\n",
    "model.score(test_x, test_y)\n",
    "print(\"スコア時間: {}\".format(time.perf_counter() - start_time))\n",
    "result = model.predict(test_x)\n",
    "result_before = model.predict(train_x)"
   ]
  },
  {
   "cell_type": "code",
   "execution_count": 46,
   "metadata": {},
   "outputs": [
    {
     "name": "stdout",
     "output_type": "stream",
     "text": [
      "RMSE: 10.944, MSE: 119.771, 相関係数: 0.751\n"
     ]
    }
   ],
   "source": [
    "print(\"RMSE: {}, MSE: {}, 相関係数: {}\".format(\n",
    "    round(np.sqrt(mean_squared_error(result_before, train_y)),3), \n",
    "    round(mean_squared_error(result_before, train_y),3),\n",
    "    round(pearsonr(result_before, train_y)[0],3)))"
   ]
  },
  {
   "cell_type": "code",
   "execution_count": 47,
   "metadata": {},
   "outputs": [
    {
     "name": "stdout",
     "output_type": "stream",
     "text": [
      "RMSE: 5.595, MSE: 31.303, 相関係数: 0.951\n"
     ]
    }
   ],
   "source": [
    "print(\"RMSE: {}, MSE: {}, 相関係数: {}\".format(\n",
    "    round(np.sqrt(mean_squared_error(result, test_y)),3), \n",
    "    round(mean_squared_error(result, test_y),3),\n",
    "    round(pearsonr(result, test_y)[0],3)))"
   ]
  },
  {
   "cell_type": "code",
   "execution_count": 48,
   "metadata": {},
   "outputs": [
    {
     "data": {
      "text/plain": [
       "0.83"
      ]
     },
     "execution_count": 48,
     "metadata": {},
     "output_type": "execute_result"
    }
   ],
   "source": [
    "df = pd.DataFrame(result, columns=[\"予測\"])\n",
    "df[\"実測\"] = test_y\n",
    "df[\"予測順位\"] = df[\"予測\"].rank(ascending=True)\n",
    "df[\"実測順位\"] = df[\"実測\"].rank(ascending=True)\n",
    "df = df.sort_values(\"予測順位\", )\n",
    "top = df.head(100)\n",
    "len(top[top[\"実測順位\"]<100]) / len(top)"
   ]
  },
  {
   "cell_type": "code",
   "execution_count": 49,
   "metadata": {},
   "outputs": [
    {
     "data": {
      "image/png": "[encoded data removed]",
      "text/plain": [
       "<Figure size 864x576 with 1 Axes>"
      ]
     },
     "metadata": {},
     "output_type": "display_data"
    }
   ],
   "source": [
    "fig, ax = plt.subplots(facecolor=\"white\",figsize=(12,8))\n",
    "ax.scatter(test_y, result, alpha=0.3)\n",
    "ax.set_xlabel(\"実際の論文数\")\n",
    "ax.set_ylabel(\"予測の論文数\")\n",
    "ax.grid()\n",
    "ax.set_title(\"線形回帰\")\n",
    "fig.savefig(OUTPUTPATH+\"img/lr_diff.png\")\n",
    "fig.show()"
   ]
  },
  {
   "cell_type": "code",
   "execution_count": 50,
   "metadata": {},
   "outputs": [
    {
     "data": {
      "image/png": "[encoded data removed]",
      "text/plain": [
       "<Figure size 864x576 with 1 Axes>"
      ]
     },
     "metadata": {},
     "output_type": "display_data"
    }
   ],
   "source": [
    "fig, ax = plt.subplots(facecolor=\"white\",figsize=(12,8))\n",
    "ax.scatter(train_y, result_before, alpha=0.3)\n",
    "ax.set_xlabel(\"実際の論文数\")\n",
    "ax.set_ylabel(\"予測の論文数\")\n",
    "ax.grid()\n",
    "ax.set_title(\"線形回帰\")\n",
    "# fig.savefig(OUTPUTPATH+\"img/gbm.png\")\n",
    "fig.show()"
   ]
  },
  {
   "cell_type": "code",
   "execution_count": 53,
   "metadata": {},
   "outputs": [
    {
     "name": "stdout",
     "output_type": "stream",
     "text": [
      "キーワード: algorithm, bioinformatics, 予測値: -3052.5, 実測値: -3231.0\n",
      "キーワード: algorithm, microarrays, 予測値: -2054.5, 実測値: -2223.0\n",
      "キーワード: algorithm design, algorithm design and analysis, 予測値: -2102.2, 実測値: -2145.0\n",
      "キーワード: bioinformatics, biomedical research, 予測値: -2320.6, 実測値: -2723.0\n",
      "キーワード: bioinformatics, microarrays, 予測値: -2043.0, 実測値: -2217.0\n",
      "キーワード: computational model, computer model, 予測値: -2688.4, 実測値: -2747.0\n",
      "キーワード: feature extraction, image classification, 予測値: -2646.3, 実測値: -2556.0\n",
      "キーワード: feature extraction, support vector machine, 予測値: -2000.7, 実測値: -1718.0\n",
      "キーワード: field programmable gate array, fpga, 予測値: -2049.7, 実測値: -2088.0\n",
      "キーワード: learning (artificial intelligence, machine learning, 予測値: -2033.8, 実測値: -2054.0\n",
      "キーワード: mobile communications, mobile computing, 予測値: -2295.1, 実測値: -2464.0\n",
      "キーワード: qos, quality of service, 予測値: -2048.8, 実測値: -2074.0\n"
     ]
    }
   ],
   "source": [
    "predict_matrix = np.zeros([N,N]) \n",
    "correct_matrix = np.zeros([N,N]) \n",
    "correct_matrix[np.triu_indices(n=N, k=1)] = test_y\n",
    "predict_matrix[np.triu_indices(n=N, k=1)] = model.predict(test_x)\n",
    "for i in range(N):\n",
    "    for j in range(N):\n",
    "        if predict_matrix[i][j] < -2000:\n",
    "            print(\"キーワード: {}, {}, 予測値: {}, 実測値: {}\".format(keywords[i], keywords[j],round(predict_matrix[i][j],1), correct_matrix[i][j]))"
   ]
  },
  {
   "cell_type": "code",
   "execution_count": 54,
   "metadata": {},
   "outputs": [],
   "source": [
    "correct_new = correct_matrix[np.where(bool_matrix==0)]\n",
    "predict_new = predict_matrix[np.where(bool_matrix==0)]\n",
    "word_new = word_matrix[np.where(bool_matrix==0)]"
   ]
  },
  {
   "cell_type": "code",
   "execution_count": 55,
   "metadata": {},
   "outputs": [
    {
     "data": {
      "text/html": [
       "<div>\n",
       "<style scoped>\n",
       "    .dataframe tbody tr th:only-of-type {\n",
       "        vertical-align: middle;\n",
       "    }\n",
       "\n",
       "    .dataframe tbody tr th {\n",
       "        vertical-align: top;\n",
       "    }\n",
       "\n",
       "    .dataframe thead th {\n",
       "        text-align: right;\n",
       "    }\n",
       "</style>\n",
       "<table border=\"1\" class=\"dataframe\">\n",
       "  <thead>\n",
       "    <tr style=\"text-align: right;\">\n",
       "      <th></th>\n",
       "      <th>実測値</th>\n",
       "      <th>予測値</th>\n",
       "      <th>キーワード1</th>\n",
       "      <th>キーワード2</th>\n",
       "    </tr>\n",
       "  </thead>\n",
       "  <tbody>\n",
       "    <tr>\n",
       "      <th>0</th>\n",
       "      <td>0.0</td>\n",
       "      <td>0.000000</td>\n",
       "      <td>3d imaging</td>\n",
       "      <td>3d imaging</td>\n",
       "    </tr>\n",
       "    <tr>\n",
       "      <th>1</th>\n",
       "      <td>0.0</td>\n",
       "      <td>1.008812</td>\n",
       "      <td>3d imaging</td>\n",
       "      <td>a priori knowledge</td>\n",
       "    </tr>\n",
       "    <tr>\n",
       "      <th>2</th>\n",
       "      <td>0.0</td>\n",
       "      <td>3.437279</td>\n",
       "      <td>3d imaging</td>\n",
       "      <td>accelerometers</td>\n",
       "    </tr>\n",
       "    <tr>\n",
       "      <th>3</th>\n",
       "      <td>0.0</td>\n",
       "      <td>0.670922</td>\n",
       "      <td>3d imaging</td>\n",
       "      <td>access control</td>\n",
       "    </tr>\n",
       "    <tr>\n",
       "      <th>4</th>\n",
       "      <td>0.0</td>\n",
       "      <td>2.995314</td>\n",
       "      <td>3d imaging</td>\n",
       "      <td>access network</td>\n",
       "    </tr>\n",
       "  </tbody>\n",
       "</table>\n",
       "</div>"
      ],
      "text/plain": [
       "   実測値       予測値      キーワード1              キーワード2\n",
       "0  0.0  0.000000  3d imaging          3d imaging\n",
       "1  0.0  1.008812  3d imaging  a priori knowledge\n",
       "2  0.0  3.437279  3d imaging      accelerometers\n",
       "3  0.0  0.670922  3d imaging      access control\n",
       "4  0.0  2.995314  3d imaging      access network"
      ]
     },
     "execution_count": 55,
     "metadata": {},
     "output_type": "execute_result"
    }
   ],
   "source": [
    "df = pd.DataFrame(correct_new, columns=[\"実測値\"])\n",
    "df[\"予測値\"] = predict_new\n",
    "df[\"キーワード1\"] = word_new[:,0]\n",
    "df[\"キーワード2\"] = word_new[:,1]\n",
    "df.head()"
   ]
  },
  {
   "cell_type": "code",
   "execution_count": 57,
   "metadata": {},
   "outputs": [
    {
     "data": {
      "text/html": [
       "<div>\n",
       "<style scoped>\n",
       "    .dataframe tbody tr th:only-of-type {\n",
       "        vertical-align: middle;\n",
       "    }\n",
       "\n",
       "    .dataframe tbody tr th {\n",
       "        vertical-align: top;\n",
       "    }\n",
       "\n",
       "    .dataframe thead th {\n",
       "        text-align: right;\n",
       "    }\n",
       "</style>\n",
       "<table border=\"1\" class=\"dataframe\">\n",
       "  <thead>\n",
       "    <tr style=\"text-align: right;\">\n",
       "      <th></th>\n",
       "      <th>実測値</th>\n",
       "      <th>予測値</th>\n",
       "      <th>キーワード1</th>\n",
       "      <th>キーワード2</th>\n",
       "    </tr>\n",
       "  </thead>\n",
       "  <tbody>\n",
       "    <tr>\n",
       "      <th>334415</th>\n",
       "      <td>0.0</td>\n",
       "      <td>8.807918</td>\n",
       "      <td>change management</td>\n",
       "      <td>health information systems</td>\n",
       "    </tr>\n",
       "    <tr>\n",
       "      <th>1452909</th>\n",
       "      <td>0.0</td>\n",
       "      <td>8.637984</td>\n",
       "      <td>health information systems</td>\n",
       "      <td>organisational aspects</td>\n",
       "    </tr>\n",
       "    <tr>\n",
       "      <th>620137</th>\n",
       "      <td>0.0</td>\n",
       "      <td>8.526610</td>\n",
       "      <td>creativity</td>\n",
       "      <td>health information systems</td>\n",
       "    </tr>\n",
       "    <tr>\n",
       "      <th>1452498</th>\n",
       "      <td>0.0</td>\n",
       "      <td>8.231180</td>\n",
       "      <td>health information systems</td>\n",
       "      <td>instructional design</td>\n",
       "    </tr>\n",
       "    <tr>\n",
       "      <th>1385214</th>\n",
       "      <td>0.0</td>\n",
       "      <td>7.936509</td>\n",
       "      <td>graph g</td>\n",
       "      <td>regular language</td>\n",
       "    </tr>\n",
       "    <tr>\n",
       "      <th>1452406</th>\n",
       "      <td>0.0</td>\n",
       "      <td>7.909186</td>\n",
       "      <td>health information systems</td>\n",
       "      <td>higher education</td>\n",
       "    </tr>\n",
       "    <tr>\n",
       "      <th>1044699</th>\n",
       "      <td>0.0</td>\n",
       "      <td>7.830931</td>\n",
       "      <td>enterprise architecture</td>\n",
       "      <td>instructional design</td>\n",
       "    </tr>\n",
       "    <tr>\n",
       "      <th>399197</th>\n",
       "      <td>0.0</td>\n",
       "      <td>7.803923</td>\n",
       "      <td>cochannel interference</td>\n",
       "      <td>multiaccess communication</td>\n",
       "    </tr>\n",
       "    <tr>\n",
       "      <th>619941</th>\n",
       "      <td>0.0</td>\n",
       "      <td>7.717166</td>\n",
       "      <td>creativity</td>\n",
       "      <td>enterprise architecture</td>\n",
       "    </tr>\n",
       "    <tr>\n",
       "      <th>286782</th>\n",
       "      <td>0.0</td>\n",
       "      <td>7.716261</td>\n",
       "      <td>business information systems</td>\n",
       "      <td>creativity</td>\n",
       "    </tr>\n",
       "    <tr>\n",
       "      <th>1071447</th>\n",
       "      <td>0.0</td>\n",
       "      <td>7.711492</td>\n",
       "      <td>ethics</td>\n",
       "      <td>health information systems</td>\n",
       "    </tr>\n",
       "    <tr>\n",
       "      <th>1453604</th>\n",
       "      <td>0.0</td>\n",
       "      <td>7.678928</td>\n",
       "      <td>health information systems</td>\n",
       "      <td>web 2 0</td>\n",
       "    </tr>\n",
       "    <tr>\n",
       "      <th>1385180</th>\n",
       "      <td>0.0</td>\n",
       "      <td>7.648716</td>\n",
       "      <td>graph g</td>\n",
       "      <td>random oracle model</td>\n",
       "    </tr>\n",
       "    <tr>\n",
       "      <th>1170541</th>\n",
       "      <td>0.0</td>\n",
       "      <td>7.637157</td>\n",
       "      <td>field study</td>\n",
       "      <td>health information systems</td>\n",
       "    </tr>\n",
       "    <tr>\n",
       "      <th>807534</th>\n",
       "      <td>0.0</td>\n",
       "      <td>7.606503</td>\n",
       "      <td>digital divide</td>\n",
       "      <td>enterprise architecture</td>\n",
       "    </tr>\n",
       "    <tr>\n",
       "      <th>287786</th>\n",
       "      <td>0.0</td>\n",
       "      <td>7.596420</td>\n",
       "      <td>business information systems</td>\n",
       "      <td>organisational aspects</td>\n",
       "    </tr>\n",
       "    <tr>\n",
       "      <th>1537763</th>\n",
       "      <td>0.0</td>\n",
       "      <td>7.555795</td>\n",
       "      <td>h∞ control</td>\n",
       "      <td>model predictive control</td>\n",
       "    </tr>\n",
       "    <tr>\n",
       "      <th>1453607</th>\n",
       "      <td>0.0</td>\n",
       "      <td>7.543102</td>\n",
       "      <td>health information systems</td>\n",
       "      <td>web design</td>\n",
       "    </tr>\n",
       "    <tr>\n",
       "      <th>600951</th>\n",
       "      <td>0.0</td>\n",
       "      <td>7.538828</td>\n",
       "      <td>cooperative diversity</td>\n",
       "      <td>multiaccess communication</td>\n",
       "    </tr>\n",
       "    <tr>\n",
       "      <th>2246206</th>\n",
       "      <td>0.0</td>\n",
       "      <td>7.509406</td>\n",
       "      <td>multiaccess communication</td>\n",
       "      <td>space time block code</td>\n",
       "    </tr>\n",
       "  </tbody>\n",
       "</table>\n",
       "</div>"
      ],
      "text/plain": [
       "         実測値       予測値                        キーワード1  \\\n",
       "334415   0.0  8.807918             change management   \n",
       "1452909  0.0  8.637984    health information systems   \n",
       "620137   0.0  8.526610                    creativity   \n",
       "1452498  0.0  8.231180    health information systems   \n",
       "1385214  0.0  7.936509                       graph g   \n",
       "1452406  0.0  7.909186    health information systems   \n",
       "1044699  0.0  7.830931       enterprise architecture   \n",
       "399197   0.0  7.803923        cochannel interference   \n",
       "619941   0.0  7.717166                    creativity   \n",
       "286782   0.0  7.716261  business information systems   \n",
       "1071447  0.0  7.711492                        ethics   \n",
       "1453604  0.0  7.678928    health information systems   \n",
       "1385180  0.0  7.648716                       graph g   \n",
       "1170541  0.0  7.637157                   field study   \n",
       "807534   0.0  7.606503                digital divide   \n",
       "287786   0.0  7.596420  business information systems   \n",
       "1537763  0.0  7.555795                    h∞ control   \n",
       "1453607  0.0  7.543102    health information systems   \n",
       "600951   0.0  7.538828         cooperative diversity   \n",
       "2246206  0.0  7.509406     multiaccess communication   \n",
       "\n",
       "                             キーワード2  \n",
       "334415   health information systems  \n",
       "1452909      organisational aspects  \n",
       "620137   health information systems  \n",
       "1452498        instructional design  \n",
       "1385214            regular language  \n",
       "1452406            higher education  \n",
       "1044699        instructional design  \n",
       "399197    multiaccess communication  \n",
       "619941      enterprise architecture  \n",
       "286782                   creativity  \n",
       "1071447  health information systems  \n",
       "1453604                     web 2 0  \n",
       "1385180         random oracle model  \n",
       "1170541  health information systems  \n",
       "807534      enterprise architecture  \n",
       "287786       organisational aspects  \n",
       "1537763    model predictive control  \n",
       "1453607                  web design  \n",
       "600951    multiaccess communication  \n",
       "2246206       space time block code  "
      ]
     },
     "execution_count": 57,
     "metadata": {},
     "output_type": "execute_result"
    }
   ],
   "source": [
    "df.sort_values(\"予測値\", ascending=False, inplace=True)\n",
    "df.head(20)"
   ]
  },
  {
   "cell_type": "code",
   "execution_count": 58,
   "metadata": {},
   "outputs": [
    {
     "data": {
      "text/html": [
       "<div>\n",
       "<style scoped>\n",
       "    .dataframe tbody tr th:only-of-type {\n",
       "        vertical-align: middle;\n",
       "    }\n",
       "\n",
       "    .dataframe tbody tr th {\n",
       "        vertical-align: top;\n",
       "    }\n",
       "\n",
       "    .dataframe thead th {\n",
       "        text-align: right;\n",
       "    }\n",
       "</style>\n",
       "<table border=\"1\" class=\"dataframe\">\n",
       "  <thead>\n",
       "    <tr style=\"text-align: right;\">\n",
       "      <th></th>\n",
       "      <th>実測値</th>\n",
       "      <th>予測値</th>\n",
       "      <th>キーワード1</th>\n",
       "      <th>キーワード2</th>\n",
       "    </tr>\n",
       "  </thead>\n",
       "  <tbody>\n",
       "    <tr>\n",
       "      <th>3703880</th>\n",
       "      <td>953.0</td>\n",
       "      <td>1.156474</td>\n",
       "      <td>task analysis</td>\n",
       "      <td>training</td>\n",
       "    </tr>\n",
       "    <tr>\n",
       "      <th>1740315</th>\n",
       "      <td>224.0</td>\n",
       "      <td>3.830746</td>\n",
       "      <td>internet of things</td>\n",
       "      <td>task analysis</td>\n",
       "    </tr>\n",
       "    <tr>\n",
       "      <th>744974</th>\n",
       "      <td>168.0</td>\n",
       "      <td>0.415477</td>\n",
       "      <td>deconvolution</td>\n",
       "      <td>task analysis</td>\n",
       "    </tr>\n",
       "    <tr>\n",
       "      <th>741952</th>\n",
       "      <td>154.0</td>\n",
       "      <td>0.516809</td>\n",
       "      <td>decoding</td>\n",
       "      <td>task analysis</td>\n",
       "    </tr>\n",
       "    <tr>\n",
       "      <th>459010</th>\n",
       "      <td>149.0</td>\n",
       "      <td>4.723251</td>\n",
       "      <td>complexity theory</td>\n",
       "      <td>mimo communication</td>\n",
       "    </tr>\n",
       "    <tr>\n",
       "      <th>2163214</th>\n",
       "      <td>144.0</td>\n",
       "      <td>3.147350</td>\n",
       "      <td>mobile handsets</td>\n",
       "      <td>task analysis</td>\n",
       "    </tr>\n",
       "    <tr>\n",
       "      <th>77476</th>\n",
       "      <td>115.0</td>\n",
       "      <td>0.317256</td>\n",
       "      <td>analytical models</td>\n",
       "      <td>task analysis</td>\n",
       "    </tr>\n",
       "    <tr>\n",
       "      <th>3035679</th>\n",
       "      <td>110.0</td>\n",
       "      <td>0.168432</td>\n",
       "      <td>remote sensing</td>\n",
       "      <td>task analysis</td>\n",
       "    </tr>\n",
       "    <tr>\n",
       "      <th>3538568</th>\n",
       "      <td>104.0</td>\n",
       "      <td>3.969452</td>\n",
       "      <td>standards</td>\n",
       "      <td>task analysis</td>\n",
       "    </tr>\n",
       "    <tr>\n",
       "      <th>459545</th>\n",
       "      <td>98.0</td>\n",
       "      <td>4.251003</td>\n",
       "      <td>complexity theory</td>\n",
       "      <td>task analysis</td>\n",
       "    </tr>\n",
       "    <tr>\n",
       "      <th>2988026</th>\n",
       "      <td>95.0</td>\n",
       "      <td>0.592588</td>\n",
       "      <td>recurrent neural networks</td>\n",
       "      <td>task analysis</td>\n",
       "    </tr>\n",
       "    <tr>\n",
       "      <th>1607949</th>\n",
       "      <td>93.0</td>\n",
       "      <td>-0.083380</td>\n",
       "      <td>indexes</td>\n",
       "      <td>task analysis</td>\n",
       "    </tr>\n",
       "    <tr>\n",
       "      <th>3703881</th>\n",
       "      <td>93.0</td>\n",
       "      <td>0.269097</td>\n",
       "      <td>task analysis</td>\n",
       "      <td>training data</td>\n",
       "    </tr>\n",
       "    <tr>\n",
       "      <th>459224</th>\n",
       "      <td>86.0</td>\n",
       "      <td>5.087633</td>\n",
       "      <td>complexity theory</td>\n",
       "      <td>precoding</td>\n",
       "    </tr>\n",
       "    <tr>\n",
       "      <th>2735553</th>\n",
       "      <td>80.0</td>\n",
       "      <td>0.553736</td>\n",
       "      <td>privacy</td>\n",
       "      <td>task analysis</td>\n",
       "    </tr>\n",
       "    <tr>\n",
       "      <th>1568425</th>\n",
       "      <td>75.0</td>\n",
       "      <td>0.178017</td>\n",
       "      <td>image reconstruction</td>\n",
       "      <td>task analysis</td>\n",
       "    </tr>\n",
       "    <tr>\n",
       "      <th>575998</th>\n",
       "      <td>69.0</td>\n",
       "      <td>0.351878</td>\n",
       "      <td>context modeling</td>\n",
       "      <td>task analysis</td>\n",
       "    </tr>\n",
       "    <tr>\n",
       "      <th>1621741</th>\n",
       "      <td>68.0</td>\n",
       "      <td>0.444217</td>\n",
       "      <td>informatics</td>\n",
       "      <td>task analysis</td>\n",
       "    </tr>\n",
       "    <tr>\n",
       "      <th>3255895</th>\n",
       "      <td>67.0</td>\n",
       "      <td>2.352121</td>\n",
       "      <td>service robots</td>\n",
       "      <td>task analysis</td>\n",
       "    </tr>\n",
       "    <tr>\n",
       "      <th>1566975</th>\n",
       "      <td>67.0</td>\n",
       "      <td>0.068941</td>\n",
       "      <td>image recognition</td>\n",
       "      <td>task analysis</td>\n",
       "    </tr>\n",
       "  </tbody>\n",
       "</table>\n",
       "</div>"
      ],
      "text/plain": [
       "           実測値       予測値                     キーワード1              キーワード2\n",
       "3703880  953.0  1.156474              task analysis            training\n",
       "1740315  224.0  3.830746         internet of things       task analysis\n",
       "744974   168.0  0.415477              deconvolution       task analysis\n",
       "741952   154.0  0.516809                   decoding       task analysis\n",
       "459010   149.0  4.723251          complexity theory  mimo communication\n",
       "2163214  144.0  3.147350            mobile handsets       task analysis\n",
       "77476    115.0  0.317256          analytical models       task analysis\n",
       "3035679  110.0  0.168432             remote sensing       task analysis\n",
       "3538568  104.0  3.969452                  standards       task analysis\n",
       "459545    98.0  4.251003          complexity theory       task analysis\n",
       "2988026   95.0  0.592588  recurrent neural networks       task analysis\n",
       "1607949   93.0 -0.083380                    indexes       task analysis\n",
       "3703881   93.0  0.269097              task analysis       training data\n",
       "459224    86.0  5.087633          complexity theory           precoding\n",
       "2735553   80.0  0.553736                    privacy       task analysis\n",
       "1568425   75.0  0.178017       image reconstruction       task analysis\n",
       "575998    69.0  0.351878           context modeling       task analysis\n",
       "1621741   68.0  0.444217                informatics       task analysis\n",
       "3255895   67.0  2.352121             service robots       task analysis\n",
       "1566975   67.0  0.068941          image recognition       task analysis"
      ]
     },
     "execution_count": 58,
     "metadata": {},
     "output_type": "execute_result"
    }
   ],
   "source": [
    "df.sort_values(\"実測値\", ascending=False, inplace=True)\n",
    "df.head(20)"
   ]
  },
  {
   "cell_type": "code",
   "execution_count": 60,
   "metadata": {},
   "outputs": [
    {
     "data": {
      "text/plain": [
       "4211183"
      ]
     },
     "execution_count": 60,
     "metadata": {},
     "output_type": "execute_result"
    }
   ],
   "source": [
    "len(df)"
   ]
  },
  {
   "cell_type": "code",
   "execution_count": null,
   "metadata": {},
   "outputs": [],
   "source": []
  }
 ],
 "metadata": {
  "interpreter": {
   "hash": "e5ac9074c40421cbf492f67471c5dc3e49846f397739518f542476e0deba3a6a"
  },
  "kernelspec": {
   "display_name": "Python 3.10.4 ('trend')",
   "language": "python",
   "name": "python3"
  },
  "language_info": {
   "codemirror_mode": {
    "name": "ipython",
    "version": 3
   },
   "file_extension": ".py",
   "mimetype": "text/x-python",
   "name": "python",
   "nbconvert_exporter": "python",
   "pygments_lexer": "ipython3",
   "version": "3.10.4"
  },
  "orig_nbformat": 4
 },
 "nbformat": 4,
 "nbformat_minor": 2
}
