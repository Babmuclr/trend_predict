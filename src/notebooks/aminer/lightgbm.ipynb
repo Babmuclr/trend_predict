{
 "cells": [
  {
   "cell_type": "markdown",
   "metadata": {},
   "source": [
    "# モデルの学習"
   ]
  },
  {
   "cell_type": "code",
   "execution_count": 1,
   "metadata": {},
   "outputs": [],
   "source": [
    "# import libraries\n",
    "\n",
    "import numpy as np\n",
    "import pandas as pd\n",
    "import gc\n",
    "import os\n",
    "import json\n",
    "from collections import Counter, defaultdict\n",
    "from tqdm.notebook import tqdm\n",
    "import matplotlib.pyplot as plt\n",
    "import matplotlib.dates as mdates\n",
    "%matplotlib inline\n",
    "import plotly.express as px\n",
    "import re\n",
    "import datetime as dt\n",
    "import japanize_matplotlib\n",
    "import itertools\n",
    "year_pattern = r'([1-2][0-9]{3})'\n",
    "import time"
   ]
  },
  {
   "cell_type": "code",
   "execution_count": 2,
   "metadata": {},
   "outputs": [],
   "source": [
    "DATAPATH = \"../../../data/DBLP/made/\"\n",
    "OUTPUTPATH = \"../../../result/aminer/\""
   ]
  },
  {
   "cell_type": "code",
   "execution_count": 3,
   "metadata": {},
   "outputs": [
    {
     "data": {
      "text/plain": [
       "(2275, '3d imaging')"
      ]
     },
     "execution_count": 3,
     "metadata": {},
     "output_type": "execute_result"
    }
   ],
   "source": [
    "with open(DATAPATH + \"keywords_delete_similar_words.txt\") as f:\n",
    "    keywords = list(map(lambda x: x.replace(\"\\n\", \"\"), f.readlines()))\n",
    "key_sets = set(keywords)\n",
    "len(keywords), keywords[0]"
   ]
  },
  {
   "cell_type": "code",
   "execution_count": 4,
   "metadata": {},
   "outputs": [],
   "source": [
    "import torch\n",
    "import torch.utils.data\n",
    "import torch.nn as nn\n",
    "import torch.nn.functional as F\n",
    "import torch.optim as optim\n",
    "\n",
    "import lightgbm as lgb #LightGBM\n",
    "from sklearn.metrics import mean_squared_error\n",
    "from sklearn import utils\n",
    "\n",
    "from scipy.stats import pearsonr"
   ]
  },
  {
   "cell_type": "code",
   "execution_count": 5,
   "metadata": {},
   "outputs": [
    {
     "data": {
      "text/plain": [
       "((2275, 2275, 23), (2275, 2275), (2275, 2275, 23), (2275, 2275))"
      ]
     },
     "execution_count": 5,
     "metadata": {},
     "output_type": "execute_result"
    }
   ],
   "source": [
    "train_x = np.load(DATAPATH + \"train_x.npy\")\n",
    "train_y = np.load(DATAPATH + \"train_y.npy\")\n",
    "\n",
    "test_x = np.load(DATAPATH + \"test_x.npy\")\n",
    "test_y = np.load(DATAPATH + \"test_y.npy\")\n",
    "train_x.shape, train_y.shape, test_x.shape, test_y.shape"
   ]
  },
  {
   "cell_type": "code",
   "execution_count": 6,
   "metadata": {},
   "outputs": [
    {
     "data": {
      "text/plain": [
       "(2275, 2275)"
      ]
     },
     "execution_count": 6,
     "metadata": {},
     "output_type": "execute_result"
    }
   ],
   "source": [
    "N = train_x.shape[0]\n",
    "M = train_x.shape[1]\n",
    "N, M"
   ]
  },
  {
   "cell_type": "code",
   "execution_count": 7,
   "metadata": {},
   "outputs": [
    {
     "data": {
      "text/plain": [
       "((2586675, 23), (2586675,), (2586675, 23), (2586675,))"
      ]
     },
     "execution_count": 7,
     "metadata": {},
     "output_type": "execute_result"
    }
   ],
   "source": [
    "train_x, train_y, test_x, test_y = train_x[np.triu_indices(n=N, k=1)], train_y[np.triu_indices(n=N, k=1)], test_x[np.triu_indices(n=N, k=1)], test_y[np.triu_indices(n=N, k=1)]\n",
    "train_x.shape, train_y.shape, test_x.shape, test_y.shape"
   ]
  },
  {
   "cell_type": "code",
   "execution_count": 8,
   "metadata": {},
   "outputs": [
    {
     "data": {
      "text/plain": [
       "2586675"
      ]
     },
     "execution_count": 8,
     "metadata": {},
     "output_type": "execute_result"
    }
   ],
   "source": [
    "P = train_x.shape[0]\n",
    "P"
   ]
  },
  {
   "cell_type": "code",
   "execution_count": 9,
   "metadata": {},
   "outputs": [
    {
     "name": "stdout",
     "output_type": "stream",
     "text": [
      "フィッティング時間: 3.4628960490226746\n",
      "スコア時間: 0.9659537076950073\n"
     ]
    }
   ],
   "source": [
    "model = lgb.LGBMRegressor()\n",
    "start_time = time.perf_counter()\n",
    "model.fit(train_x, train_y)\n",
    "print(\"フィッティング時間: {}\".format(time.perf_counter() - start_time))\n",
    "start_time = time.perf_counter()\n",
    "model.score(test_x, test_y)\n",
    "print(\"スコア時間: {}\".format(time.perf_counter() - start_time))\n"
   ]
  },
  {
   "cell_type": "code",
   "execution_count": 10,
   "metadata": {},
   "outputs": [],
   "source": [
    "result_detail = model.predict(test_x)"
   ]
  },
  {
   "cell_type": "code",
   "execution_count": 11,
   "metadata": {},
   "outputs": [
    {
     "data": {
      "text/plain": [
       "((2586675,), (2586675,))"
      ]
     },
     "execution_count": 11,
     "metadata": {},
     "output_type": "execute_result"
    }
   ],
   "source": [
    "result = model.predict(test_x)\n",
    "result_before = model.predict(train_x)\n",
    "result.shape, result_before.shape"
   ]
  },
  {
   "cell_type": "code",
   "execution_count": 12,
   "metadata": {},
   "outputs": [
    {
     "name": "stdout",
     "output_type": "stream",
     "text": [
      "RMSE: 8.321, MSE: 69.231, 相関係数: 0.902\n"
     ]
    }
   ],
   "source": [
    "print(\"RMSE: {}, MSE: {}, 相関係数: {}\".format(\n",
    "    round(np.sqrt(mean_squared_error(result_before, train_y)),3), \n",
    "    round(mean_squared_error(result_before, train_y),3),\n",
    "    round(pearsonr(result_before, train_y)[0],3)))"
   ]
  },
  {
   "cell_type": "code",
   "execution_count": 13,
   "metadata": {},
   "outputs": [
    {
     "name": "stdout",
     "output_type": "stream",
     "text": [
      "RMSE: 5.743, MSE: 32.978, 相関係数: 0.554\n"
     ]
    }
   ],
   "source": [
    "print(\"RMSE: {}, MSE: {}, 相関係数: {}\".format(\n",
    "    round(np.sqrt(mean_squared_error(result, test_y)),3), \n",
    "    round(mean_squared_error(result, test_y),3),\n",
    "    round(pearsonr(result, test_y)[0],3)))"
   ]
  },
  {
   "cell_type": "code",
   "execution_count": 14,
   "metadata": {},
   "outputs": [
    {
     "data": {
      "text/plain": [
       "0.21"
      ]
     },
     "execution_count": 14,
     "metadata": {},
     "output_type": "execute_result"
    }
   ],
   "source": [
    "df = pd.DataFrame(result, columns=[\"予測\"])\n",
    "df[\"実測\"] = test_y\n",
    "df[\"予測順位\"] = df[\"予測\"].rank(ascending=False)\n",
    "df[\"実測順位\"] = df[\"実測\"].rank(ascending=False)\n",
    "df = df.sort_values(\"予測順位\", )\n",
    "top = df.head(100)\n",
    "len(top[top[\"実測順位\"]<100]) / len(top)"
   ]
  },
  {
   "cell_type": "code",
   "execution_count": 15,
   "metadata": {},
   "outputs": [
    {
     "data": {
      "image/png": "[encoded data removed]",
      "text/plain": [
       "<Figure size 864x576 with 1 Axes>"
      ]
     },
     "metadata": {},
     "output_type": "display_data"
    }
   ],
   "source": [
    "fig, ax = plt.subplots(facecolor=\"white\",figsize=(12,8))\n",
    "ax.scatter(train_y, result_before, alpha=0.3)\n",
    "ax.set_xlabel(\"実際の論文数\")\n",
    "ax.set_ylabel(\"予測の論文数\")\n",
    "ax.grid()\n",
    "ax.set_title(\"LightGBM\")\n",
    "# fig.savefig(OUTPUTPATH+\"img/gbm.png\")\n",
    "fig.show()"
   ]
  },
  {
   "cell_type": "code",
   "execution_count": 16,
   "metadata": {},
   "outputs": [
    {
     "data": {
      "image/png": "[encoded data removed]",
      "text/plain": [
       "<Figure size 864x576 with 1 Axes>"
      ]
     },
     "metadata": {},
     "output_type": "display_data"
    }
   ],
   "source": [
    "fig, ax = plt.subplots(facecolor=\"white\",figsize=(12,8))\n",
    "ax.scatter(test_y, result, alpha=0.3)\n",
    "ax.set_xlabel(\"実際の論文数\")\n",
    "ax.set_ylabel(\"予測の論文数\")\n",
    "ax.grid()\n",
    "ax.set_title(\"LightGBM\")\n",
    "fig.savefig(OUTPUTPATH+\"img/gbm.png\")\n",
    "fig.show()"
   ]
  },
  {
   "cell_type": "code",
   "execution_count": 17,
   "metadata": {},
   "outputs": [
    {
     "name": "stdout",
     "output_type": "stream",
     "text": [
      "キーワード: accuracy, feature extraction, 予測値: 413.8, 実測値: 24.0\n",
      "キーワード: algorithm, bioinformatics, 予測値: 464.0, 実測値: 13.0\n",
      "キーワード: algorithm, design, 予測値: 1161.7, 実測値: 171.0\n",
      "キーワード: algorithm, experimentation, 予測値: 762.2, 実測値: 68.0\n",
      "キーワード: algorithm, performance, 予測値: 914.7, 実測値: 203.0\n",
      "キーワード: algorithm, theory, 予測値: 458.6, 実測値: 70.0\n",
      "キーワード: bioinformatics, biomedical research, 予測値: 717.5, 実測値: 6.0\n",
      "キーワード: bioinformatics, genomics, 予測値: 463.9, 実測値: 283.0\n",
      "キーワード: capacitors, switches, 予測値: 500.1, 実測値: 669.0\n",
      "キーワード: cloud computing, servers, 予測値: 574.6, 実測値: 803.0\n",
      "キーワード: cloud computing, virtualisation, 予測値: 452.7, 実測値: 271.0\n",
      "キーワード: cognitive radio, cognitive radio networks, 予測値: 493.0, 実測値: 11.0\n",
      "キーワード: cryptography, encryption, 予測値: 492.3, 実測値: 62.0\n",
      "キーワード: database, face, 予測値: 535.1, 実測値: 96.0\n",
      "キーワード: decoding, encoding, 予測値: 491.7, 実測値: 670.0\n",
      "キーワード: design, experimentation, 予測値: 618.6, 実測値: 48.0\n",
      "キーワード: design, human factors, 予測値: 529.4, 実測値: 20.0\n",
      "キーワード: design, performance, 予測値: 862.5, 実測値: 173.0\n",
      "キーワード: electroencephalography, medical signal processing, 予測値: 438.4, 実測値: 24.0\n",
      "キーワード: encoding, network coding, 予測値: 507.2, 実測値: 158.0\n",
      "キーワード: estimation, noise, 予測値: 470.8, 実測値: 18.0\n",
      "キーワード: experimentation, performance, 予測値: 573.5, 実測値: 63.0\n",
      "キーワード: fading, signal-to-noise ratio, 予測値: 440.7, 実測値: 30.0\n",
      "キーワード: feature extraction, feature selection, 予測値: 504.8, 実測値: 135.0\n",
      "キーワード: feature extraction, histograms, 予測値: 462.4, 実測値: 247.0\n",
      "キーワード: feature extraction, image classification, 予測値: 540.4, 実測値: 295.0\n",
      "キーワード: feature extraction, image recognition, 予測値: 472.1, 実測値: 265.0\n",
      "キーワード: feature extraction, image resolution, 予測値: 437.2, 実測値: 168.0\n",
      "キーワード: feature extraction, object recognition, 予測値: 436.5, 実測値: 121.0\n",
      "キーワード: feature extraction, support vector machine, 予測値: 613.0, 実測値: 746.0\n",
      "キーワード: feature extraction, wavelet transform, 予測値: 414.1, 実測値: 117.0\n",
      "キーワード: game theory, nash equilibrium, 予測値: 410.1, 実測値: 116.0\n",
      "キーワード: geophysical image processing, remote sensing, 予測値: 401.5, 実測値: 30.0\n",
      "キーワード: image segmentation, segmentation, 予測値: 501.0, 実測値: 12.0\n",
      "キーワード: interference, resource management, 予測値: 475.4, 実測値: 922.0\n",
      "キーワード: interference, signal-to-noise ratio, 予測値: 1100.9, 実測値: 1040.0\n",
      "キーワード: interference, wireless communications, 予測値: 507.9, 実測値: 794.0\n",
      "キーワード: learning (artificial intelligence, pattern classification, 予測値: 447.5, 実測値: 58.0\n",
      "キーワード: mobile communications, mobile computing, 予測値: 697.2, 実測値: 434.0\n",
      "キーワード: mobile communications, mobile devices, 予測値: 454.6, 実測値: 0.0\n",
      "キーワード: mobile robot, navigation, 予測値: 412.4, 実測値: 73.0\n",
      "キーワード: monte carlo method, monte carlo simulations, 予測値: 481.8, 実測値: 4.0\n",
      "キーワード: network topology, topology, 予測値: 448.8, 実測値: 691.0\n",
      "キーワード: noise, noise measurement, 予測値: 629.2, 実測値: 16.0\n",
      "キーワード: nonlinear programming, optimisation, 予測値: 444.6, 実測値: 640.0\n",
      "キーワード: optimisation, particle swarm optimisation, 予測値: 442.7, 実測値: 181.0\n",
      "キーワード: protocol, signal-to-noise ratio, 予測値: 401.4, 実測値: 108.0\n",
      "キーワード: remote sensing, satellites, 予測値: 575.9, 実測値: 337.0\n",
      "キーワード: routing, topology, 予測値: 429.0, 実測値: 186.0\n",
      "キーワード: signal-to-noise ratio, snr, 予測値: 457.4, 実測値: 2.0\n",
      "キーワード: signal-to-noise ratio, transmitter, 予測値: 412.1, 実測値: 188.0\n",
      "キーワード: sociology, statistics, 予測値: 505.7, 実測値: 777.0\n",
      "キーワード: support vector machine, svm, 予測値: 456.8, 実測値: 22.0\n",
      "キーワード: wireless communications, wireless sensor network, 予測値: 519.9, 実測値: 1115.0\n"
     ]
    }
   ],
   "source": [
    "predict_matrix = np.zeros([N,N]) \n",
    "correct_matrix = np.zeros([N,N]) \n",
    "correct_matrix[np.triu_indices(n=N, k=1)] = test_y\n",
    "predict_matrix[np.triu_indices(n=N, k=1)] = model.predict(test_x)\n",
    "for i in range(N):\n",
    "    for j in range(N):\n",
    "        if predict_matrix[i][j] > 400:\n",
    "            print(\"キーワード: {}, {}, 予測値: {}, 実測値: {}\".format(keywords[i], keywords[j],round(predict_matrix[i][j],1), correct_matrix[i][j]))"
   ]
  },
  {
   "cell_type": "code",
   "execution_count": 18,
   "metadata": {},
   "outputs": [],
   "source": [
    "bool_matrix = np.zeros([N,N]) \n",
    "bool_matrix[np.triu_indices(n=N, k=1)] = train_y\n",
    "word_matrix = np.zeros([N,N,2]).astype(str)\n",
    "for i in range(N):\n",
    "    for j in range(N):\n",
    "        word_matrix[i][j][0] = keywords[i]\n",
    "        word_matrix[i][j][1] = keywords[j]\n",
    "correct_new = correct_matrix[np.where(bool_matrix==0)]\n",
    "predict_new = predict_matrix[np.where(bool_matrix==0)]\n",
    "word_new = word_matrix[np.where(bool_matrix==0)]"
   ]
  },
  {
   "cell_type": "code",
   "execution_count": 19,
   "metadata": {},
   "outputs": [
    {
     "data": {
      "text/html": [
       "<div>\n",
       "<style scoped>\n",
       "    .dataframe tbody tr th:only-of-type {\n",
       "        vertical-align: middle;\n",
       "    }\n",
       "\n",
       "    .dataframe tbody tr th {\n",
       "        vertical-align: top;\n",
       "    }\n",
       "\n",
       "    .dataframe thead th {\n",
       "        text-align: right;\n",
       "    }\n",
       "</style>\n",
       "<table border=\"1\" class=\"dataframe\">\n",
       "  <thead>\n",
       "    <tr style=\"text-align: right;\">\n",
       "      <th></th>\n",
       "      <th>実測値</th>\n",
       "      <th>予測値</th>\n",
       "      <th>キーワード1</th>\n",
       "      <th>キーワード2</th>\n",
       "    </tr>\n",
       "  </thead>\n",
       "  <tbody>\n",
       "    <tr>\n",
       "      <th>792512</th>\n",
       "      <td>0.0</td>\n",
       "      <td>14.696215</td>\n",
       "      <td>different level</td>\n",
       "      <td>probability</td>\n",
       "    </tr>\n",
       "    <tr>\n",
       "      <th>416565</th>\n",
       "      <td>0.0</td>\n",
       "      <td>14.245673</td>\n",
       "      <td>col</td>\n",
       "      <td>robustness</td>\n",
       "    </tr>\n",
       "    <tr>\n",
       "      <th>1892026</th>\n",
       "      <td>0.0</td>\n",
       "      <td>14.245673</td>\n",
       "      <td>linear time</td>\n",
       "      <td>probability</td>\n",
       "    </tr>\n",
       "    <tr>\n",
       "      <th>1690975</th>\n",
       "      <td>0.0</td>\n",
       "      <td>14.070235</td>\n",
       "      <td>integrable system</td>\n",
       "      <td>robustness</td>\n",
       "    </tr>\n",
       "    <tr>\n",
       "      <th>2542071</th>\n",
       "      <td>0.0</td>\n",
       "      <td>14.070235</td>\n",
       "      <td>packaging</td>\n",
       "      <td>probability</td>\n",
       "    </tr>\n",
       "    <tr>\n",
       "      <th>1482687</th>\n",
       "      <td>0.0</td>\n",
       "      <td>14.070235</td>\n",
       "      <td>high performance</td>\n",
       "      <td>probability</td>\n",
       "    </tr>\n",
       "    <tr>\n",
       "      <th>1164448</th>\n",
       "      <td>0.0</td>\n",
       "      <td>14.070235</td>\n",
       "      <td>feedback loop</td>\n",
       "      <td>probability</td>\n",
       "    </tr>\n",
       "    <tr>\n",
       "      <th>1771909</th>\n",
       "      <td>0.0</td>\n",
       "      <td>12.805916</td>\n",
       "      <td>iteration method</td>\n",
       "      <td>testing</td>\n",
       "    </tr>\n",
       "    <tr>\n",
       "      <th>3754188</th>\n",
       "      <td>0.0</td>\n",
       "      <td>12.805916</td>\n",
       "      <td>telephony</td>\n",
       "      <td>testing</td>\n",
       "    </tr>\n",
       "    <tr>\n",
       "      <th>960598</th>\n",
       "      <td>0.0</td>\n",
       "      <td>12.805916</td>\n",
       "      <td>efficient method</td>\n",
       "      <td>testing</td>\n",
       "    </tr>\n",
       "    <tr>\n",
       "      <th>2422157</th>\n",
       "      <td>0.0</td>\n",
       "      <td>12.805916</td>\n",
       "      <td>numerical method</td>\n",
       "      <td>testing</td>\n",
       "    </tr>\n",
       "    <tr>\n",
       "      <th>2664257</th>\n",
       "      <td>0.0</td>\n",
       "      <td>12.805916</td>\n",
       "      <td>point to point</td>\n",
       "      <td>testing</td>\n",
       "    </tr>\n",
       "    <tr>\n",
       "      <th>3338385</th>\n",
       "      <td>0.0</td>\n",
       "      <td>12.805916</td>\n",
       "      <td>sliding window</td>\n",
       "      <td>testing</td>\n",
       "    </tr>\n",
       "    <tr>\n",
       "      <th>1003106</th>\n",
       "      <td>0.0</td>\n",
       "      <td>12.805916</td>\n",
       "      <td>emerging technology</td>\n",
       "      <td>testing</td>\n",
       "    </tr>\n",
       "    <tr>\n",
       "      <th>474282</th>\n",
       "      <td>0.0</td>\n",
       "      <td>12.805916</td>\n",
       "      <td>computational cost</td>\n",
       "      <td>testing</td>\n",
       "    </tr>\n",
       "    <tr>\n",
       "      <th>415772</th>\n",
       "      <td>0.0</td>\n",
       "      <td>12.435146</td>\n",
       "      <td>col</td>\n",
       "      <td>graph theory</td>\n",
       "    </tr>\n",
       "    <tr>\n",
       "      <th>1093071</th>\n",
       "      <td>0.0</td>\n",
       "      <td>12.435146</td>\n",
       "      <td>experimental analysis</td>\n",
       "      <td>information technology</td>\n",
       "    </tr>\n",
       "    <tr>\n",
       "      <th>415905</th>\n",
       "      <td>0.0</td>\n",
       "      <td>12.435146</td>\n",
       "      <td>col</td>\n",
       "      <td>information technology</td>\n",
       "    </tr>\n",
       "    <tr>\n",
       "      <th>233519</th>\n",
       "      <td>1.0</td>\n",
       "      <td>12.435146</td>\n",
       "      <td>biomedical engineering</td>\n",
       "      <td>encoding</td>\n",
       "    </tr>\n",
       "    <tr>\n",
       "      <th>1214973</th>\n",
       "      <td>0.0</td>\n",
       "      <td>12.435146</td>\n",
       "      <td>fitness function</td>\n",
       "      <td>sensor</td>\n",
       "    </tr>\n",
       "  </tbody>\n",
       "</table>\n",
       "</div>"
      ],
      "text/plain": [
       "         実測値        予測値                  キーワード1                  キーワード2\n",
       "792512   0.0  14.696215         different level             probability\n",
       "416565   0.0  14.245673                     col              robustness\n",
       "1892026  0.0  14.245673             linear time             probability\n",
       "1690975  0.0  14.070235       integrable system              robustness\n",
       "2542071  0.0  14.070235               packaging             probability\n",
       "1482687  0.0  14.070235        high performance             probability\n",
       "1164448  0.0  14.070235           feedback loop             probability\n",
       "1771909  0.0  12.805916        iteration method                 testing\n",
       "3754188  0.0  12.805916               telephony                 testing\n",
       "960598   0.0  12.805916        efficient method                 testing\n",
       "2422157  0.0  12.805916        numerical method                 testing\n",
       "2664257  0.0  12.805916          point to point                 testing\n",
       "3338385  0.0  12.805916          sliding window                 testing\n",
       "1003106  0.0  12.805916     emerging technology                 testing\n",
       "474282   0.0  12.805916      computational cost                 testing\n",
       "415772   0.0  12.435146                     col            graph theory\n",
       "1093071  0.0  12.435146   experimental analysis  information technology\n",
       "415905   0.0  12.435146                     col  information technology\n",
       "233519   1.0  12.435146  biomedical engineering                encoding\n",
       "1214973  0.0  12.435146        fitness function                  sensor"
      ]
     },
     "execution_count": 19,
     "metadata": {},
     "output_type": "execute_result"
    }
   ],
   "source": [
    "df = pd.DataFrame(correct_new, columns=[\"実測値\"])\n",
    "df[\"予測値\"] = predict_new\n",
    "df[\"キーワード1\"] = word_new[:,0]\n",
    "df[\"キーワード2\"] = word_new[:,1]\n",
    "df.sort_values(\"予測値\", ascending=False, inplace=True)\n",
    "df.head(20)"
   ]
  },
  {
   "cell_type": "code",
   "execution_count": 20,
   "metadata": {},
   "outputs": [
    {
     "data": {
      "text/html": [
       "<div>\n",
       "<style scoped>\n",
       "    .dataframe tbody tr th:only-of-type {\n",
       "        vertical-align: middle;\n",
       "    }\n",
       "\n",
       "    .dataframe tbody tr th {\n",
       "        vertical-align: top;\n",
       "    }\n",
       "\n",
       "    .dataframe thead th {\n",
       "        text-align: right;\n",
       "    }\n",
       "</style>\n",
       "<table border=\"1\" class=\"dataframe\">\n",
       "  <thead>\n",
       "    <tr style=\"text-align: right;\">\n",
       "      <th></th>\n",
       "      <th>実測値</th>\n",
       "      <th>予測値</th>\n",
       "      <th>キーワード1</th>\n",
       "      <th>キーワード2</th>\n",
       "    </tr>\n",
       "  </thead>\n",
       "  <tbody>\n",
       "    <tr>\n",
       "      <th>3703880</th>\n",
       "      <td>953.0</td>\n",
       "      <td>0.279592</td>\n",
       "      <td>task analysis</td>\n",
       "      <td>training</td>\n",
       "    </tr>\n",
       "    <tr>\n",
       "      <th>1740315</th>\n",
       "      <td>224.0</td>\n",
       "      <td>0.287015</td>\n",
       "      <td>internet of things</td>\n",
       "      <td>task analysis</td>\n",
       "    </tr>\n",
       "    <tr>\n",
       "      <th>744974</th>\n",
       "      <td>168.0</td>\n",
       "      <td>0.550582</td>\n",
       "      <td>deconvolution</td>\n",
       "      <td>task analysis</td>\n",
       "    </tr>\n",
       "    <tr>\n",
       "      <th>741952</th>\n",
       "      <td>154.0</td>\n",
       "      <td>0.894369</td>\n",
       "      <td>decoding</td>\n",
       "      <td>task analysis</td>\n",
       "    </tr>\n",
       "    <tr>\n",
       "      <th>459010</th>\n",
       "      <td>149.0</td>\n",
       "      <td>0.449362</td>\n",
       "      <td>complexity theory</td>\n",
       "      <td>mimo communication</td>\n",
       "    </tr>\n",
       "    <tr>\n",
       "      <th>2163214</th>\n",
       "      <td>144.0</td>\n",
       "      <td>0.225698</td>\n",
       "      <td>mobile handsets</td>\n",
       "      <td>task analysis</td>\n",
       "    </tr>\n",
       "    <tr>\n",
       "      <th>77476</th>\n",
       "      <td>115.0</td>\n",
       "      <td>0.331875</td>\n",
       "      <td>analytical models</td>\n",
       "      <td>task analysis</td>\n",
       "    </tr>\n",
       "    <tr>\n",
       "      <th>3035679</th>\n",
       "      <td>110.0</td>\n",
       "      <td>0.742987</td>\n",
       "      <td>remote sensing</td>\n",
       "      <td>task analysis</td>\n",
       "    </tr>\n",
       "    <tr>\n",
       "      <th>3538568</th>\n",
       "      <td>104.0</td>\n",
       "      <td>0.225698</td>\n",
       "      <td>standards</td>\n",
       "      <td>task analysis</td>\n",
       "    </tr>\n",
       "    <tr>\n",
       "      <th>459545</th>\n",
       "      <td>98.0</td>\n",
       "      <td>0.225698</td>\n",
       "      <td>complexity theory</td>\n",
       "      <td>task analysis</td>\n",
       "    </tr>\n",
       "    <tr>\n",
       "      <th>2988026</th>\n",
       "      <td>95.0</td>\n",
       "      <td>0.331875</td>\n",
       "      <td>recurrent neural networks</td>\n",
       "      <td>task analysis</td>\n",
       "    </tr>\n",
       "    <tr>\n",
       "      <th>1607949</th>\n",
       "      <td>93.0</td>\n",
       "      <td>0.675223</td>\n",
       "      <td>indexes</td>\n",
       "      <td>task analysis</td>\n",
       "    </tr>\n",
       "    <tr>\n",
       "      <th>3703881</th>\n",
       "      <td>93.0</td>\n",
       "      <td>0.449362</td>\n",
       "      <td>task analysis</td>\n",
       "      <td>training data</td>\n",
       "    </tr>\n",
       "    <tr>\n",
       "      <th>459224</th>\n",
       "      <td>86.0</td>\n",
       "      <td>0.225698</td>\n",
       "      <td>complexity theory</td>\n",
       "      <td>precoding</td>\n",
       "    </tr>\n",
       "    <tr>\n",
       "      <th>2735553</th>\n",
       "      <td>80.0</td>\n",
       "      <td>0.537621</td>\n",
       "      <td>privacy</td>\n",
       "      <td>task analysis</td>\n",
       "    </tr>\n",
       "    <tr>\n",
       "      <th>1568425</th>\n",
       "      <td>75.0</td>\n",
       "      <td>0.429806</td>\n",
       "      <td>image reconstruction</td>\n",
       "      <td>task analysis</td>\n",
       "    </tr>\n",
       "    <tr>\n",
       "      <th>575998</th>\n",
       "      <td>69.0</td>\n",
       "      <td>0.472219</td>\n",
       "      <td>context modeling</td>\n",
       "      <td>task analysis</td>\n",
       "    </tr>\n",
       "    <tr>\n",
       "      <th>1621741</th>\n",
       "      <td>68.0</td>\n",
       "      <td>0.253513</td>\n",
       "      <td>informatics</td>\n",
       "      <td>task analysis</td>\n",
       "    </tr>\n",
       "    <tr>\n",
       "      <th>1566975</th>\n",
       "      <td>67.0</td>\n",
       "      <td>0.537621</td>\n",
       "      <td>image recognition</td>\n",
       "      <td>task analysis</td>\n",
       "    </tr>\n",
       "    <tr>\n",
       "      <th>3255895</th>\n",
       "      <td>67.0</td>\n",
       "      <td>0.382560</td>\n",
       "      <td>service robots</td>\n",
       "      <td>task analysis</td>\n",
       "    </tr>\n",
       "  </tbody>\n",
       "</table>\n",
       "</div>"
      ],
      "text/plain": [
       "           実測値       予測値                     キーワード1              キーワード2\n",
       "3703880  953.0  0.279592              task analysis            training\n",
       "1740315  224.0  0.287015         internet of things       task analysis\n",
       "744974   168.0  0.550582              deconvolution       task analysis\n",
       "741952   154.0  0.894369                   decoding       task analysis\n",
       "459010   149.0  0.449362          complexity theory  mimo communication\n",
       "2163214  144.0  0.225698            mobile handsets       task analysis\n",
       "77476    115.0  0.331875          analytical models       task analysis\n",
       "3035679  110.0  0.742987             remote sensing       task analysis\n",
       "3538568  104.0  0.225698                  standards       task analysis\n",
       "459545    98.0  0.225698          complexity theory       task analysis\n",
       "2988026   95.0  0.331875  recurrent neural networks       task analysis\n",
       "1607949   93.0  0.675223                    indexes       task analysis\n",
       "3703881   93.0  0.449362              task analysis       training data\n",
       "459224    86.0  0.225698          complexity theory           precoding\n",
       "2735553   80.0  0.537621                    privacy       task analysis\n",
       "1568425   75.0  0.429806       image reconstruction       task analysis\n",
       "575998    69.0  0.472219           context modeling       task analysis\n",
       "1621741   68.0  0.253513                informatics       task analysis\n",
       "1566975   67.0  0.537621          image recognition       task analysis\n",
       "3255895   67.0  0.382560             service robots       task analysis"
      ]
     },
     "execution_count": 20,
     "metadata": {},
     "output_type": "execute_result"
    }
   ],
   "source": [
    "df.sort_values(\"実測値\", ascending=False, inplace=True)\n",
    "df.head(20)"
   ]
  },
  {
   "cell_type": "markdown",
   "metadata": {},
   "source": [
    "# 人気度"
   ]
  },
  {
   "cell_type": "code",
   "execution_count": 21,
   "metadata": {},
   "outputs": [
    {
     "data": {
      "text/plain": [
       "((2275, 2275, 23), (2275, 2275), (2275, 2275, 23), (2275, 2275))"
      ]
     },
     "execution_count": 21,
     "metadata": {},
     "output_type": "execute_result"
    }
   ],
   "source": [
    "train_x = np.load(DATAPATH + \"train_x.npy\")\n",
    "train_y = np.load(DATAPATH + \"train_y_diff.npy\")\n",
    "\n",
    "test_x = np.load(DATAPATH + \"test_x.npy\")\n",
    "test_y = np.load(DATAPATH + \"test_y_diff.npy\")\n",
    "train_x.shape, train_y.shape, test_x.shape, test_y.shape"
   ]
  },
  {
   "cell_type": "code",
   "execution_count": 22,
   "metadata": {},
   "outputs": [
    {
     "data": {
      "text/plain": [
       "((2586675, 23), (2586675,), (2586675, 23), (2586675,))"
      ]
     },
     "execution_count": 22,
     "metadata": {},
     "output_type": "execute_result"
    }
   ],
   "source": [
    "train_x, train_y, test_x, test_y = train_x[np.triu_indices(n=N, k=1)], train_y[np.triu_indices(n=N, k=1)], test_x[np.triu_indices(n=N, k=1)], test_y[np.triu_indices(n=N, k=1)]\n",
    "train_x.shape, train_y.shape, test_x.shape, test_y.shape"
   ]
  },
  {
   "cell_type": "code",
   "execution_count": 23,
   "metadata": {},
   "outputs": [
    {
     "name": "stdout",
     "output_type": "stream",
     "text": [
      "フィッティング時間: 3.4776717610657215\n",
      "スコア時間: 0.9914620406925678\n"
     ]
    }
   ],
   "source": [
    "model = lgb.LGBMRegressor()\n",
    "start_time = time.perf_counter()\n",
    "model.fit(train_x, train_y)\n",
    "print(\"フィッティング時間: {}\".format(time.perf_counter() - start_time))\n",
    "start_time = time.perf_counter()\n",
    "model.score(test_x, test_y)\n",
    "print(\"スコア時間: {}\".format(time.perf_counter() - start_time))\n",
    "result = model.predict(test_x)\n",
    "result_before = model.predict(train_x)"
   ]
  },
  {
   "cell_type": "code",
   "execution_count": 24,
   "metadata": {},
   "outputs": [
    {
     "name": "stdout",
     "output_type": "stream",
     "text": [
      "RMSE: 8.662, MSE: 75.038, 相関係数: 0.855\n"
     ]
    }
   ],
   "source": [
    "print(\"RMSE: {}, MSE: {}, 相関係数: {}\".format(\n",
    "    round(np.sqrt(mean_squared_error(result_before, train_y)),3), \n",
    "    round(mean_squared_error(result_before, train_y),3),\n",
    "    round(pearsonr(result_before, train_y)[0],3)))"
   ]
  },
  {
   "cell_type": "code",
   "execution_count": 25,
   "metadata": {},
   "outputs": [
    {
     "name": "stdout",
     "output_type": "stream",
     "text": [
      "RMSE: 7.347, MSE: 53.976, 相関係数: 0.906\n"
     ]
    }
   ],
   "source": [
    "print(\"RMSE: {}, MSE: {}, 相関係数: {}\".format(\n",
    "    round(np.sqrt(mean_squared_error(result, test_y)),3), \n",
    "    round(mean_squared_error(result, test_y),3),\n",
    "    round(pearsonr(result, test_y)[0],3)))"
   ]
  },
  {
   "cell_type": "code",
   "execution_count": 26,
   "metadata": {},
   "outputs": [
    {
     "data": {
      "text/plain": [
       "0.7"
      ]
     },
     "execution_count": 26,
     "metadata": {},
     "output_type": "execute_result"
    }
   ],
   "source": [
    "df = pd.DataFrame(result, columns=[\"予測\"])\n",
    "df[\"実測\"] = test_y\n",
    "df[\"予測順位\"] = df[\"予測\"].rank(ascending=True)\n",
    "df[\"実測順位\"] = df[\"実測\"].rank(ascending=True)\n",
    "df = df.sort_values(\"予測順位\", )\n",
    "top = df.head(100)\n",
    "len(top[top[\"実測順位\"]<100]) / len(top)"
   ]
  },
  {
   "cell_type": "code",
   "execution_count": 27,
   "metadata": {},
   "outputs": [
    {
     "data": {
      "image/png": "[encoded data removed]",
      "text/plain": [
       "<Figure size 864x576 with 1 Axes>"
      ]
     },
     "metadata": {},
     "output_type": "display_data"
    }
   ],
   "source": [
    "fig, ax = plt.subplots(facecolor=\"white\",figsize=(12,8))\n",
    "ax.scatter(test_y, result, alpha=0.3)\n",
    "ax.set_xlabel(\"実際の論文数\")\n",
    "ax.set_ylabel(\"予測の論文数\")\n",
    "ax.grid()\n",
    "ax.set_title(\"LightGBM\")\n",
    "fig.savefig(OUTPUTPATH+\"img/gbm_diff.png\")\n",
    "fig.show()"
   ]
  },
  {
   "cell_type": "code",
   "execution_count": 28,
   "metadata": {},
   "outputs": [
    {
     "data": {
      "image/png": "[encoded data removed]",
      "text/plain": [
       "<Figure size 864x576 with 1 Axes>"
      ]
     },
     "metadata": {},
     "output_type": "display_data"
    }
   ],
   "source": [
    "fig, ax = plt.subplots(facecolor=\"white\",figsize=(12,8))\n",
    "ax.scatter(train_y, result_before, alpha=0.3)\n",
    "ax.set_xlabel(\"実際の論文数\")\n",
    "ax.set_ylabel(\"予測の論文数\")\n",
    "ax.grid()\n",
    "ax.set_title(\"LightGBM\")\n",
    "# fig.savefig(OUTPUTPATH+\"img/gbm.png\")\n",
    "fig.show()"
   ]
  },
  {
   "cell_type": "code",
   "execution_count": 29,
   "metadata": {},
   "outputs": [],
   "source": [
    "predict_matrix = np.zeros([N,N]) \n",
    "correct_matrix = np.zeros([N,N]) \n",
    "correct_matrix[np.triu_indices(n=N, k=1)] = test_y\n",
    "predict_matrix[np.triu_indices(n=N, k=1)] = model.predict(test_x)\n",
    "for i in range(N):\n",
    "    for j in range(N):\n",
    "        if predict_matrix[i][j] < -2000:\n",
    "            print(\"キーワード: {}, {}, 予測値: {}, 実測値: {}\".format(keywords[i], keywords[j],round(predict_matrix[i][j],1), correct_matrix[i][j]))"
   ]
  },
  {
   "cell_type": "code",
   "execution_count": 30,
   "metadata": {},
   "outputs": [],
   "source": [
    "predict_matrix = np.zeros([N,N]) \n",
    "correct_matrix = np.zeros([N,N]) \n",
    "correct_matrix[np.triu_indices(n=N, k=1)] = test_y\n",
    "predict_matrix[np.triu_indices(n=N, k=1)] = model.predict(test_x)\n",
    "for i in range(N):\n",
    "    for j in range(N):\n",
    "        if predict_matrix[i][j] < -2000:\n",
    "            print(\"キーワード: {}, {}, 予測値: {}, 実測値: {}\".format(keywords[i], keywords[j],round(predict_matrix[i][j],1), correct_matrix[i][j]))"
   ]
  },
  {
   "cell_type": "code",
   "execution_count": 31,
   "metadata": {},
   "outputs": [],
   "source": [
    "correct_new = correct_matrix[np.where(bool_matrix==0)]\n",
    "predict_new = predict_matrix[np.where(bool_matrix==0)]\n",
    "word_new = word_matrix[np.where(bool_matrix==0)]"
   ]
  },
  {
   "cell_type": "code",
   "execution_count": 32,
   "metadata": {},
   "outputs": [
    {
     "data": {
      "text/html": [
       "<div>\n",
       "<style scoped>\n",
       "    .dataframe tbody tr th:only-of-type {\n",
       "        vertical-align: middle;\n",
       "    }\n",
       "\n",
       "    .dataframe tbody tr th {\n",
       "        vertical-align: top;\n",
       "    }\n",
       "\n",
       "    .dataframe thead th {\n",
       "        text-align: right;\n",
       "    }\n",
       "</style>\n",
       "<table border=\"1\" class=\"dataframe\">\n",
       "  <thead>\n",
       "    <tr style=\"text-align: right;\">\n",
       "      <th></th>\n",
       "      <th>実測値</th>\n",
       "      <th>予測値</th>\n",
       "      <th>キーワード1</th>\n",
       "      <th>キーワード2</th>\n",
       "    </tr>\n",
       "  </thead>\n",
       "  <tbody>\n",
       "    <tr>\n",
       "      <th>1758463</th>\n",
       "      <td>0.0</td>\n",
       "      <td>12.001603</td>\n",
       "      <td>inventory</td>\n",
       "      <td>planar graph</td>\n",
       "    </tr>\n",
       "    <tr>\n",
       "      <th>1758361</th>\n",
       "      <td>0.0</td>\n",
       "      <td>12.001603</td>\n",
       "      <td>inventory</td>\n",
       "      <td>numerical solution</td>\n",
       "    </tr>\n",
       "    <tr>\n",
       "      <th>312652</th>\n",
       "      <td>0.0</td>\n",
       "      <td>10.346615</td>\n",
       "      <td>capacitors</td>\n",
       "      <td>distributed algorithm</td>\n",
       "    </tr>\n",
       "    <tr>\n",
       "      <th>238036</th>\n",
       "      <td>0.0</td>\n",
       "      <td>10.346615</td>\n",
       "      <td>biomedical mri</td>\n",
       "      <td>distributed algorithm</td>\n",
       "    </tr>\n",
       "    <tr>\n",
       "      <th>290679</th>\n",
       "      <td>0.0</td>\n",
       "      <td>10.252711</td>\n",
       "      <td>business model</td>\n",
       "      <td>distributed algorithm</td>\n",
       "    </tr>\n",
       "    <tr>\n",
       "      <th>230413</th>\n",
       "      <td>0.0</td>\n",
       "      <td>10.252711</td>\n",
       "      <td>biomechanics</td>\n",
       "      <td>distributed algorithm</td>\n",
       "    </tr>\n",
       "    <tr>\n",
       "      <th>595392</th>\n",
       "      <td>0.0</td>\n",
       "      <td>10.252711</td>\n",
       "      <td>convolutional code</td>\n",
       "      <td>distributed algorithm</td>\n",
       "    </tr>\n",
       "    <tr>\n",
       "      <th>166384</th>\n",
       "      <td>0.0</td>\n",
       "      <td>10.084372</td>\n",
       "      <td>awgn</td>\n",
       "      <td>distributed algorithm</td>\n",
       "    </tr>\n",
       "    <tr>\n",
       "      <th>292320</th>\n",
       "      <td>0.0</td>\n",
       "      <td>10.084372</td>\n",
       "      <td>business process</td>\n",
       "      <td>distributed algorithm</td>\n",
       "    </tr>\n",
       "    <tr>\n",
       "      <th>471541</th>\n",
       "      <td>0.0</td>\n",
       "      <td>10.030572</td>\n",
       "      <td>computational biology</td>\n",
       "      <td>distributed algorithm</td>\n",
       "    </tr>\n",
       "    <tr>\n",
       "      <th>396984</th>\n",
       "      <td>0.0</td>\n",
       "      <td>10.030572</td>\n",
       "      <td>cmos technology</td>\n",
       "      <td>distributed algorithm</td>\n",
       "    </tr>\n",
       "    <tr>\n",
       "      <th>256520</th>\n",
       "      <td>0.0</td>\n",
       "      <td>10.030572</td>\n",
       "      <td>block codes</td>\n",
       "      <td>distributed algorithm</td>\n",
       "    </tr>\n",
       "    <tr>\n",
       "      <th>307852</th>\n",
       "      <td>0.0</td>\n",
       "      <td>9.949950</td>\n",
       "      <td>cancer</td>\n",
       "      <td>distributed algorithm</td>\n",
       "    </tr>\n",
       "    <tr>\n",
       "      <th>138580</th>\n",
       "      <td>0.0</td>\n",
       "      <td>9.934246</td>\n",
       "      <td>augmented reality</td>\n",
       "      <td>distributed algorithm</td>\n",
       "    </tr>\n",
       "    <tr>\n",
       "      <th>484472</th>\n",
       "      <td>0.0</td>\n",
       "      <td>9.934246</td>\n",
       "      <td>computer aided instruction</td>\n",
       "      <td>distributed algorithm</td>\n",
       "    </tr>\n",
       "    <tr>\n",
       "      <th>855331</th>\n",
       "      <td>1.0</td>\n",
       "      <td>9.934246</td>\n",
       "      <td>diseases</td>\n",
       "      <td>distributed algorithm</td>\n",
       "    </tr>\n",
       "    <tr>\n",
       "      <th>841816</th>\n",
       "      <td>0.0</td>\n",
       "      <td>9.934246</td>\n",
       "      <td>discrete cosine transforms</td>\n",
       "      <td>distributed algorithm</td>\n",
       "    </tr>\n",
       "    <tr>\n",
       "      <th>394029</th>\n",
       "      <td>0.0</td>\n",
       "      <td>9.896151</td>\n",
       "      <td>cmos integrated circuits</td>\n",
       "      <td>distributed algorithm</td>\n",
       "    </tr>\n",
       "    <tr>\n",
       "      <th>813027</th>\n",
       "      <td>0.0</td>\n",
       "      <td>9.799825</td>\n",
       "      <td>digital images</td>\n",
       "      <td>distributed algorithm</td>\n",
       "    </tr>\n",
       "    <tr>\n",
       "      <th>94217</th>\n",
       "      <td>0.0</td>\n",
       "      <td>9.799825</td>\n",
       "      <td>application specific integrated</td>\n",
       "      <td>distributed algorithm</td>\n",
       "    </tr>\n",
       "  </tbody>\n",
       "</table>\n",
       "</div>"
      ],
      "text/plain": [
       "         実測値        予測値                            キーワード1  \\\n",
       "1758463  0.0  12.001603                         inventory   \n",
       "1758361  0.0  12.001603                         inventory   \n",
       "312652   0.0  10.346615                        capacitors   \n",
       "238036   0.0  10.346615                    biomedical mri   \n",
       "290679   0.0  10.252711                    business model   \n",
       "230413   0.0  10.252711                      biomechanics   \n",
       "595392   0.0  10.252711                convolutional code   \n",
       "166384   0.0  10.084372                              awgn   \n",
       "292320   0.0  10.084372                  business process   \n",
       "471541   0.0  10.030572             computational biology   \n",
       "396984   0.0  10.030572                   cmos technology   \n",
       "256520   0.0  10.030572                       block codes   \n",
       "307852   0.0   9.949950                            cancer   \n",
       "138580   0.0   9.934246                 augmented reality   \n",
       "484472   0.0   9.934246        computer aided instruction   \n",
       "855331   1.0   9.934246                          diseases   \n",
       "841816   0.0   9.934246        discrete cosine transforms   \n",
       "394029   0.0   9.896151          cmos integrated circuits   \n",
       "813027   0.0   9.799825                    digital images   \n",
       "94217    0.0   9.799825  application specific integrated    \n",
       "\n",
       "                        キーワード2  \n",
       "1758463           planar graph  \n",
       "1758361     numerical solution  \n",
       "312652   distributed algorithm  \n",
       "238036   distributed algorithm  \n",
       "290679   distributed algorithm  \n",
       "230413   distributed algorithm  \n",
       "595392   distributed algorithm  \n",
       "166384   distributed algorithm  \n",
       "292320   distributed algorithm  \n",
       "471541   distributed algorithm  \n",
       "396984   distributed algorithm  \n",
       "256520   distributed algorithm  \n",
       "307852   distributed algorithm  \n",
       "138580   distributed algorithm  \n",
       "484472   distributed algorithm  \n",
       "855331   distributed algorithm  \n",
       "841816   distributed algorithm  \n",
       "394029   distributed algorithm  \n",
       "813027   distributed algorithm  \n",
       "94217    distributed algorithm  "
      ]
     },
     "execution_count": 32,
     "metadata": {},
     "output_type": "execute_result"
    }
   ],
   "source": [
    "df = pd.DataFrame(correct_new, columns=[\"実測値\"])\n",
    "df[\"予測値\"] = predict_new\n",
    "df[\"キーワード1\"] = word_new[:,0]\n",
    "df[\"キーワード2\"] = word_new[:,1]\n",
    "df.sort_values(\"予測値\", ascending=False, inplace=True)\n",
    "df.head(20)"
   ]
  },
  {
   "cell_type": "code",
   "execution_count": 33,
   "metadata": {},
   "outputs": [
    {
     "data": {
      "text/html": [
       "<div>\n",
       "<style scoped>\n",
       "    .dataframe tbody tr th:only-of-type {\n",
       "        vertical-align: middle;\n",
       "    }\n",
       "\n",
       "    .dataframe tbody tr th {\n",
       "        vertical-align: top;\n",
       "    }\n",
       "\n",
       "    .dataframe thead th {\n",
       "        text-align: right;\n",
       "    }\n",
       "</style>\n",
       "<table border=\"1\" class=\"dataframe\">\n",
       "  <thead>\n",
       "    <tr style=\"text-align: right;\">\n",
       "      <th></th>\n",
       "      <th>実測値</th>\n",
       "      <th>予測値</th>\n",
       "      <th>キーワード1</th>\n",
       "      <th>キーワード2</th>\n",
       "    </tr>\n",
       "  </thead>\n",
       "  <tbody>\n",
       "    <tr>\n",
       "      <th>3703880</th>\n",
       "      <td>953.0</td>\n",
       "      <td>0.173015</td>\n",
       "      <td>task analysis</td>\n",
       "      <td>training</td>\n",
       "    </tr>\n",
       "    <tr>\n",
       "      <th>1740315</th>\n",
       "      <td>224.0</td>\n",
       "      <td>0.173015</td>\n",
       "      <td>internet of things</td>\n",
       "      <td>task analysis</td>\n",
       "    </tr>\n",
       "    <tr>\n",
       "      <th>744974</th>\n",
       "      <td>168.0</td>\n",
       "      <td>0.227680</td>\n",
       "      <td>deconvolution</td>\n",
       "      <td>task analysis</td>\n",
       "    </tr>\n",
       "    <tr>\n",
       "      <th>741952</th>\n",
       "      <td>154.0</td>\n",
       "      <td>-0.146371</td>\n",
       "      <td>decoding</td>\n",
       "      <td>task analysis</td>\n",
       "    </tr>\n",
       "    <tr>\n",
       "      <th>459010</th>\n",
       "      <td>149.0</td>\n",
       "      <td>0.219943</td>\n",
       "      <td>complexity theory</td>\n",
       "      <td>mimo communication</td>\n",
       "    </tr>\n",
       "    <tr>\n",
       "      <th>2163214</th>\n",
       "      <td>144.0</td>\n",
       "      <td>0.077555</td>\n",
       "      <td>mobile handsets</td>\n",
       "      <td>task analysis</td>\n",
       "    </tr>\n",
       "    <tr>\n",
       "      <th>77476</th>\n",
       "      <td>115.0</td>\n",
       "      <td>-0.016349</td>\n",
       "      <td>analytical models</td>\n",
       "      <td>task analysis</td>\n",
       "    </tr>\n",
       "    <tr>\n",
       "      <th>3035679</th>\n",
       "      <td>110.0</td>\n",
       "      <td>0.079977</td>\n",
       "      <td>remote sensing</td>\n",
       "      <td>task analysis</td>\n",
       "    </tr>\n",
       "    <tr>\n",
       "      <th>3538568</th>\n",
       "      <td>104.0</td>\n",
       "      <td>0.173015</td>\n",
       "      <td>standards</td>\n",
       "      <td>task analysis</td>\n",
       "    </tr>\n",
       "    <tr>\n",
       "      <th>459545</th>\n",
       "      <td>98.0</td>\n",
       "      <td>0.168970</td>\n",
       "      <td>complexity theory</td>\n",
       "      <td>task analysis</td>\n",
       "    </tr>\n",
       "    <tr>\n",
       "      <th>2988026</th>\n",
       "      <td>95.0</td>\n",
       "      <td>0.077555</td>\n",
       "      <td>recurrent neural networks</td>\n",
       "      <td>task analysis</td>\n",
       "    </tr>\n",
       "    <tr>\n",
       "      <th>3703881</th>\n",
       "      <td>93.0</td>\n",
       "      <td>0.034624</td>\n",
       "      <td>task analysis</td>\n",
       "      <td>training data</td>\n",
       "    </tr>\n",
       "    <tr>\n",
       "      <th>1607949</th>\n",
       "      <td>93.0</td>\n",
       "      <td>-0.340441</td>\n",
       "      <td>indexes</td>\n",
       "      <td>task analysis</td>\n",
       "    </tr>\n",
       "    <tr>\n",
       "      <th>459224</th>\n",
       "      <td>86.0</td>\n",
       "      <td>0.168970</td>\n",
       "      <td>complexity theory</td>\n",
       "      <td>precoding</td>\n",
       "    </tr>\n",
       "    <tr>\n",
       "      <th>2735553</th>\n",
       "      <td>80.0</td>\n",
       "      <td>-0.059254</td>\n",
       "      <td>privacy</td>\n",
       "      <td>task analysis</td>\n",
       "    </tr>\n",
       "    <tr>\n",
       "      <th>1568425</th>\n",
       "      <td>75.0</td>\n",
       "      <td>-0.005995</td>\n",
       "      <td>image reconstruction</td>\n",
       "      <td>task analysis</td>\n",
       "    </tr>\n",
       "    <tr>\n",
       "      <th>575998</th>\n",
       "      <td>69.0</td>\n",
       "      <td>-0.238488</td>\n",
       "      <td>context modeling</td>\n",
       "      <td>task analysis</td>\n",
       "    </tr>\n",
       "    <tr>\n",
       "      <th>1621741</th>\n",
       "      <td>68.0</td>\n",
       "      <td>-0.334814</td>\n",
       "      <td>informatics</td>\n",
       "      <td>task analysis</td>\n",
       "    </tr>\n",
       "    <tr>\n",
       "      <th>1566975</th>\n",
       "      <td>67.0</td>\n",
       "      <td>0.079977</td>\n",
       "      <td>image recognition</td>\n",
       "      <td>task analysis</td>\n",
       "    </tr>\n",
       "    <tr>\n",
       "      <th>3255895</th>\n",
       "      <td>67.0</td>\n",
       "      <td>0.168970</td>\n",
       "      <td>service robots</td>\n",
       "      <td>task analysis</td>\n",
       "    </tr>\n",
       "  </tbody>\n",
       "</table>\n",
       "</div>"
      ],
      "text/plain": [
       "           実測値       予測値                     キーワード1              キーワード2\n",
       "3703880  953.0  0.173015              task analysis            training\n",
       "1740315  224.0  0.173015         internet of things       task analysis\n",
       "744974   168.0  0.227680              deconvolution       task analysis\n",
       "741952   154.0 -0.146371                   decoding       task analysis\n",
       "459010   149.0  0.219943          complexity theory  mimo communication\n",
       "2163214  144.0  0.077555            mobile handsets       task analysis\n",
       "77476    115.0 -0.016349          analytical models       task analysis\n",
       "3035679  110.0  0.079977             remote sensing       task analysis\n",
       "3538568  104.0  0.173015                  standards       task analysis\n",
       "459545    98.0  0.168970          complexity theory       task analysis\n",
       "2988026   95.0  0.077555  recurrent neural networks       task analysis\n",
       "3703881   93.0  0.034624              task analysis       training data\n",
       "1607949   93.0 -0.340441                    indexes       task analysis\n",
       "459224    86.0  0.168970          complexity theory           precoding\n",
       "2735553   80.0 -0.059254                    privacy       task analysis\n",
       "1568425   75.0 -0.005995       image reconstruction       task analysis\n",
       "575998    69.0 -0.238488           context modeling       task analysis\n",
       "1621741   68.0 -0.334814                informatics       task analysis\n",
       "1566975   67.0  0.079977          image recognition       task analysis\n",
       "3255895   67.0  0.168970             service robots       task analysis"
      ]
     },
     "execution_count": 33,
     "metadata": {},
     "output_type": "execute_result"
    }
   ],
   "source": [
    "df.sort_values(\"実測値\", ascending=False, inplace=True)\n",
    "df.head(20)"
   ]
  }
 ],
 "metadata": {
  "interpreter": {
   "hash": "e5ac9074c40421cbf492f67471c5dc3e49846f397739518f542476e0deba3a6a"
  },
  "kernelspec": {
   "display_name": "Python 3.10.4 ('trend')",
   "language": "python",
   "name": "python3"
  },
  "language_info": {
   "codemirror_mode": {
    "name": "ipython",
    "version": 3
   },
   "file_extension": ".py",
   "mimetype": "text/x-python",
   "name": "python",
   "nbconvert_exporter": "python",
   "pygments_lexer": "ipython3",
   "version": "3.10.4"
  },
  "orig_nbformat": 4
 },
 "nbformat": 4,
 "nbformat_minor": 2
}
