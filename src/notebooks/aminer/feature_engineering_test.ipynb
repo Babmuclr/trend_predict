{
 "cells": [
  {
   "cell_type": "markdown",
   "metadata": {},
   "source": [
    "# 特徴量エンジニアリング"
   ]
  },
  {
   "cell_type": "code",
   "execution_count": 1,
   "metadata": {},
   "outputs": [],
   "source": [
    "# import libraries\n",
    "\n",
    "import numpy as np\n",
    "import pandas as pd\n",
    "import gc\n",
    "import os\n",
    "import json\n",
    "from collections import Counter, defaultdict\n",
    "from tqdm.notebook import tqdm\n",
    "import matplotlib.pyplot as plt\n",
    "import matplotlib.dates as mdates\n",
    "%matplotlib inline\n",
    "import plotly.express as px\n",
    "import re\n",
    "import datetime as dt\n",
    "import japanize_matplotlib\n",
    "import itertools\n",
    "year_pattern = r'([1-2][0-9]{3})'\n",
    "import dask.array as da"
   ]
  },
  {
   "cell_type": "code",
   "execution_count": 2,
   "metadata": {},
   "outputs": [],
   "source": [
    "DATAPATH = \"../../../data/\""
   ]
  },
  {
   "cell_type": "code",
   "execution_count": 3,
   "metadata": {},
   "outputs": [
    {
     "data": {
      "text/plain": [
       "(2276, '3d imaging')"
      ]
     },
     "execution_count": 3,
     "metadata": {},
     "output_type": "execute_result"
    }
   ],
   "source": [
    "with open(DATAPATH + \"DBLP/keywords_delete_similar_words.txt\") as f:\n",
    "    keywords = list(map(lambda x: x.replace(\"\\n\", \"\"), f.readlines()))\n",
    "key_sets = set(keywords)\n",
    "len(keywords), keywords[0]"
   ]
  },
  {
   "cell_type": "code",
   "execution_count": 4,
   "metadata": {},
   "outputs": [],
   "source": [
    "word_dict = {}\n",
    "for num, kw in enumerate(keywords):\n",
    "    word_dict[kw] = num"
   ]
  },
  {
   "cell_type": "code",
   "execution_count": 5,
   "metadata": {},
   "outputs": [],
   "source": [
    "N = len(keywords)\n",
    "START_YEAR = 2000\n",
    "END_YEAR   = 2020\n",
    "YEAR_STD   = END_YEAR - START_YEAR "
   ]
  },
  {
   "cell_type": "code",
   "execution_count": 6,
   "metadata": {},
   "outputs": [
    {
     "data": {
      "text/plain": [
       "(2276, 2276, 21)"
      ]
     },
     "execution_count": 6,
     "metadata": {},
     "output_type": "execute_result"
    }
   ],
   "source": [
    "pathes = np.load(DATAPATH+\"DBLP/pathes.npy\")\n",
    "pathes.shape"
   ]
  },
  {
   "cell_type": "code",
   "execution_count": 7,
   "metadata": {},
   "outputs": [
    {
     "data": {
      "text/plain": [
       "((2276, 2276, 16), (2276, 2276, 15), (2276, 2276, 14))"
      ]
     },
     "execution_count": 7,
     "metadata": {},
     "output_type": "execute_result"
    }
   ],
   "source": [
    "STD = 5\n",
    "pathes_s1, pathes_s2, pathes_s3 = pathes[:,:,:-STD], pathes[:,:,:-STD-1], pathes[:,:,:-STD-2]\n",
    "pathes_s1.shape, pathes_s2.shape, pathes_s3.shape"
   ]
  },
  {
   "cell_type": "markdown",
   "metadata": {},
   "source": [
    "## 隣接行列の作成"
   ]
  },
  {
   "cell_type": "code",
   "execution_count": 8,
   "metadata": {},
   "outputs": [
    {
     "data": {
      "text/plain": [
       "(2276, 2276)"
      ]
     },
     "execution_count": 8,
     "metadata": {},
     "output_type": "execute_result"
    }
   ],
   "source": [
    "pathes_sum1 = np.sum(pathes_s1, axis=2)\n",
    "pathes_sum2 = np.sum(pathes_s2, axis=2)\n",
    "pathes_sum3 = np.sum(pathes_s3, axis=2)\n",
    "# 厳密な隣接行列ではない\n",
    "adj = np.where(pathes_sum1 <= 0, 0, 1)\n",
    "adj_ex2, adj_ex3 = np.where(pathes_sum2 <= 0, 0, 1), np.where(pathes_sum3 <= 0, 0, 1)\n",
    "adj.shape"
   ]
  },
  {
   "cell_type": "markdown",
   "metadata": {},
   "source": [
    "## 次数の計算"
   ]
  },
  {
   "cell_type": "code",
   "execution_count": 9,
   "metadata": {},
   "outputs": [
    {
     "data": {
      "text/plain": [
       "(2276,)"
      ]
     },
     "execution_count": 9,
     "metadata": {},
     "output_type": "execute_result"
    }
   ],
   "source": [
    "degs1 = np.sum(adj, axis=0)\n",
    "degs2 = np.sum(adj, axis=1)\n",
    "degs = degs1 + degs2\n",
    "degs.shape"
   ]
  },
  {
   "cell_type": "code",
   "execution_count": 10,
   "metadata": {},
   "outputs": [
    {
     "data": {
      "text/plain": [
       "((2276, 2276), (2276, 2276))"
      ]
     },
     "execution_count": 10,
     "metadata": {},
     "output_type": "execute_result"
    }
   ],
   "source": [
    "degs1 = np.tile( degs, (N, 1))\n",
    "degs2 = degs1.T\n",
    "degs1.shape, degs2.shape"
   ]
  },
  {
   "cell_type": "code",
   "execution_count": 11,
   "metadata": {},
   "outputs": [],
   "source": [
    "keyword_dict = {}\n",
    "for deg, kw in zip(degs, keywords):\n",
    "    keyword_dict[kw] = deg"
   ]
  },
  {
   "cell_type": "code",
   "execution_count": 12,
   "metadata": {},
   "outputs": [
    {
     "data": {
      "image/png": "[encoded data removed]",
      "text/plain": [
       "<Figure size 1296x576 with 1 Axes>"
      ]
     },
     "metadata": {},
     "output_type": "display_data"
    }
   ],
   "source": [
    "plt.style.use(\"ggplot\")\n",
    "\n",
    "# FigureとAxesを作成\n",
    "fig, ax = plt.subplots(figsize=(18,8))\n",
    "\n",
    "# タイトルと軸ラベルを設定\n",
    "ax.set_title(\"各キーワードの次数\")\n",
    "ax.set_xlabel(\"ID\")\n",
    "ax.set_ylabel(\"次数\")\n",
    "\n",
    "# Axesに棒グラフを追加\n",
    "ax.bar(range(N), sorted(degs), width=1)\n",
    "\n",
    "plt.show()"
   ]
  },
  {
   "cell_type": "markdown",
   "metadata": {},
   "source": [
    "## 論文数"
   ]
  },
  {
   "cell_type": "code",
   "execution_count": 13,
   "metadata": {},
   "outputs": [
    {
     "data": {
      "text/plain": [
       "(2276,)"
      ]
     },
     "execution_count": 13,
     "metadata": {},
     "output_type": "execute_result"
    }
   ],
   "source": [
    "papers1 = np.sum(pathes_sum1, axis=0)\n",
    "papers2 = np.sum(pathes_sum1, axis=1)\n",
    "papers = papers1 + papers2\n",
    "papers.shape"
   ]
  },
  {
   "cell_type": "code",
   "execution_count": 14,
   "metadata": {},
   "outputs": [
    {
     "data": {
      "text/plain": [
       "((2276, 2276), (2276, 2276))"
      ]
     },
     "execution_count": 14,
     "metadata": {},
     "output_type": "execute_result"
    }
   ],
   "source": [
    "papers1 = np.tile( papers, (N, 1))\n",
    "papers2 = papers1.T\n",
    "papers1.shape, papers2.shape"
   ]
  },
  {
   "cell_type": "code",
   "execution_count": 15,
   "metadata": {},
   "outputs": [],
   "source": [
    "papers_dict = {}\n",
    "for paper, kw in zip(papers, keywords):\n",
    "    keyword_dict[kw] = paper"
   ]
  },
  {
   "cell_type": "code",
   "execution_count": 16,
   "metadata": {},
   "outputs": [
    {
     "data": {
      "image/png": "[encoded data removed]",
      "text/plain": [
       "<Figure size 1296x576 with 1 Axes>"
      ]
     },
     "metadata": {},
     "output_type": "display_data"
    }
   ],
   "source": [
    "plt.style.use(\"ggplot\")\n",
    "\n",
    "# FigureとAxesを作成\n",
    "fig, ax = plt.subplots(figsize=(18,8))\n",
    "\n",
    "# タイトルと軸ラベルを設定\n",
    "ax.set_title(\"各キーワードに関する論文数\")\n",
    "ax.set_xlabel(\"キーワードID\")\n",
    "ax.set_ylabel(\"論文数\")\n",
    "\n",
    "# Axesに棒グラフを追加\n",
    "ax.bar(range(N), sorted(papers), width=1)\n",
    "\n",
    "plt.show()"
   ]
  },
  {
   "cell_type": "markdown",
   "metadata": {},
   "source": [
    "## 距離n(=2,3,4)のノード数\n",
    "隣接行列の冪乗(n乗)は、距離nである各点から他の点までのルート数を表すことを利用する"
   ]
  },
  {
   "cell_type": "code",
   "execution_count": 17,
   "metadata": {},
   "outputs": [
    {
     "name": "stdout",
     "output_type": "stream",
     "text": [
      "グラフの密度は、0.591\n"
     ]
    }
   ],
   "source": [
    "adj = adj + adj.T\n",
    "print(\"グラフの密度は、{}\".format(round(np.sum(adj) / len(adj) / len(adj), 3)))"
   ]
  },
  {
   "cell_type": "markdown",
   "metadata": {},
   "source": [
    "かなり密なグラフ"
   ]
  },
  {
   "cell_type": "code",
   "execution_count": 18,
   "metadata": {},
   "outputs": [
    {
     "data": {
      "text/plain": [
       "array([[0, 1, 1, ..., 0, 1, 0],\n",
       "       [1, 0, 1, ..., 0, 0, 0],\n",
       "       [1, 1, 0, ..., 0, 0, 0],\n",
       "       ...,\n",
       "       [0, 0, 0, ..., 0, 1, 0],\n",
       "       [1, 0, 0, ..., 1, 0, 0],\n",
       "       [0, 0, 0, ..., 0, 0, 0]])"
      ]
     },
     "execution_count": 18,
     "metadata": {},
     "output_type": "execute_result"
    }
   ],
   "source": [
    "adj"
   ]
  },
  {
   "cell_type": "code",
   "execution_count": 19,
   "metadata": {},
   "outputs": [
    {
     "name": "stdout",
     "output_type": "stream",
     "text": [
      "CPU times: user 45.6 s, sys: 604 ms, total: 46.2 s\n",
      "Wall time: 9.9 s\n"
     ]
    },
    {
     "data": {
      "text/plain": [
       "array([[1064,  791,  707, ...,  556,  439,  459],\n",
       "       [ 791, 1075,  721, ...,  560,  435,  467],\n",
       "       [ 707,  721, 1058, ...,  610,  513,  473],\n",
       "       ...,\n",
       "       [ 556,  560,  610, ..., 1061,  694,  424],\n",
       "       [ 439,  435,  513, ...,  694,  820,  347],\n",
       "       [ 459,  467,  473, ...,  424,  347,  955]])"
      ]
     },
     "execution_count": 19,
     "metadata": {},
     "output_type": "execute_result"
    }
   ],
   "source": [
    "%%time\n",
    "def dadot(arr, p):\n",
    "    darr = da.from_array(arr, chunks=(1000,1000))\n",
    "    dadot = da.dot(darr, darr)\n",
    "    return dadot.compute()\n",
    "\n",
    "dadot(adj, 2)"
   ]
  },
  {
   "cell_type": "code",
   "execution_count": 20,
   "metadata": {},
   "outputs": [
    {
     "name": "stdout",
     "output_type": "stream",
     "text": [
      "CPU times: user 52.8 s, sys: 72 ms, total: 52.9 s\n",
      "Wall time: 52.9 s\n"
     ]
    },
    {
     "data": {
      "text/plain": [
       "array([[1064,  791,  707, ...,  556,  439,  459],\n",
       "       [ 791, 1075,  721, ...,  560,  435,  467],\n",
       "       [ 707,  721, 1058, ...,  610,  513,  473],\n",
       "       ...,\n",
       "       [ 556,  560,  610, ..., 1061,  694,  424],\n",
       "       [ 439,  435,  513, ...,  694,  820,  347],\n",
       "       [ 459,  467,  473, ...,  424,  347,  955]])"
      ]
     },
     "execution_count": 20,
     "metadata": {},
     "output_type": "execute_result"
    }
   ],
   "source": [
    "%%time\n",
    "np.linalg.matrix_power(adj, 2)"
   ]
  },
  {
   "cell_type": "code",
   "execution_count": 21,
   "metadata": {},
   "outputs": [
    {
     "name": "stdout",
     "output_type": "stream",
     "text": [
      "CPU times: user 2min 19s, sys: 1.1 s, total: 2min 20s\n",
      "Wall time: 30.6 s\n"
     ]
    }
   ],
   "source": [
    "\n",
    "%%time\n",
    "adj2 = dadot(adj, 2)\n",
    "adj3 = dadot(adj, 3)\n",
    "adj4 = dadot(adj, 4)"
   ]
  },
  {
   "cell_type": "code",
   "execution_count": 22,
   "metadata": {},
   "outputs": [],
   "source": [
    "adj_ex2 = adj_ex2 + adj_ex2.T\n",
    "adj2_ex1 = dadot(adj_ex2, 2)\n",
    "adj3_ex1 = dadot(adj_ex2, 3)\n",
    "adj4_ex1 = dadot(adj_ex2, 4)"
   ]
  },
  {
   "cell_type": "code",
   "execution_count": 23,
   "metadata": {},
   "outputs": [],
   "source": [
    "adj_ex3 = adj_ex3 + adj_ex3.T\n",
    "adj2_ex2 = dadot(adj_ex3, 2)\n",
    "adj3_ex2 = dadot(adj_ex3, 3)\n",
    "adj4_ex2 = dadot(adj_ex3, 4)"
   ]
  },
  {
   "cell_type": "markdown",
   "metadata": {},
   "source": [
    "## 距離\n",
    "各ノード間の距離を求める"
   ]
  },
  {
   "cell_type": "code",
   "execution_count": 24,
   "metadata": {},
   "outputs": [],
   "source": [
    "import numpy as np\n",
    "from scipy.sparse.csgraph import shortest_path, floyd_warshall, dijkstra, bellman_ford, johnson\n",
    "from scipy.sparse import csr_matrix"
   ]
  },
  {
   "cell_type": "code",
   "execution_count": 25,
   "metadata": {},
   "outputs": [
    {
     "name": "stdout",
     "output_type": "stream",
     "text": [
      "CPU times: user 13.2 s, sys: 160 ms, total: 13.4 s\n",
      "Wall time: 13.4 s\n"
     ]
    },
    {
     "data": {
      "text/plain": [
       "(2276, 2276)"
      ]
     },
     "execution_count": 25,
     "metadata": {},
     "output_type": "execute_result"
    }
   ],
   "source": [
    "%%time\n",
    "distances = shortest_path(adj)\n",
    "distances.shape"
   ]
  },
  {
   "cell_type": "code",
   "execution_count": 26,
   "metadata": {},
   "outputs": [
    {
     "data": {
      "text/plain": [
       "(2276, 2276)"
      ]
     },
     "execution_count": 26,
     "metadata": {},
     "output_type": "execute_result"
    }
   ],
   "source": [
    "pathes_sum = pathes_sum1 + pathes_sum1.T\n",
    "distances2 = shortest_path(np.array(pathes_sum))\n",
    "distances2.shape"
   ]
  },
  {
   "cell_type": "code",
   "execution_count": 27,
   "metadata": {},
   "outputs": [
    {
     "data": {
      "text/plain": [
       "(2276, 2276)"
      ]
     },
     "execution_count": 27,
     "metadata": {},
     "output_type": "execute_result"
    }
   ],
   "source": [
    "degs = degs.reshape([1,-1])\n",
    "diss = degs.T.dot(degs)\n",
    "diss.shape"
   ]
  },
  {
   "cell_type": "code",
   "execution_count": 28,
   "metadata": {},
   "outputs": [
    {
     "data": {
      "text/plain": [
       "(2276, 2276)"
      ]
     },
     "execution_count": 28,
     "metadata": {},
     "output_type": "execute_result"
    }
   ],
   "source": [
    "diss_sqrt = np.sqrt(diss)\n",
    "diss_sqrt.shape"
   ]
  },
  {
   "cell_type": "code",
   "execution_count": 29,
   "metadata": {},
   "outputs": [],
   "source": [
    "distances3 = distances * diss\n",
    "distances4 = distances * diss_sqrt"
   ]
  },
  {
   "cell_type": "markdown",
   "metadata": {},
   "source": [
    "## コサイン類似度"
   ]
  },
  {
   "cell_type": "code",
   "execution_count": 30,
   "metadata": {},
   "outputs": [
    {
     "data": {
      "text/plain": [
       "(2276, 2276)"
      ]
     },
     "execution_count": 30,
     "metadata": {},
     "output_type": "execute_result"
    }
   ],
   "source": [
    "cosine_sim = adj2 / diss_sqrt\n",
    "cosine_sim.shape"
   ]
  },
  {
   "cell_type": "markdown",
   "metadata": {},
   "source": [
    "# 標準化"
   ]
  },
  {
   "cell_type": "code",
   "execution_count": 31,
   "metadata": {},
   "outputs": [],
   "source": [
    "degs1 = degs1 / np.max(degs1)\n",
    "degs2 = degs2 / np.max(degs2)"
   ]
  },
  {
   "cell_type": "code",
   "execution_count": 32,
   "metadata": {},
   "outputs": [],
   "source": [
    "papers1 = papers1 / np.max(papers1)\n",
    "papers2 = papers2 / np.max(papers2)"
   ]
  },
  {
   "cell_type": "code",
   "execution_count": 33,
   "metadata": {},
   "outputs": [],
   "source": [
    "adj2 = adj2 / np.max(adj2)\n",
    "adj3 = adj3 / np.max(adj3)\n",
    "adj4 = adj4 / np.max(adj4)"
   ]
  },
  {
   "cell_type": "code",
   "execution_count": 34,
   "metadata": {},
   "outputs": [],
   "source": [
    "adj2_ex1 = adj2_ex1 / np.max(adj2_ex1)\n",
    "adj3_ex1 = adj3_ex1 / np.max(adj3_ex1)\n",
    "adj4_ex1 = adj4_ex1 / np.max(adj4_ex1)"
   ]
  },
  {
   "cell_type": "code",
   "execution_count": 35,
   "metadata": {},
   "outputs": [],
   "source": [
    "adj2_ex2 = adj2_ex2 / np.max(adj2_ex2)\n",
    "adj3_ex2 = adj3_ex2 / np.max(adj3_ex2)\n",
    "adj4_ex2 = adj4_ex2 / np.max(adj4_ex2)"
   ]
  },
  {
   "cell_type": "code",
   "execution_count": 36,
   "metadata": {},
   "outputs": [],
   "source": [
    "distances = distances / np.max(distances)\n",
    "distances2 = distances2 / np.max(distances2)\n",
    "distances3 = distances3 / np.max(distances3)\n",
    "distances4 = distances4 / np.max(distances4)"
   ]
  },
  {
   "cell_type": "markdown",
   "metadata": {},
   "source": [
    "## 目的変数\n",
    "時を経つごとに、論文数が減っている"
   ]
  },
  {
   "cell_type": "code",
   "execution_count": 37,
   "metadata": {},
   "outputs": [
    {
     "data": {
      "text/plain": [
       "((2276, 2276, 5), (2276, 2276, 5))"
      ]
     },
     "execution_count": 37,
     "metadata": {},
     "output_type": "execute_result"
    }
   ],
   "source": [
    "preds = pathes[:,:,-STD:]\n",
    "preds_before = pathes[:,:,-STD-5:-STD]\n",
    "preds.shape, preds_before.shape"
   ]
  },
  {
   "cell_type": "code",
   "execution_count": 38,
   "metadata": {},
   "outputs": [
    {
     "data": {
      "text/plain": [
       "((2276, 2276), (2276, 2276))"
      ]
     },
     "execution_count": 38,
     "metadata": {},
     "output_type": "execute_result"
    }
   ],
   "source": [
    "preds = np.sum(preds, axis=2)\n",
    "preds_before = np.sum(preds_before, axis=2)\n",
    "preds.shape, preds_before.shape"
   ]
  },
  {
   "cell_type": "code",
   "execution_count": 39,
   "metadata": {},
   "outputs": [
    {
     "data": {
      "text/plain": [
       "0.04532143309416514"
      ]
     },
     "execution_count": 39,
     "metadata": {},
     "output_type": "execute_result"
    }
   ],
   "source": [
    "p = preds.reshape(-1)\n",
    "np.count_nonzero(p > 0) / N / N"
   ]
  },
  {
   "cell_type": "code",
   "execution_count": 40,
   "metadata": {},
   "outputs": [
    {
     "data": {
      "text/plain": [
       "(2276, 2276)"
      ]
     },
     "execution_count": 40,
     "metadata": {},
     "output_type": "execute_result"
    }
   ],
   "source": [
    "preds_before =  preds - preds_before\n",
    "preds_before.shape"
   ]
  },
  {
   "cell_type": "markdown",
   "metadata": {},
   "source": [
    "# 特徴量"
   ]
  },
  {
   "cell_type": "code",
   "execution_count": 42,
   "metadata": {},
   "outputs": [
    {
     "data": {
      "text/plain": [
       "(2276, 2276, 23)"
      ]
     },
     "execution_count": 42,
     "metadata": {},
     "output_type": "execute_result"
    }
   ],
   "source": [
    "data = np.stack([\n",
    "    degs1, degs2, \n",
    "    papers1, papers2, cosine_sim, \n",
    "    adj2, adj2_ex1, adj2_ex2,\n",
    "    adj3, adj3_ex1, adj3_ex2, \n",
    "    adj4, adj4_ex1, adj4_ex2, \n",
    "    distances, distances2, distances3, distances4,\n",
    "    pathes[:,:,-10],pathes[:,:,-9],pathes[:,:,-8],pathes[:,:,-7],pathes[:,:,-6],\n",
    "], 2)\n",
    "data.shape"
   ]
  },
  {
   "cell_type": "code",
   "execution_count": 43,
   "metadata": {},
   "outputs": [],
   "source": [
    "np.save(DATAPATH + \"DBLP/test_x.npy\", data)"
   ]
  },
  {
   "cell_type": "code",
   "execution_count": 44,
   "metadata": {},
   "outputs": [],
   "source": [
    "np.save(DATAPATH + \"DBLP/test_y.npy\", preds)\n",
    "np.save(DATAPATH + \"DBLP/test_y_diff.npy\", preds_before)"
   ]
  },
  {
   "cell_type": "code",
   "execution_count": null,
   "metadata": {},
   "outputs": [],
   "source": []
  }
 ],
 "metadata": {
  "interpreter": {
   "hash": "e5ac9074c40421cbf492f67471c5dc3e49846f397739518f542476e0deba3a6a"
  },
  "kernelspec": {
   "display_name": "Python 3.10.4 ('trend')",
   "language": "python",
   "name": "python3"
  },
  "language_info": {
   "codemirror_mode": {
    "name": "ipython",
    "version": 3
   },
   "file_extension": ".py",
   "mimetype": "text/x-python",
   "name": "python",
   "nbconvert_exporter": "python",
   "pygments_lexer": "ipython3",
   "version": "3.10.4"
  },
  "orig_nbformat": 4
 },
 "nbformat": 4,
 "nbformat_minor": 2
}
