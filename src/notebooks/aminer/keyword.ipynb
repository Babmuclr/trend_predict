{
 "cells": [
  {
   "cell_type": "markdown",
   "metadata": {},
   "source": [
    "# キーワード抽出"
   ]
  },
  {
   "cell_type": "code",
   "execution_count": 1,
   "metadata": {},
   "outputs": [],
   "source": [
    "# import libraries\n",
    "\n",
    "import numpy as np\n",
    "import pandas as pd\n",
    "import gc\n",
    "import os\n",
    "import json\n",
    "from collections import Counter, defaultdict\n",
    "from tqdm.notebook import tqdm\n",
    "import matplotlib.pyplot as plt\n",
    "import matplotlib.dates as mdates\n",
    "%matplotlib inline\n",
    "import plotly.express as px\n",
    "import re\n",
    "import datetime as dt\n",
    "import japanize_matplotlib\n",
    "year_pattern = r'([1-2][0-9]{3})'"
   ]
  },
  {
   "cell_type": "code",
   "execution_count": 2,
   "metadata": {},
   "outputs": [],
   "source": [
    "DATAPATH = \"../../../data/\"\n",
    "START_YEAR = 2000\n",
    "END_YEAR = 2015\n",
    "YEAR_STD = END_YEAR - START_YEAR"
   ]
  },
  {
   "cell_type": "code",
   "execution_count": 3,
   "metadata": {},
   "outputs": [],
   "source": [
    "def get_metadata(filename):\n",
    "    with open(DATAPATH + filename, encoding=\"utf-8\", mode='r') as f:\n",
    "        for line in f:\n",
    "            yield line"
   ]
  },
  {
   "cell_type": "markdown",
   "metadata": {},
   "source": [
    "## キーワードの抽出"
   ]
  },
  {
   "cell_type": "code",
   "execution_count": 4,
   "metadata": {},
   "outputs": [
    {
     "data": {
      "application/vnd.jupyter.widget-view+json": {
       "model_id": "d5b28cb931124c319fb266432d1b9fdd",
       "version_major": 2,
       "version_minor": 0
      },
      "text/plain": [
       "0it [00:00, ?it/s]"
      ]
     },
     "metadata": {},
     "output_type": "display_data"
    },
    {
     "name": "stdout",
     "output_type": "stream",
     "text": [
      "キーワードの数:6266923, キーワードのない論文数:1171589,\n",
      " 期間が妥当である論文数2203448, 期間街の論文数1016262\n",
      "CPU times: user 1min 58s, sys: 12.8 s, total: 2min 11s\n",
      "Wall time: 2min 2s\n"
     ]
    }
   ],
   "source": [
    "%%time\n",
    "\n",
    "keywords = {}\n",
    "count, count2, count3 = 0, 0, 0\n",
    "\n",
    "metadata = get_metadata(\"dblpv13.txt\")\n",
    "for paper in tqdm(metadata):\n",
    "    data = json.loads(paper)\n",
    "    try:\n",
    "        k = data.get('keywords')\n",
    "        y = data.get('year')\n",
    "        if len(k) == 0 or len(k) == 1:\n",
    "            pass\n",
    "        else:\n",
    "            if y >= START_YEAR and  END_YEAR >= y :\n",
    "                for i in k:\n",
    "                    i = i.lower().strip()\n",
    "                    if i not in keywords:\n",
    "                        keywords[i] = 1\n",
    "                    else:\n",
    "                        keywords[i] = keywords[i] + 1\n",
    "                count2 += 1\n",
    "            else:\n",
    "                count3 += 1\n",
    "    except Exception as e:\n",
    "        # keywordがないものも存在\n",
    "        count += 1\n",
    "        pass\n",
    "print(\"キーワードの数:{}, キーワードのない論文数:{},\\n 期間が妥当である論文数{}, 期間街の論文数{}\".format(len(keywords), count, count2, count3))"
   ]
  },
  {
   "cell_type": "code",
   "execution_count": 5,
   "metadata": {},
   "outputs": [
    {
     "data": {
      "application/vnd.jupyter.widget-view+json": {
       "model_id": "6694e3ee35ca47918af68d04d0e2e635",
       "version_major": 2,
       "version_minor": 0
      },
      "text/plain": [
       "  0%|          | 0/6266923 [00:00<?, ?it/s]"
      ]
     },
     "metadata": {},
     "output_type": "display_data"
    },
    {
     "name": "stdout",
     "output_type": "stream",
     "text": [
      "出現数が2000以上のキーワード数:1233\n"
     ]
    }
   ],
   "source": [
    "important_keywords = []\n",
    "M = 2000\n",
    "for keyword in tqdm(keywords):\n",
    "    # keyword の出現回数が、Mを超えるとき\n",
    "    if keywords[keyword] >= M:\n",
    "        important_keywords.append(keyword)\n",
    "print(\"出現数が\" + str(M) + \"以上のキーワード数:{}\".format(len(important_keywords)))"
   ]
  },
  {
   "cell_type": "code",
   "execution_count": 6,
   "metadata": {},
   "outputs": [
    {
     "data": {
      "text/plain": [
       "['radiometry',\n",
       " 'indexes',\n",
       " 'vegetation',\n",
       " 'indexation',\n",
       " 'indexing terms',\n",
       " 'spectrum',\n",
       " 'statistical distributions',\n",
       " 'parameter estimation',\n",
       " 'statistical analysis',\n",
       " 'delays']"
      ]
     },
     "execution_count": 6,
     "metadata": {},
     "output_type": "execute_result"
    }
   ],
   "source": [
    "important_keywords[:10]"
   ]
  },
  {
   "cell_type": "code",
   "execution_count": 7,
   "metadata": {},
   "outputs": [],
   "source": [
    "# important_keywords = np.array(important_keywords)\n",
    "# np.save(DATAPATH + \"DBLP/keywords.npy\", important_keywords)"
   ]
  },
  {
   "cell_type": "code",
   "execution_count": 8,
   "metadata": {},
   "outputs": [],
   "source": [
    "with open(DATAPATH + \"DBLP/keywords.txt\", mode=\"a\") as f:\n",
    "    for i in important_keywords:\n",
    "        f.write(i + \"\\n\")"
   ]
  },
  {
   "cell_type": "code",
   "execution_count": null,
   "metadata": {},
   "outputs": [],
   "source": []
  }
 ],
 "metadata": {
  "interpreter": {
   "hash": "e5ac9074c40421cbf492f67471c5dc3e49846f397739518f542476e0deba3a6a"
  },
  "kernelspec": {
   "display_name": "Python 3.9.7 ('trend')",
   "language": "python",
   "name": "python3"
  },
  "language_info": {
   "codemirror_mode": {
    "name": "ipython",
    "version": 3
   },
   "file_extension": ".py",
   "mimetype": "text/x-python",
   "name": "python",
   "nbconvert_exporter": "python",
   "pygments_lexer": "ipython3",
   "version": "3.10.4"
  },
  "orig_nbformat": 4
 },
 "nbformat": 4,
 "nbformat_minor": 2
}
