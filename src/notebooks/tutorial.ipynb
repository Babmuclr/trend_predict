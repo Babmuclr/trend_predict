{
 "cells": [
  {
   "cell_type": "markdown",
   "metadata": {},
   "source": [
    "# Science4Cast\n",
    "### A Machine Learning Challenge in the Science Of Science"
   ]
  },
  {
   "cell_type": "markdown",
   "metadata": {},
   "source": [
    "### 目次:"
   ]
  },
  {
   "cell_type": "markdown",
   "metadata": {},
   "source": [
    "1. [データの見方](#reading)\n",
    "2. [データの可視化](#visualizing)\n",
    "3. [学習データの作成](#train)\n",
    "4. [モデルの学習](#baseline)\n",
    "5. [評価](#metric)\n",
    "6. [コンペのための評価](#testset)\n",
    "\n",
    "### 要約\n",
    "このコンペでは、次のデータが与えられる\n",
    "- full_dynamic_graph_sparse：時刻t1までの動的グラフ（エッジとその作成日のリスト）\n",
    "- unconnected_vertex_pairs：時刻t1までに接続されていない1,000,000個の頂点ペアのリスト\n",
    "\n",
    "**コンペでのあなたの仕事**は、時間t2までunconnected_vertex_pairsのどのエッジが形成されるかを予測することです。 具体的には、unconnected_vertex_pairsの潜在的なエッジのリストを、最も可能性の高いものから最も可能性の低いものへと並べ替えます。結果は、ROC曲線のAUCを介して計算されます。"
   ]
  },
  {
   "cell_type": "markdown",
   "metadata": {},
   "source": [
    "<a id='reading'></a>\n",
    "## 1. データの見方"
   ]
  },
  {
   "cell_type": "markdown",
   "metadata": {},
   "source": [
    "まず、下記からデータを取得できる [IARAI cloud](https://cloud.iarai.ac.at/index.php/s/iTx3bXgMdwsngPn)。三つのファイルを取得でき、内容は、下位の通りである。\n",
    "- **TrainSet2014_3.pkl:** (33 MB) 2014年までのセマンティックネットワーク、およびニューラルネットワークのトレーニングのために予測できる未接続の頂点ペアのリスト\n",
    "- **TrainSet2014_3_solution.pkl**: (0.5 MB) 2014年の接続されていない頂点ペアが2017年までに接続されているかどうかのソリューション\n",
    "- **CompetitionSet2017_3.pkl**: (95 MB) 2017年までのセマンティックネットワーク、および評価のために予測する必要がある接続されていない頂点ペアのリスト"
   ]
  },
  {
   "cell_type": "code",
   "execution_count": 3,
   "metadata": {
    "scrolled": true
   },
   "outputs": [
    {
     "name": "stdout",
     "output_type": "stream",
     "text": [
      "TrainSet2014_3.pkl は 2278611 個のリンクを 64719 個の頂点間に持つ\n",
      "目的は、 1000000 個のunconnectedvertex-pairsの中から 2017 年までにリンクが繋がれるペアを予測することである \n"
     ]
    }
   ],
   "source": [
    "import pickle\n",
    "import numpy as np\n",
    "\n",
    "NUM_OF_VERTICES=64719 # セマンティックネットワークの頂点数\n",
    "DATA_FILE_PATH=\"../../data/Science4Cast/\"\n",
    "\n",
    "data_source='TrainSet2014_3.pkl'\n",
    "full_dynamic_graph_sparse,unconnected_vertex_pairs,year_start,years_delta = pickle.load( open( DATA_FILE_PATH + data_source, \"rb\" ) )\n",
    "\n",
    "print(data_source+' は '+str(len(full_dynamic_graph_sparse))+' 個のリンクを '+str(NUM_OF_VERTICES)+ ' 個の頂点間に持つ')\n",
    "print('目的は、 '+str(len(unconnected_vertex_pairs))+' 個のunconnectedvertex-pairsの中から '+str(year_start+years_delta)+' 年までにリンクが繋がれるペアを予測することである ')"
   ]
  },
  {
   "cell_type": "markdown",
   "metadata": {},
   "source": [
    " - **full_dynamic_graph_sparse:** 2014年または2017年までのセマンティックネットワーク全体。これはnumpy配列であり、各エントリはセマンティックネットワークのエッジを記述します。 各エッジは3つの数値[v1,v2,t]で表され、エッジは頂点v1とv2の間の時間tで形成されます。 tは、1990年1月1日からの日数で測定されます\n",
    "\n",
    "- **unconnected_vertex_pairs:** これは、deg（v1）> = 10、deg（v2）> = 10の頂点ペアv1、v2のリストであり、2014年にはエッジが存在しません。ニューラルネットワークが解決する必要のある質問：エッジは形成されますか ？ 接続されていないすべての頂点が含まれているわけではなく、ランダムなサブセットが含まれています\n",
    "\n",
    "\n",
    "- **year_start:** year_start=2014\n",
    "\n",
    "\n",
    "- **years_delta:** years_delta=3"
   ]
  },
  {
   "cell_type": "code",
   "execution_count": 4,
   "metadata": {
    "scrolled": true
   },
   "outputs": [
    {
     "name": "stdout",
     "output_type": "stream",
     "text": [
      "Type of full_dynamic_graph_sparse:  <class 'numpy.ndarray'>\n",
      "\n",
      "Example edges:\n",
      "Edge in semantic Net (edge #466956):  [35266 36996  7758]\n",
      "Edge in semantic Net (edge #104902):  [32250 43887  6171]\n",
      "Edge in semantic Net (edge #1153556):  [32538 47489  8465]\n",
      "Edge in semantic Net (edge #1027150):  [13238 35059  8387]\n",
      "Edge in semantic Net (edge #936213):  [ 1298 33622  8311]\n"
     ]
    }
   ],
   "source": [
    "import random\n",
    "\n",
    "random.seed(42)\n",
    "print('Type of full_dynamic_graph_sparse: ', type(full_dynamic_graph_sparse))\n",
    "print('\\nExample edges:')\n",
    "for idx in random.sample(range(len(full_dynamic_graph_sparse)), 5):\n",
    "    print('Edge in semantic Net (edge #'+str(idx)+'): ', full_dynamic_graph_sparse[idx])"
   ]
  },
  {
   "cell_type": "markdown",
   "metadata": {},
   "source": [
    "1番目と2番目の数字は頂点のインデックスであり、3番目の数字はタイムスタンプを表します（1990年1月1日からの日数）\n",
    "\n",
    "たとえば、最初のエントリである頂点35266と36996の間のエッジ＃466956は、1990年1月1日から7758日後に形成されました。<br>\n",
    "64719の各頂点は、AIまたは機械学習の概念を表しています。（その意味は競技中に明らかにされません）<br>\n",
    "概念が科学論文（具体的には、そのタイトルまたは要約）に同時に登場する場合、概念間にエッジが形成されます。\n",
    "\n",
    "Next let's see *unconnected_vertex_pairs*:"
   ]
  },
  {
   "cell_type": "code",
   "execution_count": 5,
   "metadata": {},
   "outputs": [
    {
     "name": "stdout",
     "output_type": "stream",
     "text": [
      "Unconnected vertex pairs:  [22768 11701]\n",
      "Unconnected vertex pairs:  [13374  2149]\n",
      "Unconnected vertex pairs:  [18646  3268]\n",
      "Unconnected vertex pairs:  [12087 13432]\n",
      "Unconnected vertex pairs:  [14672  1739]\n"
     ]
    }
   ],
   "source": [
    "for idx in random.sample(range(len(unconnected_vertex_pairs)), 5):\n",
    "    print('Unconnected vertex pairs: ', unconnected_vertex_pairs[idx])"
   ]
  },
  {
   "cell_type": "markdown",
   "metadata": {},
   "source": [
    "2つのインデックスは、2つの頂点を表します。 これらの2つの頂点は、どちらも10より大きい次数を持っていますが、接続されていません。<br>\n",
    "問題は、これらの概念のペア、たとえば（79、184）が3年後に接続されるかどうかです。"
   ]
  },
  {
   "cell_type": "markdown",
   "metadata": {},
   "source": [
    "<a id='visualizing'></a>\n",
    "## 2. データの可視化"
   ]
  },
  {
   "cell_type": "markdown",
   "metadata": {},
   "source": [
    "[NetworkX](https://networkx.org/)を使用して、特定の時点でのセマンティックネットワークを視覚化できます。さらに便利なように、[SciPy](https://www.scipy.org/)を使用。<br>\n",
    "100個のランダムな頂点を選択し、それらが2005、2008、2011、2014、および2017でどのように表示されるかを見ます。\n",
    "\n",
    "まず、ランダムに選択された100個の頂点のみを使用してセマンティックネットワークからサブグラフを作成します。"
   ]
  },
  {
   "cell_type": "code",
   "execution_count": 6,
   "metadata": {
    "scrolled": false
   },
   "outputs": [
    {
     "name": "stdout",
     "output_type": "stream",
     "text": [
      "Number of edges in the subgraph:  288\n",
      "Number of non-zero degree vertices in the subgraph:  43\n",
      "For easier plotting, change names of vertices, from 0 to  43\n",
      "5 edges of previous list:\n",
      "[[  54   54 9067]\n",
      " [  54   54 8050]\n",
      " [  11   23 7732]\n",
      " [  11   75 8683]\n",
      " [   4   24 9114]]\n",
      "\n",
      "\n",
      "\n",
      "5 edges of new list:\n",
      "[[  24   24 9067]\n",
      " [  24   24 8050]\n",
      " [   4   10 7732]\n",
      " [   4   30 8683]\n",
      " [   2   11 9114]]\n"
     ]
    }
   ],
   "source": [
    "from scipy import sparse\n",
    "import networkx as nx\n",
    "\n",
    "rnd_vertices=random.sample(range(100),50) # we use 50 random concepts\n",
    "\n",
    "full_idx0=[]\n",
    "full_idx1=[]\n",
    "for ii in range(len(rnd_vertices)): # here we will find all indices of edges where the concept is either the first or the second vertex\n",
    "    full_idx0=np.concatenate((full_idx0, np.where(full_dynamic_graph_sparse[:,0] == rnd_vertices[ii])[0]))\n",
    "    full_idx1=np.concatenate((full_idx1, np.where(full_dynamic_graph_sparse[:,1] == rnd_vertices[ii])[0]))\n",
    "\n",
    "all_idx=list(set(full_idx0) & set(full_idx1))\n",
    "\n",
    "subgraph_of_semnet=full_dynamic_graph_sparse[np.array(all_idx).astype(int)] # get the corresponding edge\n",
    "\n",
    "# These vertices have degree(v)>0, i.e. have at least one edge in the subgraph:\n",
    "rnd_vertices=list(set(list(subgraph_of_semnet[:,0])+list(subgraph_of_semnet[:,1])))\n",
    "print('Number of edges in the subgraph: ', len(subgraph_of_semnet))\n",
    "print('Number of non-zero degree vertices in the subgraph: ', len(rnd_vertices))\n",
    "\n",
    "print('For easier plotting, change names of vertices, from 0 to ', len(rnd_vertices))\n",
    "\n",
    "print('5 edges of previous list:')\n",
    "print(subgraph_of_semnet[0:5])\n",
    "print('\\n\\n')\n",
    "\n",
    "for ii in range(len(rnd_vertices)):\n",
    "    subgraph_of_semnet[:,0]=[ii if x==rnd_vertices[ii] else x for x in subgraph_of_semnet[:,0]]\n",
    "    subgraph_of_semnet[:,1]=[ii if x==rnd_vertices[ii] else x for x in subgraph_of_semnet[:,1]]\n",
    "\n",
    "print('5 edges of new list:')\n",
    "print(subgraph_of_semnet[0:5])\n"
   ]
  },
  {
   "cell_type": "markdown",
   "metadata": {},
   "source": [
    "Next, let's create the subgraph at different times."
   ]
  },
  {
   "cell_type": "code",
   "execution_count": 7,
   "metadata": {
    "scrolled": true
   },
   "outputs": [
    {
     "name": "stdout",
     "output_type": "stream",
     "text": [
      "Create Graph for  2012\n",
      "Number of edges:  62\n",
      "Create Graph for  2013\n",
      "Number of edges:  92\n",
      "Create Graph for  2014\n",
      "Number of edges:  141\n"
     ]
    }
   ],
   "source": [
    "from datetime import date\n",
    "day_origin = date(1990,1,1)\n",
    "years=[2012,2013,2014]\n",
    "\n",
    "all_nx_nets=[]\n",
    "\n",
    "for yy in years:\n",
    "    print('Create Graph for ', yy)\n",
    "    day_curr=date(yy,12,31)\n",
    "    all_edges_curr=subgraph_of_semnet[subgraph_of_semnet[:,2]<(day_curr-day_origin).days]\n",
    "    adj_mat_sparse_curr = sparse.csr_matrix((np.ones(len(all_edges_curr)), (all_edges_curr[:,0], all_edges_curr[:,1])), shape=(len(rnd_vertices),len(rnd_vertices)))\n",
    "    print('Number of edges: ',adj_mat_sparse_curr.getnnz())\n",
    "    G_curr=nx.from_scipy_sparse_matrix(adj_mat_sparse_curr, parallel_edges=False, create_using=None, edge_attribute='weight')\n",
    "    \n",
    "    all_nx_nets.append(G_curr)\n"
   ]
  },
  {
   "cell_type": "code",
   "execution_count": 8,
   "metadata": {},
   "outputs": [
    {
     "name": "stdout",
     "output_type": "stream",
     "text": [
      "Network of the year  2012\n"
     ]
    },
    {
     "data": {
      "image/png": "[encoded data removed]",
      "text/plain": [
       "<Figure size 432x288 with 1 Axes>"
      ]
     },
     "metadata": {},
     "output_type": "display_data"
    },
    {
     "name": "stdout",
     "output_type": "stream",
     "text": [
      "Network of the year  2013\n"
     ]
    },
    {
     "data": {
      "image/png": "[encoded data removed]",
      "text/plain": [
       "<Figure size 432x288 with 1 Axes>"
      ]
     },
     "metadata": {},
     "output_type": "display_data"
    },
    {
     "name": "stdout",
     "output_type": "stream",
     "text": [
      "Network of the year  2014\n"
     ]
    },
    {
     "data": {
      "image/png": "[encoded data removed]",
      "text/plain": [
       "<Figure size 432x288 with 1 Axes>"
      ]
     },
     "metadata": {},
     "output_type": "display_data"
    }
   ],
   "source": [
    "import matplotlib.pyplot as plt\n",
    "\n",
    "for idx in range(len(all_nx_nets)):\n",
    "    print('Network of the year ',years[idx])\n",
    "    curr_net=all_nx_nets[idx]\n",
    "    nx.draw(curr_net, pos=nx.spring_layout(curr_net), node_size=20)\n",
    "    plt.show()"
   ]
  },
  {
   "cell_type": "code",
   "execution_count": 17,
   "metadata": {},
   "outputs": [
    {
     "name": "stdout",
     "output_type": "stream",
     "text": [
      "Number of edges in the subgraph:  723\n",
      "Number of non-zero degree vertices in the subgraph:  353\n",
      "For easier plotting, change names of vertices, from 0 to  353\n",
      "Create Graph for  2012\n",
      "Number of edges:  293\n",
      "Create Graph for  2013\n",
      "Number of edges:  411\n",
      "Create Graph for  2014\n",
      "Number of edges:  551\n",
      "Network of the year  2012\n"
     ]
    },
    {
     "data": {
      "image/png": "[encoded data removed]",
      "text/plain": [
       "<Figure size 432x288 with 1 Axes>"
      ]
     },
     "metadata": {},
     "output_type": "display_data"
    },
    {
     "name": "stdout",
     "output_type": "stream",
     "text": [
      "Network of the year  2013\n"
     ]
    },
    {
     "data": {
      "image/png": "[encoded data removed]",
      "text/plain": [
       "<Figure size 432x288 with 1 Axes>"
      ]
     },
     "metadata": {},
     "output_type": "display_data"
    },
    {
     "name": "stdout",
     "output_type": "stream",
     "text": [
      "Network of the year  2014\n"
     ]
    },
    {
     "data": {
      "image/png": "[encoded data removed]",
      "text/plain": [
       "<Figure size 432x288 with 1 Axes>"
      ]
     },
     "metadata": {},
     "output_type": "display_data"
    }
   ],
   "source": [
    "topic_num = 1000\n",
    "rnd_vertices=random.sample(range(NUM_OF_VERTICES), topic_num) # we use 50 random concepts\n",
    "\n",
    "full_idx0=[]\n",
    "full_idx1=[]\n",
    "for ii in range(len(rnd_vertices)): # here we will find all indices of edges where the concept is either the first or the second vertex\n",
    "    full_idx0=np.concatenate((full_idx0, np.where(full_dynamic_graph_sparse[:,0] == rnd_vertices[ii])[0]))\n",
    "    full_idx1=np.concatenate((full_idx1, np.where(full_dynamic_graph_sparse[:,1] == rnd_vertices[ii])[0]))\n",
    "\n",
    "all_idx=list(set(full_idx0) & set(full_idx1))\n",
    "\n",
    "subgraph_of_semnet=full_dynamic_graph_sparse[np.array(all_idx).astype(int)] # get the corresponding edge\n",
    "\n",
    "# These vertices have degree(v)>0, i.e. have at least one edge in the subgraph:\n",
    "rnd_vertices=list(set(list(subgraph_of_semnet[:,0])+list(subgraph_of_semnet[:,1])))\n",
    "print('Number of edges in the subgraph: ', len(subgraph_of_semnet))\n",
    "print('Number of non-zero degree vertices in the subgraph: ', len(rnd_vertices))\n",
    "\n",
    "print('For easier plotting, change names of vertices, from 0 to ', len(rnd_vertices))\n",
    "\n",
    "for ii in range(len(rnd_vertices)):\n",
    "    subgraph_of_semnet[:,0]=[ii if x==rnd_vertices[ii] else x for x in subgraph_of_semnet[:,0]]\n",
    "    subgraph_of_semnet[:,1]=[ii if x==rnd_vertices[ii] else x for x in subgraph_of_semnet[:,1]]\n",
    "\n",
    "day_origin = date(1990,1,1)\n",
    "years=[2012,2013,2014]\n",
    "\n",
    "all_nx_nets=[]\n",
    "\n",
    "for yy in years:\n",
    "    print('Create Graph for ', yy)\n",
    "    day_curr=date(yy,12,31)\n",
    "    all_edges_curr=subgraph_of_semnet[subgraph_of_semnet[:,2]<(day_curr-day_origin).days]\n",
    "    adj_mat_sparse_curr = sparse.csr_matrix((np.ones(len(all_edges_curr)), (all_edges_curr[:,0], all_edges_curr[:,1])), shape=(len(rnd_vertices),len(rnd_vertices)))\n",
    "    print('Number of edges: ',adj_mat_sparse_curr.getnnz())\n",
    "    G_curr=nx.from_scipy_sparse_matrix(adj_mat_sparse_curr, parallel_edges=False, create_using=None, edge_attribute='weight')\n",
    "    \n",
    "    all_nx_nets.append(G_curr)\n",
    "\n",
    "\n",
    "\n",
    "for idx in range(len(all_nx_nets)):\n",
    "    print('Network of the year ',years[idx])\n",
    "    curr_net=all_nx_nets[idx]\n",
    "    nx.draw(curr_net, pos=nx.spring_layout(curr_net), node_size=20)\n",
    "    plt.show()"
   ]
  },
  {
   "cell_type": "markdown",
   "metadata": {},
   "source": [
    "<a id='train'></a>\n",
    "## 3. 過去の訓練データの作成"
   ]
  },
  {
   "cell_type": "markdown",
   "metadata": {},
   "source": [
    "次に、ベースラインモデルのトレーニングデータを作成します。 ベースラインモデルは、ニューラルネットワークの履歴(historic)状態を使用して、接続されていない頂点が接続されるかどうかを予測します。\n",
    "\n",
    "検証の実行では、2014年のセマンティックネットを使用して2017年を予測します。したがって、2011年から2014年までのトレーニングデータを作成します。トレーニング後、2017年を予測できます。"
   ]
  },
  {
   "cell_type": "code",
   "execution_count": 9,
   "metadata": {
    "scrolled": true
   },
   "outputs": [
    {
     "name": "stdout",
     "output_type": "stream",
     "text": [
      "    Create Graph for  2011\n",
      "    Done: Create Graph for  2011\n",
      "    num of edges:  567750\n",
      "    Create Graph for  2014\n",
      "    Done: Create Graph for  2014\n",
      "    num of edges:  1843253\n",
      "    edge progress ( 6.008148193359375e-05 sec):  0.0 M/ 1.0 M\n",
      "Number of unconnected vertex pairs for prediction:  1000000\n",
      "Number of vertex pairs that will be connected:  329\n",
      "Ratio of vertex pairs that will be connected:  0.000329\n",
      "    Create Graph for  2011\n",
      "    Create Graph for  2010\n",
      "    Create Graph for  2009\n",
      "done\n"
     ]
    }
   ],
   "source": [
    "import time\n",
    "\n",
    "def create_training_data(full_graph,year_start,years_delta,edges_used=500000,vertex_degree_cutoff=10):\n",
    "    \"\"\"\n",
    "    :param full_graph: Full graph, numpy array dim(n,3) [vertex 1, vertex 2, time stamp]\n",
    "    :param year_start: year of graph\n",
    "    :param years_delta: distance for prediction in years (prediction on graph of year_start+years_delta)\n",
    "    :param edges_used: optional filter to create a random subset of edges for rapid prototyping (default: 500,000)\n",
    "    :param vertex_degree_cutoff: optional filter, for vertices in training set having a minimal degree of at least vertex_degree_cutoff  (default: 10)\n",
    "    :return:\n",
    "\n",
    "    all_edge_list: graph of year_start, numpy array dim(n,2)\n",
    "    unconnected_vertex_pairs: potential edges for year_start+years_delta\n",
    "    unconnected_vertex_pairs_solution: numpy array with integers (0=unconnected, 1=connected), solution, length = len(unconnected_vertex_pairs)\n",
    "    \"\"\"\n",
    "\n",
    "    years=[year_start,year_start+years_delta]    \n",
    "    day_origin = date(1990,1,1)\n",
    "\n",
    "    all_G=[]\n",
    "    all_edge_lists=[]\n",
    "    all_sparse=[]\n",
    "    for yy in years:\n",
    "        print('    Create Graph for ', yy)\n",
    "        day_curr=date(yy,12,31)\n",
    "        all_edges_curr=full_graph[full_graph[:,2]<(day_curr-day_origin).days]\n",
    "        adj_mat_sparse_curr = sparse.csr_matrix((np.ones(len(all_edges_curr)), (all_edges_curr[:,0], all_edges_curr[:,1])), shape=(NUM_OF_VERTICES,NUM_OF_VERTICES))\n",
    "        G_curr=nx.from_scipy_sparse_matrix(adj_mat_sparse_curr, parallel_edges=False, create_using=None, edge_attribute='weight')\n",
    "\n",
    "        all_G.append(G_curr)\n",
    "        all_sparse.append(adj_mat_sparse_curr)\n",
    "        all_edge_lists.append(all_edges_curr)\n",
    "\n",
    "        print('    Done: Create Graph for ', yy)\n",
    "        print('    num of edges: ', G_curr.number_of_edges())\n",
    "\n",
    "    all_degs=np.array(all_sparse[0].sum(0))[0]\n",
    "\n",
    "    ## Create all edges to be predicted\n",
    "    all_vertices=np.array(range(NUM_OF_VERTICES))\n",
    "    vertex_large_degs=all_vertices[all_degs>=vertex_degree_cutoff] # use only vertices with degrees larger than 10.\n",
    "\n",
    "    unconnected_vertex_pairs=[]\n",
    "    unconnected_vertex_pairs_solution=[]\n",
    "\n",
    "    time_start=time.time()\n",
    "    while len(unconnected_vertex_pairs)<edges_used:        \n",
    "        v1,v2=random.sample(range(len(vertex_large_degs)), 2)\n",
    "\n",
    "        if v1!=v2 and not all_G[0].has_edge(v1,v2):\n",
    "            if len(unconnected_vertex_pairs)%10**6==0:\n",
    "                time_end=time.time()\n",
    "                print('    edge progress (',time_end-time_start,'sec): ',len(unconnected_vertex_pairs)/10**6,'M/',edges_used/10**6,'M')\n",
    "                time_start=time.time()\n",
    "            unconnected_vertex_pairs.append((v1,v2))\n",
    "            unconnected_vertex_pairs_solution.append(all_G[1].has_edge(v1,v2))\n",
    "\n",
    "        \n",
    "    print('Number of unconnected vertex pairs for prediction: ', len(unconnected_vertex_pairs_solution))\n",
    "    print('Number of vertex pairs that will be connected: ' , sum(unconnected_vertex_pairs_solution))\n",
    "    print('Ratio of vertex pairs that will be connected: ' , sum(unconnected_vertex_pairs_solution)/len(unconnected_vertex_pairs_solution))\n",
    "    \n",
    "    unconnected_vertex_pairs=np.array(unconnected_vertex_pairs)\n",
    "    unconnected_vertex_pairs_solution=np.array(list(map(int, unconnected_vertex_pairs_solution)))\n",
    "    all_edge_list=np.array(all_edge_lists[0])\n",
    "    \n",
    "    return all_edge_list, unconnected_vertex_pairs, unconnected_vertex_pairs_solution\n",
    "\n",
    "edges_used=1*10**6 # Best would be to use all vertices, to create more training data. But that takes long and requires huge amount of memory. So here we use a random subset.\n",
    "vertex_degree_cutoff=10\n",
    "train_dynamic_graph_sparse,train_edges_for_checking,train_edges_solution = create_training_data(full_dynamic_graph_sparse, year_start-years_delta, years_delta, edges_used=edges_used, vertex_degree_cutoff=vertex_degree_cutoff)\n",
    "\n",
    "day_origin = date(1990,1,1)\n",
    "years=[year_start-3,year_start-4,year_start-5]\n",
    "\n",
    "train_sparse=[]\n",
    "for yy in years:\n",
    "    print('    Create Graph for ', yy)\n",
    "    day_curr=date(yy,12,31)\n",
    "    train_edges_curr=train_dynamic_graph_sparse[train_dynamic_graph_sparse[:,2]<(day_curr-day_origin).days]\n",
    "    adj_mat_sparse_curr = sparse.csr_matrix((np.ones(len(train_edges_curr)), (train_edges_curr[:,0], train_edges_curr[:,1])), shape=(NUM_OF_VERTICES,NUM_OF_VERTICES))\n",
    "\n",
    "    train_sparse.append(adj_mat_sparse_curr)\n",
    "print('done')"
   ]
  },
  {
   "cell_type": "markdown",
   "metadata": {},
   "source": [
    "<a id='baseline'></a>\n",
    "## 4. Training a baseline model"
   ]
  },
  {
   "cell_type": "markdown",
   "metadata": {},
   "source": [
    "Here we train a baseline model. The model uses hand-engineered features of the network, in a similar way as a previous [Semantic Network in Quantum Physics](https://www.pnas.org/content/117/4/1910).\n",
    "\n",
    "### 4.1 Split data in training and testing\n",
    "First, we split our data in training and testing."
   ]
  },
  {
   "cell_type": "code",
   "execution_count": 13,
   "metadata": {},
   "outputs": [
    {
     "name": "stdout",
     "output_type": "stream",
     "text": [
      "    Shuffle training data...\n",
      "    Split dataset...\n",
      "Training, connected  :  272\n",
      "Training, unconnected:  899728\n"
     ]
    }
   ],
   "source": [
    "print('    Shuffle training data...')\n",
    "train_valid_test_size=[0.9, 0.1, 0.0]\n",
    "x = [i for i in range(len(train_edges_for_checking))]  # random shuffle input\n",
    "\n",
    "random.shuffle(x)\n",
    "train_edges_for_checking = train_edges_for_checking[x]\n",
    "train_edges_solution = train_edges_solution[x]\n",
    "\n",
    "print('    Split dataset...')\n",
    "idx_traintest=int(len(train_edges_for_checking)*train_valid_test_size[0])\n",
    "\n",
    "data_edges_train=train_edges_for_checking[0:idx_traintest]\n",
    "solution_train=train_edges_solution[0:idx_traintest]  \n",
    "\n",
    "data_edges_test=train_edges_for_checking[idx_traintest:]\n",
    "solution_test=train_edges_solution[idx_traintest:]\n",
    "\n",
    "print('Training, connected  : ',sum(solution_train==1))\n",
    "print('Training, unconnected: ',sum(solution_train==0))"
   ]
  },
  {
   "cell_type": "markdown",
   "metadata": {},
   "source": [
    "<a id='features'></a>\n",
    "### 4.2 Creating features\n",
    "ここでは、ベースラインモデルをトレーニングします。 このモデルは、以前の[量子物理学のセマンティックネットワーク](https://www.pnas.org/content/117/4/1910)と同様に、ネットワークの手作業で設計された機能を使用しています。\n",
    "\n",
    "具体的には、頂点ペア（v1、v2）に15の機能を使用します。\n",
    "\n",
    "**特徴：**\n",
    "- 現在の年（2011年の検証時）および過去2年間のv1およびv2の情報。 （これらは6つのプロパティです）\n",
    "- 現在の年（2011年の検証時）および過去2年間のv1とv2の合計での共通隣接ノードの数。 （これらは6つのプロパティです）\n",
    "- 現在の年（2011年の検証時）および過去2年間のv1とv2の間の共通隣接ノードの数。 （これらは3つのプロパティです）\n",
    "\n",
    "コンピューティング機能は高価であり、2つのクラス（接続されているものと接続されていないもの）は非常に不均一に分散しているため、トレーニングには接続されていない例の約1％しか使用しません。"
   ]
  },
  {
   "cell_type": "code",
   "execution_count": 14,
   "metadata": {
    "scrolled": true
   },
   "outputs": [
    {
     "name": "stdout",
     "output_type": "stream",
     "text": [
      "    Computed all matrix squares, ready to ruuuumbleeee...\n",
      "compute features: ( 4.3826940059661865 sec)  0.0 M/ 0.009245 M\n",
      "    Computed all matrix squares, ready to ruuuumbleeee...\n",
      "compute features: ( 4.13457989692688 sec)  0.0 M/ 0.1 M\n",
      "done\n"
     ]
    }
   ],
   "source": [
    "def compute_all_properties(all_sparse,AA02,AA12,AA22,all_degs0,all_degs1,all_degs2,all_degs02,all_degs12,all_degs22,v1,v2):\n",
    "    \"\"\"\n",
    "    Computes hand-crafted properties for one vertex in vlist\n",
    "    \"\"\"\n",
    "    all_properties=[]\n",
    "\n",
    "    all_properties.append(all_degs0[v1]) # 0\n",
    "    all_properties.append(all_degs0[v2]) # 1\n",
    "    all_properties.append(all_degs1[v1]) # 2\n",
    "    all_properties.append(all_degs1[v2]) # 3\n",
    "    all_properties.append(all_degs2[v1]) # 4\n",
    "    all_properties.append(all_degs2[v2]) # 5\n",
    "    all_properties.append(all_degs02[v1]) # 6\n",
    "    all_properties.append(all_degs02[v2]) # 7\n",
    "    all_properties.append(all_degs12[v1]) # 8\n",
    "    all_properties.append(all_degs12[v2]) # 9\n",
    "    all_properties.append(all_degs22[v1]) # 10\n",
    "    all_properties.append(all_degs22[v2]) # 11\n",
    "\n",
    "    all_properties.append(AA02[v1,v2]) # 12\n",
    "    all_properties.append(AA12[v1,v2]) # 13\n",
    "    all_properties.append(AA22[v1,v2]) # 14    \n",
    "\n",
    "    return all_properties\n",
    "\n",
    "\n",
    "\n",
    "def compute_all_properties_of_list(all_sparse,vlist):\n",
    "    \"\"\"\n",
    "    Computes hand-crafted properties for all vertices in vlist\n",
    "    \"\"\"\n",
    "    time_start=time.time()\n",
    "    AA02=all_sparse[0]**2\n",
    "    AA02=AA02/AA02.max()\n",
    "    AA12=all_sparse[1]**2\n",
    "    AA12=AA12/AA12.max()\n",
    "    AA22=all_sparse[2]**2\n",
    "    AA22=AA02/AA22.max()\n",
    "    \n",
    "    all_degs0=np.array(all_sparse[0].sum(0))[0]\n",
    "    if np.max(all_degs0)>0:\n",
    "        all_degs0=all_degs0/np.max(all_degs0)\n",
    "        \n",
    "    all_degs1=np.array(all_sparse[1].sum(0))[0]\n",
    "    if np.max(all_degs1)>0:\n",
    "        all_degs1=all_degs1/np.max(all_degs1)\n",
    "    \n",
    "    all_degs2=np.array(all_sparse[2].sum(0))[0]\n",
    "    if np.max(all_degs2)>0:\n",
    "        all_degs2=all_degs2/np.max(all_degs2)\n",
    "\n",
    "    all_degs02=np.array(AA02[0].sum(0))[0]\n",
    "    if np.max(all_degs2)>0:\n",
    "        all_degs02=all_degs02/np.max(all_degs02)\n",
    "        \n",
    "    all_degs12=np.array(AA12[1].sum(0))[0]\n",
    "    if np.max(all_degs12)>0:\n",
    "        all_degs12=all_degs12/np.max(all_degs12)\n",
    "        \n",
    "    all_degs22=np.array(AA22[2].sum(0))[0]\n",
    "    if np.max(all_degs22)>0:\n",
    "        all_degs22=all_degs22/np.max(all_degs22)\n",
    "    \n",
    "    all_properties=[]\n",
    "    print('    Computed all matrix squares, ready to ruuuumbleeee...')\n",
    "    for ii in range(len(vlist)):\n",
    "        vals=compute_all_properties(all_sparse,\n",
    "                                    AA02,\n",
    "                                    AA12,\n",
    "                                    AA22,\n",
    "                                    all_degs0,\n",
    "                                    all_degs1,\n",
    "                                    all_degs2,\n",
    "                                    all_degs02,\n",
    "                                    all_degs12,\n",
    "                                    all_degs22,\n",
    "                                    vlist[ii][0],\n",
    "                                    vlist[ii][1])\n",
    "\n",
    "        all_properties.append(vals)\n",
    "        if ii%10**5==0:\n",
    "            print('compute features: (',time.time()-time_start,'sec) ',ii/10**6,'M/',len(vlist)/10**6,'M')\n",
    "            time_start=time.time()\n",
    "\n",
    "    return all_properties\n",
    "\n",
    "# Rather than using all connected and unconnected vertex pairs for training\n",
    "# (i.e. needing to compute their properties), we reject about 99% of all unconnected\n",
    "# examples, to have more examples of connected cases in the training. This significantly\n",
    "# speeds up the computation, at the price of precision.\n",
    "data_edges_train_smaller=[]\n",
    "solution_train_smaller=[]\n",
    "for ii in range(len(data_edges_train)):\n",
    "    if (solution_train[ii]==0 and random.random()<0.01) or solution_train[ii]==1:\n",
    "        data_edges_train_smaller.append(data_edges_train[ii])\n",
    "        solution_train_smaller.append(solution_train[ii])\n",
    "\n",
    "data_train=compute_all_properties_of_list(train_sparse,data_edges_train_smaller)\n",
    "\n",
    "data_train0=[]\n",
    "data_train1=[]\n",
    "for ii in range(len(data_edges_train_smaller)):\n",
    "    if solution_train_smaller[ii]==1:\n",
    "        data_train1.append(data_train[ii])\n",
    "    else:\n",
    "        data_train0.append(data_train[ii])\n",
    "\n",
    "data_test=compute_all_properties_of_list(train_sparse,data_edges_test)\n",
    "data_test0=[]\n",
    "data_test1=[]\n",
    "for ii in range(len(data_edges_test)):\n",
    "    if solution_test[ii]==1:\n",
    "        data_test1.append(data_test[ii])\n",
    "    else:\n",
    "        data_test0.append(data_test[ii])\n",
    "print('done')"
   ]
  },
  {
   "cell_type": "markdown",
   "metadata": {},
   "source": [
    "<a id='nn'></a>\n",
    "### 4.2 モデルの学習"
   ]
  },
  {
   "cell_type": "markdown",
   "metadata": {},
   "source": [
    "次に、完全に接続された単純な3層ニューラルネットワークをトレーニングして、頂点ペアが接続されるかどうかを予測します。"
   ]
  },
  {
   "cell_type": "code",
   "execution_count": 24,
   "metadata": {
    "scrolled": true
   },
   "outputs": [
    {
     "name": "stdout",
     "output_type": "stream",
     "text": [
      "0 - train:  1.758873 ; test:  1.7588751\n",
      "50 - train:  1.2547339 ; test:  1.2547247\n",
      "100 - train:  0.63799256 ; test:  0.6379651\n",
      "150 - train:  0.49950105 ; test:  0.49946362\n",
      "200 - train:  0.49848753 ; test:  0.4984417\n",
      "250 - train:  0.49816728 ; test:  0.4981122\n",
      "300 - train:  0.49785173 ; test:  0.4977855\n",
      "350 - train:  0.4975286 ; test:  0.49745637\n",
      "400 - train:  0.4972101 ; test:  0.4971292\n",
      "450 - train:  0.49689835 ; test:  0.49680808\n",
      "500 - train:  0.49658343 ; test:  0.49648488\n",
      "550 - train:  0.49625385 ; test:  0.49614483\n",
      "600 - train:  0.49592984 ; test:  0.49580994\n",
      "650 - train:  0.49558896 ; test:  0.49545616\n",
      "700 - train:  0.49524134 ; test:  0.49509573\n",
      "750 - train:  0.49486917 ; test:  0.49471134\n",
      "800 - train:  0.49448872 ; test:  0.49431968\n",
      "850 - train:  0.49411377 ; test:  0.49393067\n",
      "900 - train:  0.49369368 ; test:  0.49349743\n",
      "950 - train:  0.4932639 ; test:  0.49305156\n",
      "1000 - train:  0.4927873 ; test:  0.492558\n",
      "1050 - train:  0.49226445 ; test:  0.4920131\n",
      "1100 - train:  0.49169573 ; test:  0.4914227\n",
      "1150 - train:  0.49106947 ; test:  0.49076903\n",
      "1200 - train:  0.49033692 ; test:  0.49000552\n",
      "1250 - train:  0.48950642 ; test:  0.4891391\n",
      "1300 - train:  0.48865885 ; test:  0.4882556\n",
      "1350 - train:  0.48766673 ; test:  0.48721805\n",
      "1400 - train:  0.48659438 ; test:  0.48609358\n",
      "1450 - train:  0.48532647 ; test:  0.4847641\n",
      "1500 - train:  0.48396194 ; test:  0.48333085\n",
      "1550 - train:  0.48247045 ; test:  0.48175845\n",
      "1600 - train:  0.48077172 ; test:  0.47995988\n",
      "1650 - train:  0.47884256 ; test:  0.47792602\n",
      "1700 - train:  0.47670633 ; test:  0.47563678\n",
      "1750 - train:  0.4743433 ; test:  0.47311437\n",
      "1800 - train:  0.47144094 ; test:  0.46999028\n",
      "1850 - train:  0.46843928 ; test:  0.46672162\n",
      "1900 - train:  0.4653491 ; test:  0.46332514\n",
      "1950 - train:  0.46195805 ; test:  0.45953274\n",
      "2000 - train:  0.45847005 ; test:  0.45556873\n",
      "2050 - train:  0.45453948 ; test:  0.45103395\n",
      "2100 - train:  0.4512638 ; test:  0.44704092\n",
      "2150 - train:  0.44811177 ; test:  0.44317296\n",
      "2200 - train:  0.4446298 ; test:  0.43927294\n",
      "2250 - train:  0.44160676 ; test:  0.43522614\n",
      "2300 - train:  0.43879682 ; test:  0.43154722\n",
      "2350 - train:  0.4342723 ; test:  0.4268172\n",
      "2400 - train:  0.43034935 ; test:  0.42233002\n",
      "2450 - train:  0.4263761 ; test:  0.41698197\n",
      "2500 - train:  0.42255735 ; test:  0.41282153\n",
      "2550 - train:  0.4187618 ; test:  0.408313\n",
      "2600 - train:  0.41797847 ; test:  0.40710416\n",
      "2650 - train:  0.4145977 ; test:  0.40238938\n",
      "2700 - train:  0.41312703 ; test:  0.4015865\n",
      "Early stopping kicked in\n"
     ]
    },
    {
     "data": {
      "image/png": "[encoded data removed]",
      "text/plain": [
       "<Figure size 432x288 with 1 Axes>"
      ]
     },
     "metadata": {
      "needs_background": "light"
     },
     "output_type": "display_data"
    },
    {
     "data": {
      "image/png": "[encoded data removed]",
      "text/plain": [
       "<Figure size 432x288 with 1 Axes>"
      ]
     },
     "metadata": {
      "needs_background": "light"
     },
     "output_type": "display_data"
    },
    {
     "data": {
      "image/png": "[encoded data removed]",
      "text/plain": [
       "<Figure size 432x288 with 1 Axes>"
      ]
     },
     "metadata": {
      "needs_background": "light"
     },
     "output_type": "display_data"
    },
    {
     "name": "stdout",
     "output_type": "stream",
     "text": [
      "done\n"
     ]
    }
   ],
   "source": [
    "import torch\n",
    "from torch import nn\n",
    "\n",
    "class ff_network(nn.Module):\n",
    "\n",
    "    def __init__(self):\n",
    "        \"\"\"\n",
    "        Fully Connected layers\n",
    "        \"\"\"\n",
    "        super(ff_network, self).__init__()\n",
    "\n",
    "        self.semnet = nn.Sequential( # very small network for tests\n",
    "            nn.Linear(15, 100), # 15 properties\n",
    "            nn.ReLU(),\n",
    "            nn.Linear(100, 100), \n",
    "            nn.ReLU(),       \n",
    "            nn.Linear(100, 10),\n",
    "            nn.ReLU(),             \n",
    "            nn.Linear(10, 1)\n",
    "        )\n",
    "\n",
    "\n",
    "    def forward(self, x):\n",
    "        \"\"\"\n",
    "        Pass throught network\n",
    "        \"\"\"\n",
    "        res = self.semnet(x)\n",
    "\n",
    "        return res\n",
    "\n",
    "\n",
    "def train_model(model_semnet, data_train0, data_train1, data_test0, data_test1, lr_enc, batch_size):\n",
    "    \"\"\"\n",
    "    Training the neural network\n",
    "    \"\"\"    \n",
    "    \n",
    "    device = torch.device(\"cuda:0\" if torch.cuda.is_available() else \"cpu\")\n",
    "    size_of_loss_check=2000\n",
    "    \n",
    "    optimizer_predictor = torch.optim.Adam(model_semnet.parameters(), lr=lr_enc)\n",
    "    \n",
    "    data_train0=torch.tensor(data_train0, dtype=torch.float).to(device)\n",
    "    data_test0=torch.tensor(data_test0, dtype=torch.float).to(device)\n",
    "    \n",
    "    data_train1=torch.tensor(data_train1, dtype=torch.float).to(device)\n",
    "    data_test1=torch.tensor(data_test1, dtype=torch.float).to(device)\n",
    "\n",
    "    test_loss_total=[]\n",
    "    moving_avg=[]\n",
    "    criterion = torch.nn.MSELoss()\n",
    "    \n",
    "    # There are much more vertex pairs that wont be connected (0) rather than ones\n",
    "    # that will be connected (1). However, we observed that training with an equally weighted\n",
    "    # training set (same number of examples for (0) and (1)) results in more stable training.\n",
    "    # (Imaging we have 1.000.000 nonconnected and 10.000 connected)\n",
    "    #\n",
    "    # For that reason, we dont have true 'episodes' (where each example from the training set\n",
    "    # has been used in the training). Rather, in each of our iteration, we sample batch_size\n",
    "    # random training examples from data_train0 and from data_train1.\n",
    "    \n",
    "    for iteration in range(10000): # should be much larger, with good early stopping criteria\n",
    "        model_semnet.train()\n",
    "        data_sets=[data_train0,data_train1]\n",
    "        total_loss=0\n",
    "        for idx_dataset in range(len(data_sets)):\n",
    "            idx = torch.randint(0, len(data_sets[idx_dataset]), (batch_size,))\n",
    "            data_train_samples = data_sets[idx_dataset][idx]\n",
    "            calc_properties = model_semnet(data_train_samples)\n",
    "            curr_pred=torch.tensor([idx_dataset] * batch_size, dtype=torch.float).to(device)\n",
    "            curr_pred = curr_pred.unsqueeze(1)\n",
    "            real_loss = criterion(calc_properties, curr_pred)\n",
    "            total_loss += torch.clamp(real_loss, min = 0., max = 50000.).double()\n",
    "\n",
    "        optimizer_predictor.zero_grad()\n",
    "        total_loss.backward()\n",
    "        optimizer_predictor.step()\n",
    "\n",
    "        # Evaluating the current quality.\n",
    "        with torch.no_grad():\n",
    "            model_semnet.eval()\n",
    "            # calculate train set\n",
    "            eval_datasets=[data_train0,data_train1,data_test0,data_test1]\n",
    "            all_real_loss=[]\n",
    "            for idx_dataset in range(len(eval_datasets)):\n",
    "                eval_datasets[idx_dataset]\n",
    "                calc_properties = model_semnet(eval_datasets[idx_dataset][0:size_of_loss_check])        \n",
    "                curr_pred = torch.tensor([idx_dataset%2] * len(eval_datasets[idx_dataset][0:size_of_loss_check]), dtype=torch.float).to(device)\n",
    "                curr_pred = curr_pred.unsqueeze(1)\n",
    "                real_loss = criterion(calc_properties, curr_pred)\n",
    "                all_real_loss.append(real_loss.detach().cpu().numpy())\n",
    "             \n",
    "            test_loss_total.append(np.mean(all_real_loss[2])+np.mean(all_real_loss[3]))\n",
    "\n",
    "            if iteration%50==0:\n",
    "                print(str(iteration)+' - train: ',np.mean(all_real_loss[0])+np.mean(all_real_loss[1]),'; test: ',np.mean(all_real_loss[2])+np.mean(all_real_loss[3]))\n",
    "\n",
    "\n",
    "            if len(test_loss_total)>200: # early stopping\n",
    "                test_loss_moving_avg=sum(test_loss_total[-50:])\n",
    "                moving_avg.append(test_loss_moving_avg)\n",
    "                if len(moving_avg)>10:\n",
    "                    if moving_avg[-1]>moving_avg[-2] and moving_avg[-1]>moving_avg[-10]:\n",
    "                        print('Early stopping kicked in')\n",
    "                        break\n",
    "\n",
    "    plt.plot(test_loss_total)\n",
    "    plt.show()\n",
    "    \n",
    "    plt.plot(test_loss_total[200:])\n",
    "    plt.show()    \n",
    "    \n",
    "    plt.plot(moving_avg)\n",
    "    plt.show()\n",
    "\n",
    "    return True\n",
    "\n",
    "device = torch.device(\"cuda:0\" if torch.cuda.is_available() else \"cpu\")\n",
    "model_semnet = ff_network().to(device)\n",
    "\n",
    "batch_size=100 # Large batch_size seems to be important\n",
    "lr_enc=5*10**-4\n",
    "\n",
    "model_semnet.train()\n",
    "train_model(model_semnet, data_train0, data_train1, data_test0, data_test1, lr_enc, batch_size)  \n",
    "print('done')"
   ]
  },
  {
   "cell_type": "markdown",
   "metadata": {},
   "source": [
    "<a id='metric'></a>\n",
    "## 5. モデルの評価（AUC）"
   ]
  },
  {
   "cell_type": "markdown",
   "metadata": {},
   "source": [
    "トレーニング済みのモデルができたので、コンペの指標を使用してモデルの予測品質をテストする準備が整いました：[ROC曲線の曲線下面積（AUC）](https://en.wikipedia.org/wiki/Receiver_operating_characteristic＃Area_under_the_curve)。 このメトリックは、ノイズの影響を受けにくく、接続されたエッジと接続されていないエッジの分布に依存しないため、このメトリックを選択しました。\n",
    "\n",
    "さらに、このタスクを解決するための非常に興味深い方法があるかもしれません。たとえば、直接[AUCを最大化する](https://towardsdatascience.com/explicit-auc-maximization-70beef6db14e)。"
   ]
  },
  {
   "cell_type": "code",
   "execution_count": 16,
   "metadata": {
    "scrolled": true
   },
   "outputs": [
    {
     "data": {
      "image/png": "[encoded data removed]",
      "text/plain": [
       "<Figure size 432x288 with 1 Axes>"
      ]
     },
     "metadata": {
      "needs_background": "light"
     },
     "output_type": "display_data"
    },
    {
     "name": "stdout",
     "output_type": "stream",
     "text": [
      "    AUC_train:  0.7641703705888572\n"
     ]
    },
    {
     "data": {
      "image/png": "[encoded data removed]",
      "text/plain": [
       "<Figure size 432x288 with 1 Axes>"
      ]
     },
     "metadata": {
      "needs_background": "light"
     },
     "output_type": "display_data"
    },
    {
     "name": "stdout",
     "output_type": "stream",
     "text": [
      "    AUC_test:  0.7848966893590364\n"
     ]
    }
   ],
   "source": [
    "import warnings\n",
    "warnings.filterwarnings(\"ignore\", category=DeprecationWarning)\n",
    "\n",
    "def flatten(t):\n",
    "    return [item for sublist in t for item in sublist]\n",
    "\n",
    "def calculate_ROC(data_vertex_pairs,data_solution):\n",
    "    data_solution=np.array(data_solution)\n",
    "    data_vertex_pairs_sorted=data_solution[data_vertex_pairs]\n",
    "    \n",
    "    xpos=[0]\n",
    "    ypos=[0]\n",
    "    ROC_vals=[]\n",
    "    for ii in range(len(data_vertex_pairs_sorted)):\n",
    "        if data_vertex_pairs_sorted[ii]==1:\n",
    "            xpos.append(xpos[-1])\n",
    "            ypos.append(ypos[-1]+1)\n",
    "        if data_vertex_pairs_sorted[ii]==0:\n",
    "            xpos.append(xpos[-1]+1)\n",
    "            ypos.append(ypos[-1])      \n",
    "            ROC_vals.append(ypos[-1])\n",
    "    \n",
    "        # # # # # # # # # # # # # # # \n",
    "        # \n",
    "        # We normalize the ROC curve such that it starts at (0,0) and ends at (1,1).\n",
    "        # Then our final metric of interest is the Area under that curve.\n",
    "        # AUC is between [0,1].\n",
    "        # AUC = 0.5 is acchieved by random predictions\n",
    "        # AUC = 1.0 stands for perfect prediction.\n",
    "    \n",
    "    ROC_vals=np.array(ROC_vals)/max(ypos)\n",
    "    ypos=np.array(ypos)/max(ypos)\n",
    "    xpos=np.array(xpos)/max(xpos)\n",
    "    \n",
    "    plt.plot(xpos, ypos)\n",
    "    plt.show()\n",
    "    \n",
    "    AUC=sum(ROC_vals)/len(ROC_vals)\n",
    "    return AUC\n",
    "\n",
    "data_train=torch.tensor(data_train, dtype=torch.float).to(device)\n",
    "all_predictions_train=flatten(model_semnet(data_train).detach().cpu().numpy())\n",
    "sorted_predictions_train=np.flip(np.argsort(all_predictions_train,axis=0))    \n",
    "AUC_train=calculate_ROC(sorted_predictions_train, solution_train_smaller)\n",
    "print('    AUC_train: ', AUC_train)\n",
    "\n",
    "data_test=torch.tensor(data_test, dtype=torch.float).to(device)\n",
    "all_predictions_test=flatten(model_semnet(data_test).detach().cpu().numpy())\n",
    "sorted_predictions_test=np.flip(np.argsort(all_predictions_test,axis=0))    \n",
    "AUC_test=calculate_ROC(sorted_predictions_test, solution_test)\n",
    "print('    AUC_test: ', AUC_test)"
   ]
  },
  {
   "cell_type": "markdown",
   "metadata": {},
   "source": [
    "<a id='testset'></a>\n",
    "## 6. コンペのための評価\n",
    "\n",
    "次に、テストセットを分析します。 検証実行（2017を予測するための2014ネットワーク）または評価実行（2020を予測するための2017ネットワーク）の場合、手順は同じです。 ただ、1つのケースでは、AUCを計算でき、もう1つのケースでは、最終結果を保存して、コンテストに提出します。\n",
    "\n",
    "どちらの場合も、*unconnected_vertex_pairs*内のすべての接続されていない頂点ペアの15個の特徴を計算します。"
   ]
  },
  {
   "cell_type": "code",
   "execution_count": 17,
   "metadata": {},
   "outputs": [
    {
     "name": "stdout",
     "output_type": "stream",
     "text": [
      "2) Makes predictions for 2014 -> 2017 data.\n",
      "2.1) Computes the 15 properties for the 2014 data.\n",
      "    Create Graph for  2014\n",
      "    Create Graph for  2013\n",
      "    Create Graph for  2012\n",
      "    compute all properties for evaluation\n",
      "    Computed all matrix squares, ready to ruuuumbleeee...\n",
      "compute features: ( 31.598323106765747 sec)  0.0 M/ 1.0 M\n",
      "compute features: ( 5.7018420696258545 sec)  0.1 M/ 1.0 M\n",
      "compute features: ( 5.401739835739136 sec)  0.2 M/ 1.0 M\n",
      "compute features: ( 5.3491530418396 sec)  0.3 M/ 1.0 M\n",
      "compute features: ( 5.322677850723267 sec)  0.4 M/ 1.0 M\n",
      "compute features: ( 5.201218128204346 sec)  0.5 M/ 1.0 M\n",
      "compute features: ( 5.387420892715454 sec)  0.6 M/ 1.0 M\n",
      "compute features: ( 5.202871084213257 sec)  0.7 M/ 1.0 M\n",
      "compute features: ( 5.160760879516602 sec)  0.8 M/ 1.0 M\n",
      "compute features: ( 5.3900229930877686 sec)  0.9 M/ 1.0 M\n",
      "2.2) Uses the trained network to predict whether edges are created by 2017.\n",
      "3) Creates a sorted index list, from highest predicted vertex pair to least predicted one (sorted_predictions)\n"
     ]
    }
   ],
   "source": [
    "# Create properties for evaluation\n",
    "print('2) Makes predictions for '+str(year_start)+' -> '+str(year_start+3)+' data.')\n",
    "years=[year_start,year_start-1,year_start-2]\n",
    "\n",
    "print('2.1) Computes the 15 properties for the '+str(year_start)+' data.')\n",
    "eval_sparse=[]\n",
    "for yy in years:\n",
    "    print('    Create Graph for ', yy)\n",
    "    day_curr=date(yy,12,31)\n",
    "    eval_edges_curr=full_dynamic_graph_sparse[full_dynamic_graph_sparse[:,2]<(day_curr-day_origin).days]\n",
    "    adj_mat_sparse_curr = sparse.csr_matrix(\n",
    "                                            (np.ones(len(eval_edges_curr)), (eval_edges_curr[:,0], eval_edges_curr[:,1])),\n",
    "                                            shape=(NUM_OF_VERTICES,NUM_OF_VERTICES)\n",
    "                                           )\n",
    "\n",
    "    eval_sparse.append(adj_mat_sparse_curr)\n",
    "\n",
    "print('    compute all properties for evaluation')\n",
    "eval_examples=compute_all_properties_of_list(eval_sparse,unconnected_vertex_pairs)\n",
    "eval_examples=np.array(eval_examples)\n",
    "\n",
    "print('2.2) Uses the trained network to predict whether edges are created by '+str(year_start+3)+'.')\n",
    "eval_examples=torch.tensor(eval_examples, dtype=torch.float).to(device)\n",
    "all_predictions_eval=flatten(model_semnet(eval_examples).detach().cpu().numpy())\n",
    "\n",
    "print('3) Creates a sorted index list, from highest predicted vertex pair to least predicted one (sorted_predictions)')\n",
    "sorted_predictions_eval=np.flip(np.argsort(all_predictions_eval,axis=0))   \n"
   ]
  },
  {
   "cell_type": "markdown",
   "metadata": {},
   "source": [
    "変数*sorted_predictions*が最終的な解決策です。 これにより、解決策がわかれば、AUCを再度計算できます。\n",
    "\n",
    "- 検証用：ソリューションファイルをロードしてAUCを計算できます。\n",
    "- コンペの評価用：jsonを使用してデータを保存し、Webサイトから送信できます。"
   ]
  },
  {
   "cell_type": "code",
   "execution_count": 20,
   "metadata": {},
   "outputs": [
    {
     "data": {
      "image/png": "[encoded data removed]",
      "text/plain": [
       "<Figure size 432x288 with 1 Axes>"
      ]
     },
     "metadata": {
      "needs_background": "light"
     },
     "output_type": "display_data"
    },
    {
     "name": "stdout",
     "output_type": "stream",
     "text": [
      "Area Under Curve for Evaluation:  0.724753239163579 \n",
      "\n",
      "\n",
      "\n"
     ]
    }
   ],
   "source": [
    "import json\n",
    "\n",
    "if year_start==2017:\n",
    "    # Save the results for submission.\n",
    "    submit_file=\"model_all_idx\"+str(year_start)+\"_\"+str(years_delta)+\".json\"\n",
    "    all_idx_list_float=list(map(float, sorted_predictions_eval))\n",
    "    with open(DATA_FILE_PATH +  submit_file, \"w\", encoding=\"utf8\") as json_file:\n",
    "        json.dump(all_idx_list_float, json_file)\n",
    "    \n",
    "    print(\"Solution stored as \"+submit_file+\".\\nLooking forward to your submission.\")        \n",
    "\n",
    "else:\n",
    "    with open(DATA_FILE_PATH + 'TrainSet2014_3_solution.pkl', \"rb\" ) as pkl_file:\n",
    "        unconnected_vertex_pairs_solution = pickle.load(pkl_file)\n",
    "    \n",
    "    AUC=calculate_ROC(sorted_predictions_eval, np.array(unconnected_vertex_pairs_solution))\n",
    "    print('Area Under Curve for Evaluation: ', AUC,'\\n\\n\\n')"
   ]
  },
  {
   "cell_type": "markdown",
   "metadata": {},
   "source": []
  }
 ],
 "metadata": {
  "kernelspec": {
   "display_name": "Python 3.8.13 ('trend')",
   "language": "python",
   "name": "python3"
  },
  "language_info": {
   "codemirror_mode": {
    "name": "ipython",
    "version": 3
   },
   "file_extension": ".py",
   "mimetype": "text/x-python",
   "name": "python",
   "nbconvert_exporter": "python",
   "pygments_lexer": "ipython3",
   "version": "3.8.13"
  },
  "vscode": {
   "interpreter": {
    "hash": "b84fa5a1e8a3cc3fd8c1dcfffacdc375261120e4d3182b4e3c8518d7fb4d75b6"
   }
  }
 },
 "nbformat": 4,
 "nbformat_minor": 2
}
