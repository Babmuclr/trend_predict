{
 "cells": [
  {
   "cell_type": "markdown",
   "metadata": {},
   "source": [
    "# Aminerデータの基本操作"
   ]
  },
  {
   "cell_type": "code",
   "execution_count": 1,
   "metadata": {},
   "outputs": [],
   "source": [
    "# import libraries\n",
    "\n",
    "import numpy as np\n",
    "import pandas as pd\n",
    "import gc\n",
    "import os\n",
    "import json\n",
    "from collections import Counter, defaultdict\n",
    "from tqdm.notebook import tqdm\n",
    "import matplotlib.pyplot as plt\n",
    "import matplotlib.dates as mdates\n",
    "%matplotlib inline\n",
    "import plotly.express as px\n",
    "import re\n",
    "import datetime as dt\n",
    "import japanize_matplotlib\n",
    "year_pattern = r'([1-2][0-9]{3})'"
   ]
  },
  {
   "cell_type": "code",
   "execution_count": 5,
   "metadata": {},
   "outputs": [],
   "source": [
    "DATAPATH = \"../../data/DBLP/made/\"\n",
    "START_YEAR = 2000\n",
    "END_YEAR = 2015\n",
    "YEAR_STD = END_YEAR - START_YEAR"
   ]
  },
  {
   "cell_type": "code",
   "execution_count": 3,
   "metadata": {},
   "outputs": [],
   "source": [
    "def get_metadata(filename):\n",
    "    with open(DATAPATH + filename, encoding=\"utf-8\", mode='r') as f:\n",
    "        for line in f:\n",
    "            yield line"
   ]
  },
  {
   "cell_type": "markdown",
   "metadata": {},
   "source": [
    "## データ整形\n",
    "元データ：dbplv13.json (17GB)<br>\n",
    "https://www.aminer.org/citation でダウンロードし、解凍\n",
    "\n",
    "データ中身：\n",
    "```\n",
    "[\n",
    "{\n",
    "    \"_id\": \"53e99784b7602d9701f3e3f4\",\n",
    "    \"title\": \"360degree\",\n",
    "    \"authors\": [\n",
    "        {\n",
    "        \"_id\": \"53f46946dabfaec09f24b4ed\",\n",
    "        \"name\": \"Miguel Palma\",\n",
    "        \"sid\": \"8515747\"\n",
    "        }\n",
    "    ],\n",
    "    \"venue\": {\n",
    "        \"_id\": \"53a72b2d20f7420be8c1c5a8\",\n",
    "        \"raw\": \"SIGGRAPH ASIA Art Gallery & Emerging Technologies\"\n",
    "    },\n",
    "    \"year\": 2009.0,\n",
    "    \"keywords\": [],\n",
    "    \"n_citation\": 0.0,\n",
    "    \"page_start\": \"39\",\n",
    "    \"lang\": \"en\",\n",
    "    \"volume\": \"\",\n",
    "    \"issue\": \"\",\n",
    "    \"doi\": \"10.1145/1665137.1665166\",\n",
    "    \"url\": [\n",
    "        \"http://doi.acm.org/10.1145/1665137.1665166\",\n",
    "        \"db/conf/siggraph/siggraph2009asiaart.html#Palma09\",\n",
    "        \"https://doi.org/10.1145/1665137.1665166\"\n",
    "    ],\n",
    "    \"abstract\": \"\"\n",
    "},\n",
    "....\n",
    "{\n",
    "    各論文データ\n",
    "}\n",
    "]\n",
    "```\n",
    "\n",
    "使いづらい点：\n",
    "- 一行ずつ読み込んでいけない\n",
    "    - データが大きい\n",
    "    - 改行\n",
    "- intデータをNumberInt()を用いている\n",
    "    - 例：　1 -> NumberInt(1) // NumberInt(1)はエラーを引き起こす\n",
    "\n",
    "下記の形式のテキストファイルに変換 -> 整形後 dblpv13.txt\n",
    "```\n",
    "{ 論文データ1 }\n",
    "{ 論文データ2 }\n",
    "...\n",
    "{ 論文データN }\n",
    "```"
   ]
  },
  {
   "cell_type": "code",
   "execution_count": 4,
   "metadata": {},
   "outputs": [
    {
     "data": {
      "application/vnd.jupyter.widget-view+json": {
       "model_id": "7ebf8a70da0e4cc2afa49246876ac3ed",
       "version_major": 2,
       "version_minor": 0
      },
      "text/plain": [
       "0it [00:00, ?it/s]"
      ]
     },
     "metadata": {},
     "output_type": "display_data"
    },
    {
     "name": "stdout",
     "output_type": "stream",
     "text": [
      "CPU times: user 8min 10s, sys: 57 s, total: 9min 7s\n",
      "Wall time: 9min 6s\n"
     ]
    }
   ],
   "source": [
    "%%time\n",
    "# 行数 409129300 8min30s程度かかる\n",
    "with open(DATAPATH + 'dblpv13.json') as fin:\n",
    "    d = \"\"\n",
    "    for line in tqdm(fin):\n",
    "        if line == \"[\\n\":\n",
    "            pass\n",
    "        elif line == \"},\\n\":\n",
    "            d += \"}\"\n",
    "            d = d.replace(\"\\n\", \"\")\n",
    "            d = re.sub(\"NumberInt\\(|\\)\", \"\", d)\n",
    "            with open(DATAPATH + 'dblpv13.txt', 'a') as f:\n",
    "                f.write(d+\"\\n\")\n",
    "            d = \"\"\n",
    "        elif line == \"}\\n\":\n",
    "            d += \"}\"\n",
    "            d = d.replace(\"\\n\", \"\")\n",
    "            d = re.sub(\"NumberInt\\(|\\)\", \"\", d)\n",
    "            with open(DATAPATH + 'dblpv13.txt', 'a') as f:\n",
    "                f.write(d+\"\\n\")\n",
    "            break\n",
    "        else:\n",
    "            d += line"
   ]
  },
  {
   "cell_type": "code",
   "execution_count": 5,
   "metadata": {},
   "outputs": [
    {
     "data": {
      "application/vnd.jupyter.widget-view+json": {
       "model_id": "5786d4a3a216467997a80bc4fde2418c",
       "version_major": 2,
       "version_minor": 0
      },
      "text/plain": [
       "0it [00:00, ?it/s]"
      ]
     },
     "metadata": {},
     "output_type": "display_data"
    },
    {
     "name": "stdout",
     "output_type": "stream",
     "text": [
      "5354309\n",
      "CPU times: user 1min 45s, sys: 11.4 s, total: 1min 57s\n",
      "Wall time: 1min 48s\n"
     ]
    },
    {
     "data": {
      "text/plain": [
       "5354309"
      ]
     },
     "execution_count": 5,
     "metadata": {},
     "output_type": "execute_result"
    }
   ],
   "source": [
    "%%time\n",
    "\n",
    "titles = []\n",
    "count = 0\n",
    "metadata = get_metadata(\"dblpv13.txt\")\n",
    "for paper in tqdm(metadata):\n",
    "    data = json.loads(paper)\n",
    "    try:\n",
    "        t = data.get('title')   \n",
    "        titles.append(t)\n",
    "\n",
    "    except Exception as e:\n",
    "        print(e)\n",
    "        print(data)\n",
    "        break\n",
    "    count += 1\n",
    "print(count)\n",
    "len(titles)"
   ]
  },
  {
   "cell_type": "markdown",
   "metadata": {},
   "source": [
    "データセットのメタデータにある論文数と一致"
   ]
  },
  {
   "cell_type": "code",
   "execution_count": 6,
   "metadata": {},
   "outputs": [
    {
     "data": {
      "application/vnd.jupyter.widget-view+json": {
       "model_id": "312ad7b634ab4ee888a8458d66a71e6e",
       "version_major": 2,
       "version_minor": 0
      },
      "text/plain": [
       "0it [00:00, ?it/s]"
      ]
     },
     "metadata": {},
     "output_type": "display_data"
    },
    {
     "ename": "KeyboardInterrupt",
     "evalue": "",
     "output_type": "error",
     "traceback": [
      "\u001b[0;31m---------------------------------------------------------------------------\u001b[0m",
      "\u001b[0;31mKeyboardInterrupt\u001b[0m                         Traceback (most recent call last)",
      "File \u001b[0;32m<timed exec>:6\u001b[0m, in \u001b[0;36m<module>\u001b[0;34m\u001b[0m\n",
      "File \u001b[0;32m~/anaconda3/envs/trend/lib/python3.10/json/__init__.py:346\u001b[0m, in \u001b[0;36mloads\u001b[0;34m(s, cls, object_hook, parse_float, parse_int, parse_constant, object_pairs_hook, **kw)\u001b[0m\n\u001b[1;32m    341\u001b[0m     s \u001b[39m=\u001b[39m s\u001b[39m.\u001b[39mdecode(detect_encoding(s), \u001b[39m'\u001b[39m\u001b[39msurrogatepass\u001b[39m\u001b[39m'\u001b[39m)\n\u001b[1;32m    343\u001b[0m \u001b[39mif\u001b[39;00m (\u001b[39mcls\u001b[39m \u001b[39mis\u001b[39;00m \u001b[39mNone\u001b[39;00m \u001b[39mand\u001b[39;00m object_hook \u001b[39mis\u001b[39;00m \u001b[39mNone\u001b[39;00m \u001b[39mand\u001b[39;00m\n\u001b[1;32m    344\u001b[0m         parse_int \u001b[39mis\u001b[39;00m \u001b[39mNone\u001b[39;00m \u001b[39mand\u001b[39;00m parse_float \u001b[39mis\u001b[39;00m \u001b[39mNone\u001b[39;00m \u001b[39mand\u001b[39;00m\n\u001b[1;32m    345\u001b[0m         parse_constant \u001b[39mis\u001b[39;00m \u001b[39mNone\u001b[39;00m \u001b[39mand\u001b[39;00m object_pairs_hook \u001b[39mis\u001b[39;00m \u001b[39mNone\u001b[39;00m \u001b[39mand\u001b[39;00m \u001b[39mnot\u001b[39;00m kw):\n\u001b[0;32m--> 346\u001b[0m     \u001b[39mreturn\u001b[39;00m _default_decoder\u001b[39m.\u001b[39;49mdecode(s)\n\u001b[1;32m    347\u001b[0m \u001b[39mif\u001b[39;00m \u001b[39mcls\u001b[39m \u001b[39mis\u001b[39;00m \u001b[39mNone\u001b[39;00m:\n\u001b[1;32m    348\u001b[0m     \u001b[39mcls\u001b[39m \u001b[39m=\u001b[39m JSONDecoder\n",
      "File \u001b[0;32m~/anaconda3/envs/trend/lib/python3.10/json/decoder.py:337\u001b[0m, in \u001b[0;36mJSONDecoder.decode\u001b[0;34m(self, s, _w)\u001b[0m\n\u001b[1;32m    332\u001b[0m \u001b[39mdef\u001b[39;00m \u001b[39mdecode\u001b[39m(\u001b[39mself\u001b[39m, s, _w\u001b[39m=\u001b[39mWHITESPACE\u001b[39m.\u001b[39mmatch):\n\u001b[1;32m    333\u001b[0m     \u001b[39m\"\"\"Return the Python representation of ``s`` (a ``str`` instance\u001b[39;00m\n\u001b[1;32m    334\u001b[0m \u001b[39m    containing a JSON document).\u001b[39;00m\n\u001b[1;32m    335\u001b[0m \n\u001b[1;32m    336\u001b[0m \u001b[39m    \"\"\"\u001b[39;00m\n\u001b[0;32m--> 337\u001b[0m     obj, end \u001b[39m=\u001b[39m \u001b[39mself\u001b[39;49m\u001b[39m.\u001b[39;49mraw_decode(s, idx\u001b[39m=\u001b[39;49m_w(s, \u001b[39m0\u001b[39;49m)\u001b[39m.\u001b[39;49mend())\n\u001b[1;32m    338\u001b[0m     end \u001b[39m=\u001b[39m _w(s, end)\u001b[39m.\u001b[39mend()\n\u001b[1;32m    339\u001b[0m     \u001b[39mif\u001b[39;00m end \u001b[39m!=\u001b[39m \u001b[39mlen\u001b[39m(s):\n",
      "File \u001b[0;32m~/anaconda3/envs/trend/lib/python3.10/json/decoder.py:353\u001b[0m, in \u001b[0;36mJSONDecoder.raw_decode\u001b[0;34m(self, s, idx)\u001b[0m\n\u001b[1;32m    344\u001b[0m \u001b[39m\"\"\"Decode a JSON document from ``s`` (a ``str`` beginning with\u001b[39;00m\n\u001b[1;32m    345\u001b[0m \u001b[39ma JSON document) and return a 2-tuple of the Python\u001b[39;00m\n\u001b[1;32m    346\u001b[0m \u001b[39mrepresentation and the index in ``s`` where the document ended.\u001b[39;00m\n\u001b[0;32m   (...)\u001b[0m\n\u001b[1;32m    350\u001b[0m \n\u001b[1;32m    351\u001b[0m \u001b[39m\"\"\"\u001b[39;00m\n\u001b[1;32m    352\u001b[0m \u001b[39mtry\u001b[39;00m:\n\u001b[0;32m--> 353\u001b[0m     obj, end \u001b[39m=\u001b[39m \u001b[39mself\u001b[39;49m\u001b[39m.\u001b[39;49mscan_once(s, idx)\n\u001b[1;32m    354\u001b[0m \u001b[39mexcept\u001b[39;00m \u001b[39mStopIteration\u001b[39;00m \u001b[39mas\u001b[39;00m err:\n\u001b[1;32m    355\u001b[0m     \u001b[39mraise\u001b[39;00m JSONDecodeError(\u001b[39m\"\u001b[39m\u001b[39mExpecting value\u001b[39m\u001b[39m\"\u001b[39m, s, err\u001b[39m.\u001b[39mvalue) \u001b[39mfrom\u001b[39;00m \u001b[39mNone\u001b[39m\n",
      "\u001b[0;31mKeyboardInterrupt\u001b[0m: "
     ]
    }
   ],
   "source": [
    "%%time\n",
    "\n",
    "categories = {}\n",
    "count = 0\n",
    "\n",
    "metadata = get_metadata(\"dblpv13.txt\")\n",
    "for paper in tqdm(metadata):\n",
    "    data = json.loads(paper)\n",
    "    try:\n",
    "        k = data.get('fos')\n",
    "        y = data.get('year')\n",
    "        if len(k) == 0:\n",
    "            pass\n",
    "        else:\n",
    "            if y >= START_YEAR and  END_YEAR >= y :\n",
    "                for i in k:\n",
    "                    i = i.lower().strip()\n",
    "                    if i not in categories:\n",
    "                        categories[i] = 1\n",
    "                    else:\n",
    "                        categories[i] = categories[i] + 1\n",
    "    except Exception as e:\n",
    "        # keywordがないものも存在\n",
    "        count += 1\n",
    "        pass\n",
    "print(\"カテゴリー数:{}, カテゴリーを持たない論文数:{}\".format(len(categories), count))"
   ]
  },
  {
   "cell_type": "code",
   "execution_count": 7,
   "metadata": {},
   "outputs": [
    {
     "data": {
      "application/vnd.jupyter.widget-view+json": {
       "model_id": "19766c47f6d34e44bc8a0fe2cfe79cd7",
       "version_major": 2,
       "version_minor": 0
      },
      "text/plain": [
       "0it [00:00, ?it/s]"
      ]
     },
     "metadata": {},
     "output_type": "display_data"
    },
    {
     "name": "stdout",
     "output_type": "stream",
     "text": [
      "カテゴリー数:146580, カテゴリーを持たない論文数:350935\n",
      "単独カテゴリー論文数:25835, 複数カテゴリー論文数:4910054, カテゴリーを持たない論文数:67495\n",
      "CPU times: user 1min 58s, sys: 12.7 s, total: 2min 11s\n",
      "Wall time: 2min 2s\n"
     ]
    }
   ],
   "source": [
    "%%time\n",
    "\n",
    "categories = {}\n",
    "count = 0\n",
    "count_one_category, count_dual_category, count_no_category = 0,0,0\n",
    "\n",
    "metadata = get_metadata(\"dblpv13.txt\")\n",
    "for paper in tqdm(metadata):\n",
    "    data = json.loads(paper)\n",
    "    try:\n",
    "        k = data.get('fos')\n",
    "        y = data.get('year')\n",
    "        if len(k) > 1:\n",
    "            count_dual_category += 1\n",
    "        elif len(k) == 1:\n",
    "            count_one_category += 1\n",
    "        else:\n",
    "            count_no_category += 1\n",
    "        if len(k) == 0:\n",
    "            pass\n",
    "        else:\n",
    "            if y >= START_YEAR and  END_YEAR >= y :\n",
    "                for i in k:\n",
    "                    i = i.lower().strip()\n",
    "                    if i not in categories:\n",
    "                        categories[i] = 1\n",
    "                    else:\n",
    "                        categories[i] = categories[i] + 1\n",
    "    except Exception as e:\n",
    "        # keywordがないものも存在\n",
    "        count += 1\n",
    "        pass\n",
    "print(\"カテゴリー数:{}, カテゴリーを持たない論文数:{}\".format(len(categories), count))\n",
    "print(\"単独カテゴリー論文数:{}, 複数カテゴリー論文数:{}, カテゴリーを持たない論文数:{}\".format(count_one_category, count_dual_category, count_no_category))"
   ]
  },
  {
   "cell_type": "code",
   "execution_count": 10,
   "metadata": {},
   "outputs": [
    {
     "data": {
      "application/vnd.jupyter.widget-view+json": {
       "model_id": "37596b06b1124f87a424293f81077fa3",
       "version_major": 2,
       "version_minor": 0
      },
      "text/plain": [
       "0it [00:00, ?it/s]"
      ]
     },
     "metadata": {},
     "output_type": "display_data"
    },
    {
     "name": "stdout",
     "output_type": "stream",
     "text": [
      "['Agronomy', 'Moisture', 'Hydrology', 'Environmental science', 'Dry weight', 'Water content', 'Stomatal conductance', 'Transpiration', 'Irrigation', 'Soil water', 'Canopy']\n",
      "['Intelligent character recognition', 'Pattern recognition', 'Computer science', 'Feature (computer vision', 'Document processing', 'Handwriting recognition', 'Optical character recognition', 'Feature extraction', 'Feature (machine learning', 'Artificial intelligence', 'Intelligent word recognition']\n",
      "['Delay calculation', 'Timing failure', 'Monte Carlo method', 'Sequential logic', 'Statistical static timing analysis', 'Shortest path problem', 'Computer science', 'Algorithm', 'Clock skew', 'Static timing analysis', 'Statistics']\n",
      "['XML Base', 'World Wide Web', 'XML framework', 'XML Encryption', 'Efficient XML Interchange', 'SGML', 'Programming language', 'Software engineering', 'XML', 'XML validation', 'Computer science', 'cXML']\n",
      "['Virtualization', 'Service level objective', 'Virtual machine', 'Computer science', 'Testbed', 'Quality of service', 'Provisioning', 'Resource allocation', 'Web application', 'Operating system', 'Distributed computing']\n",
      "['Changeover', 'Transport engineering', 'Planner', 'New delhi', 'Public transport', 'Schedule', 'Local bus', 'Engineering', 'Metropolitan area']\n",
      "['Information system', 'Computer science', 'Mobile device', 'MOLAP', 'Online analytical processing', 'Data access', 'Data cube', 'Scalability', 'Distributed computing', 'Client–server model']\n",
      "カテゴリー数:60, カテゴリーを持たない論文数:200\n",
      "単独カテゴリー論文数:0, 複数カテゴリー論文数:7, カテゴリーを持たない論文数:0\n",
      "CPU times: user 32 ms, sys: 4 ms, total: 36 ms\n",
      "Wall time: 30.2 ms\n"
     ]
    }
   ],
   "source": [
    "%%time\n",
    "\n",
    "categories = {}\n",
    "count = 0\n",
    "count_one_category, count_dual_category, count_no_category = 0,0,0\n",
    "\n",
    "metadata = get_metadata(\"dblpv13.txt\")\n",
    "for paper in tqdm(metadata):\n",
    "    data = json.loads(paper)\n",
    "    try:\n",
    "        k = data.get('fos')\n",
    "        y = data.get('year')\n",
    "        if len(k) > 1:\n",
    "            count_dual_category += 1\n",
    "            print(k)\n",
    "            \n",
    "        elif len(k) == 1:\n",
    "            count_one_category += 1\n",
    "        else:\n",
    "            count_no_category += 1\n",
    "        if len(k) == 0:\n",
    "            pass\n",
    "        else:\n",
    "            if y >= START_YEAR and  END_YEAR >= y :\n",
    "                for i in k:\n",
    "                    i = i.lower().strip()\n",
    "                    if i not in categories:\n",
    "                        categories[i] = 1\n",
    "                    else:\n",
    "                        categories[i] = categories[i] + 1\n",
    "    except Exception as e:\n",
    "        # keywordがないものも存在\n",
    "        count += 1\n",
    "        pass\n",
    "    if count == 200:\n",
    "        break\n",
    "print(\"カテゴリー数:{}, カテゴリーを持たない論文数:{}\".format(len(categories), count))\n",
    "print(\"単独カテゴリー論文数:{}, 複数カテゴリー論文数:{}, カテゴリーを持たない論文数:{}\".format(count_one_category, count_dual_category, count_no_category))"
   ]
  },
  {
   "cell_type": "code",
   "execution_count": 7,
   "metadata": {},
   "outputs": [
    {
     "data": {
      "application/vnd.jupyter.widget-view+json": {
       "model_id": "aee91861074b40a593c5f3a9f42f75a2",
       "version_major": 2,
       "version_minor": 0
      },
      "text/plain": [
       "  0%|          | 0/146580 [00:00<?, ?it/s]"
      ]
     },
     "metadata": {},
     "output_type": "display_data"
    },
    {
     "name": "stdout",
     "output_type": "stream",
     "text": [
      "出現数が200以上のカテゴリー数:12479\n"
     ]
    }
   ],
   "source": [
    "important_categories = []\n",
    "for category in tqdm(categories):\n",
    "    if categories[category] > 200:\n",
    "        important_categories.append(category)\n",
    "len(important_categories)\n",
    "print(\"出現数が200以上のカテゴリー数:{}\".format(len(important_categories)))"
   ]
  },
  {
   "cell_type": "markdown",
   "metadata": {},
   "source": [
    "## キーワードの解析"
   ]
  },
  {
   "cell_type": "code",
   "execution_count": 8,
   "metadata": {},
   "outputs": [
    {
     "data": {
      "application/vnd.jupyter.widget-view+json": {
       "model_id": "d6f8c06961044390ae04cda2f826eba3",
       "version_major": 2,
       "version_minor": 0
      },
      "text/plain": [
       "0it [00:00, ?it/s]"
      ]
     },
     "metadata": {},
     "output_type": "display_data"
    },
    {
     "name": "stdout",
     "output_type": "stream",
     "text": [
      "キーワードの数:6266923, キーワードのない論文数:1171589,\n",
      " 期間が妥当である論文数2203448, 期間街の論文数1016262\n",
      "CPU times: user 2min 12s, sys: 15.2 s, total: 2min 27s\n",
      "Wall time: 2min 16s\n"
     ]
    }
   ],
   "source": [
    "%%time\n",
    "\n",
    "keywords = {}\n",
    "count, count2, count3 = 0, 0, 0\n",
    "\n",
    "metadata = get_metadata(\"dblpv13.txt\")\n",
    "for paper in tqdm(metadata):\n",
    "    data = json.loads(paper)\n",
    "    try:\n",
    "        k = data.get('keywords')\n",
    "        y = data.get('year')\n",
    "        if len(k) == 0:\n",
    "            pass\n",
    "        else:\n",
    "            if y >= START_YEAR and  END_YEAR >= y :\n",
    "                for i in k:\n",
    "                    i = i.lower().strip()\n",
    "                    if i not in keywords:\n",
    "                        keywords[i] = 1\n",
    "                    else:\n",
    "                        keywords[i] = keywords[i] + 1\n",
    "                count2 += 1\n",
    "            else:\n",
    "                count3 += 1\n",
    "    except Exception as e:\n",
    "        # keywordがないものも存在\n",
    "        count += 1\n",
    "        pass\n",
    "print(\"キーワードの数:{}, キーワードのない論文数:{},\\n 期間が妥当である論文数{}, 期間外の論文数{}\".format(len(keywords), count, count2, count3))"
   ]
  },
  {
   "cell_type": "code",
   "execution_count": 9,
   "metadata": {},
   "outputs": [
    {
     "data": {
      "application/vnd.jupyter.widget-view+json": {
       "model_id": "0357bbade67e49aeaea635a91330959d",
       "version_major": 2,
       "version_minor": 0
      },
      "text/plain": [
       "  0%|          | 0/6266923 [00:00<?, ?it/s]"
      ]
     },
     "metadata": {},
     "output_type": "display_data"
    },
    {
     "name": "stdout",
     "output_type": "stream",
     "text": [
      "出現数が200以上のキーワード数:10874\n"
     ]
    }
   ],
   "source": [
    "important_keywords = []\n",
    "M = 200\n",
    "for keyword in tqdm(keywords):\n",
    "    # keyword の出現回数が、Mを超えるとき\n",
    "    if keywords[keyword] >= M:\n",
    "        important_keywords.append(keyword)\n",
    "print(\"出現数が\" + str(M) + \"以上のキーワード数:{}\".format(len(important_keywords)))"
   ]
  },
  {
   "cell_type": "code",
   "execution_count": 10,
   "metadata": {},
   "outputs": [
    {
     "data": {
      "application/vnd.jupyter.widget-view+json": {
       "model_id": "ff2d0a75801f4925b7b709adbf9be713",
       "version_major": 2,
       "version_minor": 0
      },
      "text/plain": [
       "  0%|          | 0/6266923 [00:00<?, ?it/s]"
      ]
     },
     "metadata": {},
     "output_type": "display_data"
    },
    {
     "name": "stdout",
     "output_type": "stream",
     "text": [
      "出現数が400以上のキーワード数:5866\n"
     ]
    }
   ],
   "source": [
    "important_keywords = []\n",
    "M = 400\n",
    "for keyword in tqdm(keywords):\n",
    "    # keyword の出現回数が、Mを超えるとき\n",
    "    if keywords[keyword] >= M:\n",
    "        important_keywords.append(keyword)\n",
    "print(\"出現数が\" + str(M) + \"以上のキーワード数:{}\".format(len(important_keywords)))"
   ]
  },
  {
   "cell_type": "code",
   "execution_count": 11,
   "metadata": {},
   "outputs": [
    {
     "data": {
      "application/vnd.jupyter.widget-view+json": {
       "model_id": "ae3d9940643e41a6ad3284d39bf6b716",
       "version_major": 2,
       "version_minor": 0
      },
      "text/plain": [
       "  0%|          | 0/6266923 [00:00<?, ?it/s]"
      ]
     },
     "metadata": {},
     "output_type": "display_data"
    },
    {
     "name": "stdout",
     "output_type": "stream",
     "text": [
      "出現数が600以上のキーワード数:4034\n"
     ]
    }
   ],
   "source": [
    "important_keywords = []\n",
    "M = 600\n",
    "for keyword in tqdm(keywords):\n",
    "    # keyword の出現回数が、Mを超えるとき\n",
    "    if keywords[keyword] >= M:\n",
    "        important_keywords.append(keyword)\n",
    "print(\"出現数が\" + str(M) + \"以上のキーワード数:{}\".format(len(important_keywords)))"
   ]
  },
  {
   "cell_type": "code",
   "execution_count": 12,
   "metadata": {},
   "outputs": [
    {
     "data": {
      "application/vnd.jupyter.widget-view+json": {
       "model_id": "112c5a1330834a8eb217a06fbe169f14",
       "version_major": 2,
       "version_minor": 0
      },
      "text/plain": [
       "  0%|          | 0/6266923 [00:00<?, ?it/s]"
      ]
     },
     "metadata": {},
     "output_type": "display_data"
    },
    {
     "name": "stdout",
     "output_type": "stream",
     "text": [
      "出現数が800以上のキーワード数:3091\n"
     ]
    }
   ],
   "source": [
    "important_keywords = []\n",
    "M = 800\n",
    "for keyword in tqdm(keywords):\n",
    "    # keyword の出現回数が、Mを超えるとき\n",
    "    if keywords[keyword] >= M:\n",
    "        important_keywords.append(keyword)\n",
    "print(\"出現数が\" + str(M) + \"以上のキーワード数:{}\".format(len(important_keywords)))"
   ]
  },
  {
   "cell_type": "code",
   "execution_count": 13,
   "metadata": {},
   "outputs": [
    {
     "data": {
      "application/vnd.jupyter.widget-view+json": {
       "model_id": "640f399ecf054c1e9364f9ece776e221",
       "version_major": 2,
       "version_minor": 0
      },
      "text/plain": [
       "  0%|          | 0/6266923 [00:00<?, ?it/s]"
      ]
     },
     "metadata": {},
     "output_type": "display_data"
    },
    {
     "name": "stdout",
     "output_type": "stream",
     "text": [
      "出現数が1000以上のキーワード数:2512\n"
     ]
    }
   ],
   "source": [
    "important_keywords = []\n",
    "M = 1000\n",
    "for keyword in tqdm(keywords):\n",
    "    # keyword の出現回数が、Mを超えるとき\n",
    "    if keywords[keyword] >= M:\n",
    "        important_keywords.append(keyword)\n",
    "print(\"出現数が\" + str(M) + \"以上のキーワード数:{}\".format(len(important_keywords)))"
   ]
  },
  {
   "cell_type": "code",
   "execution_count": null,
   "metadata": {},
   "outputs": [],
   "source": []
  }
 ],
 "metadata": {
  "interpreter": {
   "hash": "e5ac9074c40421cbf492f67471c5dc3e49846f397739518f542476e0deba3a6a"
  },
  "kernelspec": {
   "display_name": "Python 3.9.7 ('trend')",
   "language": "python",
   "name": "python3"
  },
  "language_info": {
   "codemirror_mode": {
    "name": "ipython",
    "version": 3
   },
   "file_extension": ".py",
   "mimetype": "text/x-python",
   "name": "python",
   "nbconvert_exporter": "python",
   "pygments_lexer": "ipython3",
   "version": "3.10.4"
  },
  "orig_nbformat": 4
 },
 "nbformat": 4,
 "nbformat_minor": 2
}
