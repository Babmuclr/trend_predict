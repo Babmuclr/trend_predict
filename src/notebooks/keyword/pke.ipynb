{
 "cells": [
  {
   "cell_type": "code",
   "execution_count": 1,
   "metadata": {},
   "outputs": [],
   "source": [
    "# import libraries\n",
    "\n",
    "import numpy as np\n",
    "import pandas as pd\n",
    "import gc\n",
    "import os\n",
    "import json\n",
    "from collections import Counter, defaultdict\n",
    "from tqdm.notebook import tqdm\n",
    "import matplotlib.pyplot as plt\n",
    "import matplotlib.dates as mdates\n",
    "%matplotlib inline\n",
    "import plotly.express as px\n",
    "import re\n",
    "import datetime as dt\n",
    "import japanize_matplotlib\n",
    "year_pattern = r'([1-2][0-9]{3})'"
   ]
  },
  {
   "cell_type": "code",
   "execution_count": 2,
   "metadata": {},
   "outputs": [],
   "source": [
    "import pke\n",
    "\n",
    "text = \" A fully differential calculation in perturbative quantum chromodynamics is presented for the production of massive photon pairs at hadron colliders. All next-to-leading order perturbative contributions from quark-antiquark, gluon-(anti)quark, and gluon-gluon subprocesses are included, as well as all-orders resummation of initial-state gluon radiation valid at next-to-next-to-leading logarithmic accuracy. The region of phase space is specified in which the calculation is most reliable. Good agreement is demonstrated with data from the Fermilab Tevatron, and predictions are made for more detailed tests with CDF and DO data. Predictions are shown for distributions of diphoton pairs produced at the energy of the Large Hadron Collider (LHC). Distributions of the diphoton pairs from the decay of a Higgs boson are contrasted with those produced from QCD processes at the LHC, showing that enhanced sensitivity to the signal can be obtained with judicious selection of events.\""
   ]
  },
  {
   "cell_type": "code",
   "execution_count": 3,
   "metadata": {},
   "outputs": [
    {
     "name": "stdout",
     "output_type": "stream",
     "text": [
      "CPU times: user 592 ms, sys: 28 ms, total: 620 ms\n",
      "Wall time: 616 ms\n"
     ]
    },
    {
     "data": {
      "text/plain": [
       "[('differential calculation', 0.05008927984732341),\n",
       " ('diphoton pairs', 0.048793308041256894),\n",
       " ('data', 0.04856674360875572),\n",
       " ('distributions', 0.048350660321024176),\n",
       " ('predictions', 0.04707174174970103),\n",
       " ('lhc', 0.04475202936927279),\n",
       " ('perturbative quantum chromodynamics', 0.033836045403400454),\n",
       " ('massive photon pairs', 0.03352540412365782),\n",
       " ('next-to-leading order perturbative contributions', 0.030397720892755598),\n",
       " ('hadron colliders', 0.030138566771327386)]"
      ]
     },
     "execution_count": 3,
     "metadata": {},
     "output_type": "execute_result"
    }
   ],
   "source": [
    "%%time\n",
    "extractor = pke.unsupervised.MultipartiteRank()\n",
    "extractor.load_document(input=text, language='en', normalization=None)\n",
    "extractor.candidate_selection(pos={'NOUN', 'PROPN', 'ADJ', 'NUM'})\n",
    "extractor.candidate_weighting(threshold=0.74, method='average', alpha=1.1)\n",
    "extractor.get_n_best(n=10)"
   ]
  },
  {
   "cell_type": "code",
   "execution_count": null,
   "metadata": {},
   "outputs": [],
   "source": []
  }
 ],
 "metadata": {
  "kernelspec": {
   "display_name": "Python 3.10.4 ('trend')",
   "language": "python",
   "name": "python3"
  },
  "language_info": {
   "codemirror_mode": {
    "name": "ipython",
    "version": 3
   },
   "file_extension": ".py",
   "mimetype": "text/x-python",
   "name": "python",
   "nbconvert_exporter": "python",
   "pygments_lexer": "ipython3",
   "version": "3.10.4"
  },
  "orig_nbformat": 4,
  "vscode": {
   "interpreter": {
    "hash": "e5ac9074c40421cbf492f67471c5dc3e49846f397739518f542476e0deba3a6a"
   }
  }
 },
 "nbformat": 4,
 "nbformat_minor": 2
}
