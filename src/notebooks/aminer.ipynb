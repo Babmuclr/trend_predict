{
 "cells": [
  {
   "cell_type": "markdown",
   "metadata": {},
   "source": [
    "# Aminerデータの基本操作"
   ]
  },
  {
   "cell_type": "code",
   "execution_count": 16,
   "metadata": {},
   "outputs": [],
   "source": [
    "# import libraries\n",
    "\n",
    "import numpy as np\n",
    "import pandas as pd\n",
    "import gc\n",
    "import os\n",
    "import json\n",
    "from collections import Counter, defaultdict\n",
    "from tqdm.notebook import tqdm\n",
    "import matplotlib.pyplot as plt\n",
    "import matplotlib.dates as mdates\n",
    "%matplotlib inline\n",
    "import plotly.express as px\n",
    "import re\n",
    "import datetime as dt\n",
    "import japanize_matplotlib\n",
    "year_pattern = r'([1-2][0-9]{3})'"
   ]
  },
  {
   "cell_type": "code",
   "execution_count": 2,
   "metadata": {},
   "outputs": [],
   "source": [
    "DATAPATH = \"../../data/\""
   ]
  },
  {
   "cell_type": "code",
   "execution_count": 3,
   "metadata": {},
   "outputs": [],
   "source": [
    "def get_metadata(filename):\n",
    "    with open(DATAPATH + filename, encoding=\"utf-8\", mode='r') as f:\n",
    "        for line in f:\n",
    "            yield line"
   ]
  },
  {
   "cell_type": "markdown",
   "metadata": {},
   "source": [
    "## データ整形\n",
    "元データ：dbplv13.json (17GB)<br>\n",
    "https://www.aminer.org/citation でダウンロードし、解凍\n",
    "\n",
    "データ中身：\n",
    "```\n",
    "[\n",
    "{\n",
    "    \"_id\": \"53e99784b7602d9701f3e3f4\",\n",
    "    \"title\": \"360degree\",\n",
    "    \"authors\": [\n",
    "        {\n",
    "        \"_id\": \"53f46946dabfaec09f24b4ed\",\n",
    "        \"name\": \"Miguel Palma\",\n",
    "        \"sid\": \"8515747\"\n",
    "        }\n",
    "    ],\n",
    "    \"venue\": {\n",
    "        \"_id\": \"53a72b2d20f7420be8c1c5a8\",\n",
    "        \"raw\": \"SIGGRAPH ASIA Art Gallery & Emerging Technologies\"\n",
    "    },\n",
    "    \"year\": 2009.0,\n",
    "    \"keywords\": [],\n",
    "    \"n_citation\": 0.0,\n",
    "    \"page_start\": \"39\",\n",
    "    \"lang\": \"en\",\n",
    "    \"volume\": \"\",\n",
    "    \"issue\": \"\",\n",
    "    \"doi\": \"10.1145/1665137.1665166\",\n",
    "    \"url\": [\n",
    "        \"http://doi.acm.org/10.1145/1665137.1665166\",\n",
    "        \"db/conf/siggraph/siggraph2009asiaart.html#Palma09\",\n",
    "        \"https://doi.org/10.1145/1665137.1665166\"\n",
    "    ],\n",
    "    \"abstract\": \"\"\n",
    "},\n",
    "....\n",
    "{\n",
    "    各論文データ\n",
    "}\n",
    "]\n",
    "```\n",
    "\n",
    "使いづらい点：\n",
    "- 一行ずつ読み込んでいけない\n",
    "    - データが大きい\n",
    "    - 改行\n",
    "- intデータをNumberInt()を用いている\n",
    "    - 例：　1 -> NumberInt(1) // NumberInt(1)はエラーを引き起こす\n",
    "\n",
    "下記の形式のテキストファイルに変換 -> 整形後 dblpv13.txt\n",
    "```\n",
    "{ 論文データ1 }\n",
    "{ 論文データ2 }\n",
    "...\n",
    "{ 論文データN }\n",
    "```"
   ]
  },
  {
   "cell_type": "code",
   "execution_count": 14,
   "metadata": {},
   "outputs": [
    {
     "data": {
      "application/vnd.jupyter.widget-view+json": {
       "model_id": "84975be3f5e64dc49d17d7c758bff381",
       "version_major": 2,
       "version_minor": 0
      },
      "text/plain": [
       "0it [00:00, ?it/s]"
      ]
     },
     "metadata": {},
     "output_type": "display_data"
    },
    {
     "name": "stdout",
     "output_type": "stream",
     "text": [
      "FIN\n",
      "CPU times: user 7min 38s, sys: 55.6 s, total: 8min 34s\n",
      "Wall time: 8min 33s\n"
     ]
    }
   ],
   "source": [
    "%%time\n",
    "with open(DATAPATH + 'dblpv13.json') as fin:\n",
    "    d = \"\"\n",
    "    for line in tqdm(fin):\n",
    "        if line == \"[\\n\":\n",
    "            pass\n",
    "        elif line == \"},\\n\":\n",
    "            d += \"}\"\n",
    "            d = d.replace(\"\\n\", \"\")\n",
    "            d = re.sub(\"NumberInt\\(|\\)\", \"\", d)\n",
    "            with open(DATAPATH + 'dbplv13.txt', 'a') as f:\n",
    "                f.write(d+\"\\n\")\n",
    "            d = \"\"\n",
    "        elif line == \"}\\n\":\n",
    "            d += \"}\"\n",
    "            d = d.replace(\"\\n\", \"\")\n",
    "            d = re.sub(\"NumberInt\\(|\\)\", \"\", d)\n",
    "            with open(DATAPATH + 'dbplv13.txt', 'a') as f:\n",
    "                f.write(d+\"\\n\")\n",
    "            break\n",
    "        else:\n",
    "            d += line"
   ]
  },
  {
   "cell_type": "code",
   "execution_count": 15,
   "metadata": {},
   "outputs": [
    {
     "data": {
      "application/vnd.jupyter.widget-view+json": {
       "model_id": "aa4d0237655341c0947c432140298923",
       "version_major": 2,
       "version_minor": 0
      },
      "text/plain": [
       "0it [00:00, ?it/s]"
      ]
     },
     "metadata": {},
     "output_type": "display_data"
    },
    {
     "name": "stdout",
     "output_type": "stream",
     "text": [
      "CPU times: user 1min 50s, sys: 9.51 s, total: 2min\n",
      "Wall time: 1min 53s\n"
     ]
    },
    {
     "data": {
      "text/plain": [
       "5354309"
      ]
     },
     "execution_count": 15,
     "metadata": {},
     "output_type": "execute_result"
    }
   ],
   "source": [
    "%%time\n",
    "\n",
    "titles = []\n",
    "\n",
    "metadata = get_metadata(\"dblpv13.txt\")\n",
    "for paper in tqdm(metadata):\n",
    "    data = json.loads(paper)\n",
    "    try:\n",
    "        t = paper_dict.get('title')   \n",
    "        titles.append(t)\n",
    "\n",
    "    except Exception as e:\n",
    "        print(e)\n",
    "        print(paper_dict)\n",
    "        break\n",
    "len(titles)"
   ]
  },
  {
   "cell_type": "markdown",
   "metadata": {},
   "source": [
    "データセットのメタデータにある論文数と一致"
   ]
  },
  {
   "cell_type": "markdown",
   "metadata": {},
   "source": [
    "## キーワードの解析"
   ]
  },
  {
   "cell_type": "code",
   "execution_count": 34,
   "metadata": {},
   "outputs": [
    {
     "data": {
      "application/vnd.jupyter.widget-view+json": {
       "model_id": "064fc05cd99848e38cc0d52aad615d5e",
       "version_major": 2,
       "version_minor": 0
      },
      "text/plain": [
       "0it [00:00, ?it/s]"
      ]
     },
     "metadata": {},
     "output_type": "display_data"
    },
    {
     "name": "stdout",
     "output_type": "stream",
     "text": [
      "CPU times: user 14min 53s, sys: 1min 42s, total: 16min 36s\n",
      "Wall time: 16min 20s\n"
     ]
    },
    {
     "data": {
      "text/plain": [
       "(8102810, 1171587)"
      ]
     },
     "execution_count": 34,
     "metadata": {},
     "output_type": "execute_result"
    }
   ],
   "source": [
    "%%time\n",
    "\n",
    "keywords = []\n",
    "count = 0\n",
    "\n",
    "metadata = get_metadata(\"dblpv13.txt\")\n",
    "for num, paper in enumerate(tqdm(metadata)):\n",
    "    data = json.loads(paper)\n",
    "    try:\n",
    "        k = data.get('keywords')   \n",
    "        keywords += k\n",
    "    except Exception as e:\n",
    "        # keywordがないものも存在\n",
    "        count += 1\n",
    "        pass\n",
    "    if num % 10000 == 9999:\n",
    "        keywords = list(set(keywords))\n",
    "len(keywords), count"
   ]
  },
  {
   "cell_type": "code",
   "execution_count": 35,
   "metadata": {},
   "outputs": [
    {
     "data": {
      "text/plain": [
       "['',\n",
       " 'foster writing skill',\n",
       " 'binary serially-concatenated convolutional code',\n",
       " 'strong subcontract pre-order',\n",
       " 'policy-aware sender anonymity',\n",
       " 'Java enabled Web browser',\n",
       " 'graph-theoretical indices',\n",
       " 'interpolative coding',\n",
       " 'panorama video streaming',\n",
       " 'wifi-plc dual-links',\n",
       " 'statechart description',\n",
       " 'degree of matching',\n",
       " 'cooperative concatenated coding',\n",
       " 'Stock return',\n",
       " 'airborne multiple-input-multiple-output (mimo communications',\n",
       " 'insulin pumps',\n",
       " 'fast converging iteration technique',\n",
       " 'spindle-shaped graph',\n",
       " 'perceptual gap',\n",
       " 'towards participatory design',\n",
       " 'Asymmetric underlap',\n",
       " 'heavy regular expression',\n",
       " 'effective schur decomposition',\n",
       " 'deep Q-networks',\n",
       " 'complete sampling',\n",
       " 'allocating user experience meta-data',\n",
       " 'Ferrofluid jet',\n",
       " 'handling synchronization problem',\n",
       " 'small divide',\n",
       " 'cubic fourfolds',\n",
       " 'haf algorithm',\n",
       " 'Answer Set Programming (ASP',\n",
       " 'Network RAM',\n",
       " 'active population',\n",
       " 'fast marching farthest point',\n",
       " 'QoE diagnostics',\n",
       " 'inevitable feature',\n",
       " 'regenerative',\n",
       " 'click history',\n",
       " 'local file operation',\n",
       " 'scheduling analysis tool cheddar',\n",
       " 'advanced technology / philosophy',\n",
       " 'new optimal incremental algorithm',\n",
       " 'smart grid power transmission',\n",
       " 'control bit',\n",
       " 'cyberspace conflict',\n",
       " 'record finding',\n",
       " 'high level perception system',\n",
       " 'Long range radar',\n",
       " 'living-donor liver',\n",
       " 'Port Information System',\n",
       " 'nanchang e-government',\n",
       " 'incremental hierarchical network model',\n",
       " 'value domains',\n",
       " ' Earthquake damage',\n",
       " 'linear conductance',\n",
       " 'human competitive result',\n",
       " 'explanatory environmental variable',\n",
       " 'compiler implemen- tation',\n",
       " 'current-controlled stimulation',\n",
       " 'ecological inference method',\n",
       " 'algorithm-directed exploration',\n",
       " 'cache performance counter',\n",
       " 'leqslant n',\n",
       " 'well-known hash compaction method',\n",
       " 'multiplexer valency',\n",
       " 'web engineering development project',\n",
       " 'fpe-based target tracker',\n",
       " 'interfaces definition',\n",
       " 'single-iteration linear system solver',\n",
       " 'automated instructional system',\n",
       " 'encryption transformation',\n",
       " 'pattern-oriented agent-based model',\n",
       " 'Group orbit',\n",
       " 'temperature rise',\n",
       " 'function follows content',\n",
       " 'rapid atlas-assisted decision support',\n",
       " 'images reconstruction',\n",
       " 'pig farming',\n",
       " 'distributed multicore hardware in the loop simulation',\n",
       " 'self-adjusting component-based fault management',\n",
       " 'gpu-based programming',\n",
       " 'approach balance',\n",
       " ' program translation',\n",
       " 'dc-offsets',\n",
       " 'high dynamic range image tone mapping',\n",
       " 'fdr2 output',\n",
       " 'motion experience',\n",
       " 'central base band unit',\n",
       " 'ward cyclone',\n",
       " 'cooperative robots team',\n",
       " 'career impact',\n",
       " 'canonical correlations realization technique',\n",
       " 'EqL',\n",
       " 'efficient programming algorithm',\n",
       " 'high-speed finite field multiplication',\n",
       " 'state-of-the-art lock-based programming',\n",
       " 'carrier recovery loop',\n",
       " 'left ventricular shape analysis',\n",
       " 'new decoder architecture']"
      ]
     },
     "execution_count": 35,
     "metadata": {},
     "output_type": "execute_result"
    }
   ],
   "source": [
    "keywords[:100]"
   ]
  },
  {
   "cell_type": "code",
   "execution_count": null,
   "metadata": {},
   "outputs": [],
   "source": []
  }
 ],
 "metadata": {
  "interpreter": {
   "hash": "e5ac9074c40421cbf492f67471c5dc3e49846f397739518f542476e0deba3a6a"
  },
  "kernelspec": {
   "display_name": "Python 3.9.7 ('trend')",
   "language": "python",
   "name": "python3"
  },
  "language_info": {
   "codemirror_mode": {
    "name": "ipython",
    "version": 3
   },
   "file_extension": ".py",
   "mimetype": "text/x-python",
   "name": "python",
   "nbconvert_exporter": "python",
   "pygments_lexer": "ipython3",
   "version": "3.7.11"
  },
  "orig_nbformat": 4
 },
 "nbformat": 4,
 "nbformat_minor": 2
}
