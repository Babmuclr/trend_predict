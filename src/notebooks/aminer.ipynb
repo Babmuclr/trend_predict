{
 "cells": [
  {
   "cell_type": "markdown",
   "metadata": {},
   "source": [
    "# Aminerデータの基本操作"
   ]
  },
  {
   "cell_type": "code",
   "execution_count": 1,
   "metadata": {},
   "outputs": [],
   "source": [
    "# import libraries\n",
    "\n",
    "import numpy as np\n",
    "import pandas as pd\n",
    "import gc\n",
    "import os\n",
    "import json\n",
    "from collections import Counter, defaultdict\n",
    "from tqdm.notebook import tqdm\n",
    "import matplotlib.pyplot as plt\n",
    "import matplotlib.dates as mdates\n",
    "%matplotlib inline\n",
    "import plotly.express as px\n",
    "import re\n",
    "import datetime as dt\n",
    "import japanize_matplotlib\n",
    "year_pattern = r'([1-2][0-9]{3})'"
   ]
  },
  {
   "cell_type": "code",
   "execution_count": 24,
   "metadata": {},
   "outputs": [],
   "source": [
    "DATAPATH = \"../../data/\"\n",
    "START_YEAR = 2010\n",
    "END_YEAR = 2020\n",
    "YEAR_STD = END_YEAR - START_YEAR"
   ]
  },
  {
   "cell_type": "code",
   "execution_count": 3,
   "metadata": {},
   "outputs": [],
   "source": [
    "def get_metadata(filename):\n",
    "    with open(DATAPATH + filename, encoding=\"utf-8\", mode='r') as f:\n",
    "        for line in f:\n",
    "            yield line"
   ]
  },
  {
   "cell_type": "markdown",
   "metadata": {},
   "source": [
    "## データ整形\n",
    "元データ：dbplv13.json (17GB)<br>\n",
    "https://www.aminer.org/citation でダウンロードし、解凍\n",
    "\n",
    "データ中身：\n",
    "```\n",
    "[\n",
    "{\n",
    "    \"_id\": \"53e99784b7602d9701f3e3f4\",\n",
    "    \"title\": \"360degree\",\n",
    "    \"authors\": [\n",
    "        {\n",
    "        \"_id\": \"53f46946dabfaec09f24b4ed\",\n",
    "        \"name\": \"Miguel Palma\",\n",
    "        \"sid\": \"8515747\"\n",
    "        }\n",
    "    ],\n",
    "    \"venue\": {\n",
    "        \"_id\": \"53a72b2d20f7420be8c1c5a8\",\n",
    "        \"raw\": \"SIGGRAPH ASIA Art Gallery & Emerging Technologies\"\n",
    "    },\n",
    "    \"year\": 2009.0,\n",
    "    \"keywords\": [],\n",
    "    \"n_citation\": 0.0,\n",
    "    \"page_start\": \"39\",\n",
    "    \"lang\": \"en\",\n",
    "    \"volume\": \"\",\n",
    "    \"issue\": \"\",\n",
    "    \"doi\": \"10.1145/1665137.1665166\",\n",
    "    \"url\": [\n",
    "        \"http://doi.acm.org/10.1145/1665137.1665166\",\n",
    "        \"db/conf/siggraph/siggraph2009asiaart.html#Palma09\",\n",
    "        \"https://doi.org/10.1145/1665137.1665166\"\n",
    "    ],\n",
    "    \"abstract\": \"\"\n",
    "},\n",
    "....\n",
    "{\n",
    "    各論文データ\n",
    "}\n",
    "]\n",
    "```\n",
    "\n",
    "使いづらい点：\n",
    "- 一行ずつ読み込んでいけない\n",
    "    - データが大きい\n",
    "    - 改行\n",
    "- intデータをNumberInt()を用いている\n",
    "    - 例：　1 -> NumberInt(1) // NumberInt(1)はエラーを引き起こす\n",
    "\n",
    "下記の形式のテキストファイルに変換 -> 整形後 dblpv13.txt\n",
    "```\n",
    "{ 論文データ1 }\n",
    "{ 論文データ2 }\n",
    "...\n",
    "{ 論文データN }\n",
    "```"
   ]
  },
  {
   "cell_type": "code",
   "execution_count": 4,
   "metadata": {},
   "outputs": [
    {
     "data": {
      "application/vnd.jupyter.widget-view+json": {
       "model_id": "d7ee99e80a154c3aa459aec88853922c",
       "version_major": 2,
       "version_minor": 0
      },
      "text/plain": [
       "0it [00:00, ?it/s]"
      ]
     },
     "metadata": {},
     "output_type": "display_data"
    },
    {
     "name": "stdout",
     "output_type": "stream",
     "text": [
      "CPU times: user 7min 22s, sys: 57 s, total: 8min 19s\n",
      "Wall time: 8min 18s\n"
     ]
    }
   ],
   "source": [
    "%%time\n",
    "# 行数 409129300 8min30s程度かかる\n",
    "with open(DATAPATH + 'dblpv13.json') as fin:\n",
    "    d = \"\"\n",
    "    for line in tqdm(fin):\n",
    "        if line == \"[\\n\":\n",
    "            pass\n",
    "        elif line == \"},\\n\":\n",
    "            d += \"}\"\n",
    "            d = d.replace(\"\\n\", \"\")\n",
    "            d = re.sub(\"NumberInt\\(|\\)\", \"\", d)\n",
    "            with open(DATAPATH + 'dblpv13.txt', 'a') as f:\n",
    "                f.write(d+\"\\n\")\n",
    "            d = \"\"\n",
    "        elif line == \"}\\n\":\n",
    "            d += \"}\"\n",
    "            d = d.replace(\"\\n\", \"\")\n",
    "            d = re.sub(\"NumberInt\\(|\\)\", \"\", d)\n",
    "            with open(DATAPATH + 'dblpv13.txt', 'a') as f:\n",
    "                f.write(d+\"\\n\")\n",
    "            break\n",
    "        else:\n",
    "            d += line"
   ]
  },
  {
   "cell_type": "code",
   "execution_count": 6,
   "metadata": {},
   "outputs": [
    {
     "data": {
      "application/vnd.jupyter.widget-view+json": {
       "model_id": "f652eba6430a4b3f8e2c48350c912747",
       "version_major": 2,
       "version_minor": 0
      },
      "text/plain": [
       "0it [00:00, ?it/s]"
      ]
     },
     "metadata": {},
     "output_type": "display_data"
    },
    {
     "name": "stdout",
     "output_type": "stream",
     "text": [
      "CPU times: user 1min 51s, sys: 12.3 s, total: 2min 3s\n",
      "Wall time: 1min 54s\n"
     ]
    },
    {
     "data": {
      "text/plain": [
       "5354309"
      ]
     },
     "execution_count": 6,
     "metadata": {},
     "output_type": "execute_result"
    }
   ],
   "source": [
    "%%time\n",
    "\n",
    "titles = []\n",
    "\n",
    "metadata = get_metadata(\"dblpv13.txt\")\n",
    "for paper in tqdm(metadata):\n",
    "    data = json.loads(paper)\n",
    "    try:\n",
    "        t = data.get('title')   \n",
    "        titles.append(t)\n",
    "\n",
    "    except Exception as e:\n",
    "        print(e)\n",
    "        print(data)\n",
    "        break\n",
    "len(titles)"
   ]
  },
  {
   "cell_type": "markdown",
   "metadata": {},
   "source": [
    "データセットのメタデータにある論文数と一致"
   ]
  },
  {
   "cell_type": "code",
   "execution_count": 25,
   "metadata": {},
   "outputs": [
    {
     "data": {
      "application/vnd.jupyter.widget-view+json": {
       "model_id": "f7971e54b7314772ae176ab4dd857afc",
       "version_major": 2,
       "version_minor": 0
      },
      "text/plain": [
       "0it [00:00, ?it/s]"
      ]
     },
     "metadata": {},
     "output_type": "display_data"
    },
    {
     "name": "stdout",
     "output_type": "stream",
     "text": [
      "カテゴリー数:152178, カテゴリーを持たない論文数:350935\n",
      "CPU times: user 2min 6s, sys: 14.5 s, total: 2min 20s\n",
      "Wall time: 2min 7s\n"
     ]
    }
   ],
   "source": [
    "%%time\n",
    "\n",
    "categories = {}\n",
    "count = 0\n",
    "\n",
    "metadata = get_metadata(\"dblpv13.txt\")\n",
    "for paper in tqdm(metadata):\n",
    "    data = json.loads(paper)\n",
    "    try:\n",
    "        k = data.get('fos')\n",
    "        y = data.get('year')\n",
    "        if len(k) == 0:\n",
    "            pass\n",
    "        else:\n",
    "            if y >= START_YEAR and  END_YEAR >= y :\n",
    "                for i in k:\n",
    "                    if i not in categories:\n",
    "                        categories[i] = 1\n",
    "                    else:\n",
    "                        categories[i] = categories[i] + 1\n",
    "    except Exception as e:\n",
    "        # keywordがないものも存在\n",
    "        count += 1\n",
    "        pass\n",
    "print(\"カテゴリー数:{}, カテゴリーを持たない論文数:{}\".format(len(categories), count))"
   ]
  },
  {
   "cell_type": "code",
   "execution_count": 26,
   "metadata": {},
   "outputs": [
    {
     "data": {
      "application/vnd.jupyter.widget-view+json": {
       "model_id": "3cce331e275743ea97e3e863ff0f523a",
       "version_major": 2,
       "version_minor": 0
      },
      "text/plain": [
       "  0%|          | 0/152178 [00:00<?, ?it/s]"
      ]
     },
     "metadata": {},
     "output_type": "display_data"
    },
    {
     "name": "stdout",
     "output_type": "stream",
     "text": [
      "出現数が200以上のカテゴリー数:12604\n"
     ]
    }
   ],
   "source": [
    "important_keywords = []\n",
    "for keyword in tqdm(categories):\n",
    "    if categories[keyword] > 200:\n",
    "        important_keywords.append(keyword)\n",
    "len(important_keywords)\n",
    "print(\"出現数が200以上のカテゴリー数:{}\".format(len(important_keywords)))"
   ]
  },
  {
   "cell_type": "code",
   "execution_count": 27,
   "metadata": {},
   "outputs": [
    {
     "data": {
      "text/plain": [
       "['Agronomy',\n",
       " 'Moisture',\n",
       " 'Hydrology',\n",
       " 'Environmental science',\n",
       " 'Water content',\n",
       " 'Irrigation',\n",
       " 'Soil water',\n",
       " 'Canopy',\n",
       " 'Virtualization',\n",
       " 'Service level objective']"
      ]
     },
     "execution_count": 27,
     "metadata": {},
     "output_type": "execute_result"
    }
   ],
   "source": [
    "important_keywords[:10]"
   ]
  },
  {
   "cell_type": "markdown",
   "metadata": {},
   "source": [
    "## キーワードの解析"
   ]
  },
  {
   "cell_type": "code",
   "execution_count": 28,
   "metadata": {},
   "outputs": [
    {
     "data": {
      "application/vnd.jupyter.widget-view+json": {
       "model_id": "323bfbade94940ce8b5c20cd14b1803b",
       "version_major": 2,
       "version_minor": 0
      },
      "text/plain": [
       "0it [00:00, ?it/s]"
      ]
     },
     "metadata": {},
     "output_type": "display_data"
    },
    {
     "name": "stdout",
     "output_type": "stream",
     "text": [
      "キーワードの数:4563126, キーワードのない論文数:1171589,\n",
      " 期間が妥当である論文数1667206, 期間街の論文数1552504\n",
      "CPU times: user 2min 5s, sys: 14.8 s, total: 2min 20s\n",
      "Wall time: 2min 7s\n"
     ]
    }
   ],
   "source": [
    "%%time\n",
    "\n",
    "keywords = {}\n",
    "count, count2, count3 = 0, 0, 0\n",
    "\n",
    "metadata = get_metadata(\"dblpv13.txt\")\n",
    "for paper in tqdm(metadata):\n",
    "    data = json.loads(paper)\n",
    "    try:\n",
    "        k = data.get('keywords')\n",
    "        y = data.get('year')\n",
    "        if len(k) == 0 or len(k) == 1:\n",
    "            pass\n",
    "        else:\n",
    "            if y >= START_YEAR and  END_YEAR >= y :\n",
    "                for i in k:\n",
    "                    if i not in keywords:\n",
    "                        keywords[i] = 1\n",
    "                    else:\n",
    "                        keywords[i] = keywords[i] + 1\n",
    "                count2 += 1\n",
    "            else:\n",
    "                count3 += 1\n",
    "    except Exception as e:\n",
    "        # keywordがないものも存在\n",
    "        count += 1\n",
    "        pass\n",
    "print(\"キーワードの数:{}, キーワードのない論文数:{},\\n 期間が妥当である論文数{}, 期間街の論文数{}\".format(len(keywords), count, count2, count3))"
   ]
  },
  {
   "cell_type": "code",
   "execution_count": 38,
   "metadata": {},
   "outputs": [
    {
     "data": {
      "application/vnd.jupyter.widget-view+json": {
       "model_id": "c6595dce0cca4b4eb9e3a1c01a2ba6a9",
       "version_major": 2,
       "version_minor": 0
      },
      "text/plain": [
       "  0%|          | 0/4563126 [00:00<?, ?it/s]"
      ]
     },
     "metadata": {},
     "output_type": "display_data"
    },
    {
     "name": "stdout",
     "output_type": "stream",
     "text": [
      "出現数が400以上のキーワード数:3388\n"
     ]
    }
   ],
   "source": [
    "important_keywords = []\n",
    "for keyword in tqdm(keywords):\n",
    "    # keyword の出現回数が、400を超えるとき\n",
    "    if keywords[keyword] >= 400:\n",
    "        important_keywords.append(keyword)\n",
    "print(\"出現数が400以上のキーワード数:{}\".format(len(important_keywords)))"
   ]
  },
  {
   "cell_type": "code",
   "execution_count": 39,
   "metadata": {},
   "outputs": [
    {
     "data": {
      "text/plain": [
       "['irrigation',\n",
       " 'radiometry',\n",
       " 'indexes',\n",
       " 'vegetation',\n",
       " 'indexation',\n",
       " 'soil moisture',\n",
       " 'indexing terms',\n",
       " 'spectrum',\n",
       " 'resource allocation',\n",
       " 'quality of service']"
      ]
     },
     "execution_count": 39,
     "metadata": {},
     "output_type": "execute_result"
    }
   ],
   "source": [
    "important_keywords[:10]"
   ]
  },
  {
   "cell_type": "code",
   "execution_count": 40,
   "metadata": {},
   "outputs": [
    {
     "name": "stdout",
     "output_type": "stream",
     "text": [
      "キーワードの個数: 2701\n",
      "list.remove(x): x not in list\n"
     ]
    }
   ],
   "source": [
    "important_keywords = list(map(lambda x: x.lower(), important_keywords))\n",
    "important_keywords = list(map(lambda x: x.strip(), important_keywords))\n",
    "important_keywords = list(set(important_keywords))\n",
    "print(\"キーワードの個数: {}\".format(len(important_keywords)))\n",
    "try:\n",
    "    important_keywords.remove(\"\")\n",
    "except Exception as e:\n",
    "    print(e)\n"
   ]
  },
  {
   "cell_type": "code",
   "execution_count": 36,
   "metadata": {},
   "outputs": [],
   "source": [
    "with open(DATAPATH + \"DBLP/keywords.txt\", mode=\"a\") as f:\n",
    "    for i in important_keywords:\n",
    "        f.write(i + \"\\n\")"
   ]
  },
  {
   "cell_type": "code",
   "execution_count": null,
   "metadata": {},
   "outputs": [],
   "source": []
  }
 ],
 "metadata": {
  "interpreter": {
   "hash": "e5ac9074c40421cbf492f67471c5dc3e49846f397739518f542476e0deba3a6a"
  },
  "kernelspec": {
   "display_name": "Python 3.9.7 ('trend')",
   "language": "python",
   "name": "python3"
  },
  "language_info": {
   "codemirror_mode": {
    "name": "ipython",
    "version": 3
   },
   "file_extension": ".py",
   "mimetype": "text/x-python",
   "name": "python",
   "nbconvert_exporter": "python",
   "pygments_lexer": "ipython3",
   "version": "3.7.11"
  },
  "orig_nbformat": 4
 },
 "nbformat": 4,
 "nbformat_minor": 2
}
