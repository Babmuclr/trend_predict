{
 "cells": [
  {
   "cell_type": "markdown",
   "metadata": {},
   "source": [
    "# Aminerデータの基本操作"
   ]
  },
  {
   "cell_type": "code",
   "execution_count": 9,
   "metadata": {},
   "outputs": [],
   "source": [
    "# import libraries\n",
    "\n",
    "import numpy as np\n",
    "import pandas as pd\n",
    "import gc\n",
    "import os\n",
    "import json\n",
    "from collections import Counter, defaultdict\n",
    "from tqdm.notebook import tqdm\n",
    "import matplotlib.pyplot as plt\n",
    "import matplotlib.dates as mdates\n",
    "%matplotlib inline\n",
    "import plotly.express as px\n",
    "import re\n",
    "import datetime as dt\n",
    "import japanize_matplotlib\n",
    "year_pattern = r'([1-2][0-9]{3})'"
   ]
  },
  {
   "cell_type": "code",
   "execution_count": 10,
   "metadata": {},
   "outputs": [],
   "source": [
    "DATAPATH = \"../../data/\"\n",
    "START_YEAR = 2008\n",
    "END_YEAR = 2020\n",
    "YEAR_STD = END_YEAR - START_YEAR"
   ]
  },
  {
   "cell_type": "code",
   "execution_count": 11,
   "metadata": {},
   "outputs": [],
   "source": [
    "def get_metadata(filename):\n",
    "    with open(DATAPATH + filename, encoding=\"utf-8\", mode='r') as f:\n",
    "        for line in f:\n",
    "            yield line"
   ]
  },
  {
   "cell_type": "markdown",
   "metadata": {},
   "source": [
    "## データ整形\n",
    "元データ：dbplv13.json (17GB)<br>\n",
    "https://www.aminer.org/citation でダウンロードし、解凍\n",
    "\n",
    "データ中身：\n",
    "```\n",
    "[\n",
    "{\n",
    "    \"_id\": \"53e99784b7602d9701f3e3f4\",\n",
    "    \"title\": \"360degree\",\n",
    "    \"authors\": [\n",
    "        {\n",
    "        \"_id\": \"53f46946dabfaec09f24b4ed\",\n",
    "        \"name\": \"Miguel Palma\",\n",
    "        \"sid\": \"8515747\"\n",
    "        }\n",
    "    ],\n",
    "    \"venue\": {\n",
    "        \"_id\": \"53a72b2d20f7420be8c1c5a8\",\n",
    "        \"raw\": \"SIGGRAPH ASIA Art Gallery & Emerging Technologies\"\n",
    "    },\n",
    "    \"year\": 2009.0,\n",
    "    \"keywords\": [],\n",
    "    \"n_citation\": 0.0,\n",
    "    \"page_start\": \"39\",\n",
    "    \"lang\": \"en\",\n",
    "    \"volume\": \"\",\n",
    "    \"issue\": \"\",\n",
    "    \"doi\": \"10.1145/1665137.1665166\",\n",
    "    \"url\": [\n",
    "        \"http://doi.acm.org/10.1145/1665137.1665166\",\n",
    "        \"db/conf/siggraph/siggraph2009asiaart.html#Palma09\",\n",
    "        \"https://doi.org/10.1145/1665137.1665166\"\n",
    "    ],\n",
    "    \"abstract\": \"\"\n",
    "},\n",
    "....\n",
    "{\n",
    "    各論文データ\n",
    "}\n",
    "]\n",
    "```\n",
    "\n",
    "使いづらい点：\n",
    "- 一行ずつ読み込んでいけない\n",
    "    - データが大きい\n",
    "    - 改行\n",
    "- intデータをNumberInt()を用いている\n",
    "    - 例：　1 -> NumberInt(1) // NumberInt(1)はエラーを引き起こす\n",
    "\n",
    "下記の形式のテキストファイルに変換 -> 整形後 dblpv13.txt\n",
    "```\n",
    "{ 論文データ1 }\n",
    "{ 論文データ2 }\n",
    "...\n",
    "{ 論文データN }\n",
    "```"
   ]
  },
  {
   "cell_type": "code",
   "execution_count": 12,
   "metadata": {},
   "outputs": [
    {
     "data": {
      "application/vnd.jupyter.widget-view+json": {
       "model_id": "9fff41955d4041bc96daaeb507e4101a",
       "version_major": 2,
       "version_minor": 0
      },
      "text/plain": [
       "0it [00:00, ?it/s]"
      ]
     },
     "metadata": {},
     "output_type": "display_data"
    },
    {
     "name": "stdout",
     "output_type": "stream",
     "text": [
      "CPU times: user 7min 36s, sys: 55 s, total: 8min 31s\n",
      "Wall time: 8min 30s\n"
     ]
    }
   ],
   "source": [
    "%%time\n",
    "# 行数 409129300 8min30s程度かかる\n",
    "with open(DATAPATH + 'dblpv13.json') as fin:\n",
    "    d = \"\"\n",
    "    for line in tqdm(fin):\n",
    "        if line == \"[\\n\":\n",
    "            pass\n",
    "        elif line == \"},\\n\":\n",
    "            d += \"}\"\n",
    "            d = d.replace(\"\\n\", \"\")\n",
    "            d = re.sub(\"NumberInt\\(|\\)\", \"\", d)\n",
    "            with open(DATAPATH + 'dblpv13.txt', 'a') as f:\n",
    "                f.write(d+\"\\n\")\n",
    "            d = \"\"\n",
    "        elif line == \"}\\n\":\n",
    "            d += \"}\"\n",
    "            d = d.replace(\"\\n\", \"\")\n",
    "            d = re.sub(\"NumberInt\\(|\\)\", \"\", d)\n",
    "            with open(DATAPATH + 'dblpv13.txt', 'a') as f:\n",
    "                f.write(d+\"\\n\")\n",
    "            break\n",
    "        else:\n",
    "            d += line"
   ]
  },
  {
   "cell_type": "code",
   "execution_count": 13,
   "metadata": {},
   "outputs": [
    {
     "data": {
      "application/vnd.jupyter.widget-view+json": {
       "model_id": "84586ec64a4a456b87270cc8448bd35b",
       "version_major": 2,
       "version_minor": 0
      },
      "text/plain": [
       "0it [00:00, ?it/s]"
      ]
     },
     "metadata": {},
     "output_type": "display_data"
    },
    {
     "name": "stdout",
     "output_type": "stream",
     "text": [
      "CPU times: user 1min 51s, sys: 11.9 s, total: 2min 3s\n",
      "Wall time: 1min 54s\n"
     ]
    },
    {
     "data": {
      "text/plain": [
       "5354309"
      ]
     },
     "execution_count": 13,
     "metadata": {},
     "output_type": "execute_result"
    }
   ],
   "source": [
    "%%time\n",
    "\n",
    "titles = []\n",
    "\n",
    "metadata = get_metadata(\"dblpv13.txt\")\n",
    "for paper in tqdm(metadata):\n",
    "    data = json.loads(paper)\n",
    "    try:\n",
    "        t = data.get('title')   \n",
    "        titles.append(t)\n",
    "\n",
    "    except Exception as e:\n",
    "        print(e)\n",
    "        print(data)\n",
    "        break\n",
    "len(titles)"
   ]
  },
  {
   "cell_type": "markdown",
   "metadata": {},
   "source": [
    "データセットのメタデータにある論文数と一致"
   ]
  },
  {
   "cell_type": "code",
   "execution_count": 14,
   "metadata": {},
   "outputs": [
    {
     "data": {
      "application/vnd.jupyter.widget-view+json": {
       "model_id": "98877ec56bf34679814a605a23f1ef7e",
       "version_major": 2,
       "version_minor": 0
      },
      "text/plain": [
       "0it [00:00, ?it/s]"
      ]
     },
     "metadata": {},
     "output_type": "display_data"
    },
    {
     "name": "stdout",
     "output_type": "stream",
     "text": [
      "カテゴリー数:155928, カテゴリーを持たない論文数:350935\n",
      "CPU times: user 2min 5s, sys: 14.1 s, total: 2min 19s\n",
      "Wall time: 2min 7s\n"
     ]
    }
   ],
   "source": [
    "%%time\n",
    "\n",
    "categories = {}\n",
    "count = 0\n",
    "\n",
    "metadata = get_metadata(\"dblpv13.txt\")\n",
    "for paper in tqdm(metadata):\n",
    "    data = json.loads(paper)\n",
    "    try:\n",
    "        k = data.get('fos')\n",
    "        y = data.get('year')\n",
    "        if len(k) == 0:\n",
    "            pass\n",
    "        else:\n",
    "            if y >= START_YEAR and  END_YEAR >= y :\n",
    "                for i in k:\n",
    "                    if i not in categories:\n",
    "                        categories[i] = 1\n",
    "                    else:\n",
    "                        categories[i] = categories[i] + 1\n",
    "    except Exception as e:\n",
    "        # keywordがないものも存在\n",
    "        count += 1\n",
    "        pass\n",
    "print(\"カテゴリー数:{}, カテゴリーを持たない論文数:{}\".format(len(categories), count))"
   ]
  },
  {
   "cell_type": "code",
   "execution_count": 15,
   "metadata": {},
   "outputs": [
    {
     "data": {
      "application/vnd.jupyter.widget-view+json": {
       "model_id": "bd13ad48d6774bc7a23817bee73ad2dc",
       "version_major": 2,
       "version_minor": 0
      },
      "text/plain": [
       "  0%|          | 0/155928 [00:00<?, ?it/s]"
      ]
     },
     "metadata": {},
     "output_type": "display_data"
    },
    {
     "name": "stdout",
     "output_type": "stream",
     "text": [
      "出現数が200以上のカテゴリー数:13733\n"
     ]
    }
   ],
   "source": [
    "important_keywords = []\n",
    "for keyword in tqdm(categories):\n",
    "    if categories[keyword] > 200:\n",
    "        important_keywords.append(keyword)\n",
    "len(important_keywords)\n",
    "print(\"出現数が200以上のカテゴリー数:{}\".format(len(important_keywords)))"
   ]
  },
  {
   "cell_type": "code",
   "execution_count": 16,
   "metadata": {},
   "outputs": [
    {
     "data": {
      "text/plain": [
       "['Agronomy',\n",
       " 'Moisture',\n",
       " 'Hydrology',\n",
       " 'Environmental science',\n",
       " 'Water content',\n",
       " 'Irrigation',\n",
       " 'Soil water',\n",
       " 'Canopy',\n",
       " 'Virtualization',\n",
       " 'Service level objective']"
      ]
     },
     "execution_count": 16,
     "metadata": {},
     "output_type": "execute_result"
    }
   ],
   "source": [
    "important_keywords[:10]"
   ]
  },
  {
   "cell_type": "markdown",
   "metadata": {},
   "source": [
    "## キーワードの解析"
   ]
  },
  {
   "cell_type": "code",
   "execution_count": 17,
   "metadata": {},
   "outputs": [
    {
     "data": {
      "application/vnd.jupyter.widget-view+json": {
       "model_id": "01315ce409a24d9da94568840fdc7f7f",
       "version_major": 2,
       "version_minor": 0
      },
      "text/plain": [
       "0it [00:00, ?it/s]"
      ]
     },
     "metadata": {},
     "output_type": "display_data"
    },
    {
     "name": "stdout",
     "output_type": "stream",
     "text": [
      "キーワードの数:5537095, キーワードのない論文数:1171589,\n",
      " 期間が妥当である論文数2009801, 期間街の論文数1209909\n",
      "CPU times: user 2min 5s, sys: 15.2 s, total: 2min 20s\n",
      "Wall time: 2min 8s\n"
     ]
    }
   ],
   "source": [
    "%%time\n",
    "\n",
    "keywords = {}\n",
    "count, count2, count3 = 0, 0, 0\n",
    "\n",
    "metadata = get_metadata(\"dblpv13.txt\")\n",
    "for paper in tqdm(metadata):\n",
    "    data = json.loads(paper)\n",
    "    try:\n",
    "        k = data.get('keywords')\n",
    "        y = data.get('year')\n",
    "        if len(k) == 0 or len(k) == 1:\n",
    "            pass\n",
    "        else:\n",
    "            if y >= START_YEAR and  END_YEAR >= y :\n",
    "                for i in k:\n",
    "                    if i not in keywords:\n",
    "                        keywords[i] = 1\n",
    "                    else:\n",
    "                        keywords[i] = keywords[i] + 1\n",
    "                count2 += 1\n",
    "            else:\n",
    "                count3 += 1\n",
    "    except Exception as e:\n",
    "        # keywordがないものも存在\n",
    "        count += 1\n",
    "        pass\n",
    "print(\"キーワードの数:{}, キーワードのない論文数:{},\\n 期間が妥当である論文数{}, 期間街の論文数{}\".format(len(keywords), count, count2, count3))"
   ]
  },
  {
   "cell_type": "code",
   "execution_count": 18,
   "metadata": {},
   "outputs": [
    {
     "data": {
      "application/vnd.jupyter.widget-view+json": {
       "model_id": "5cfe243ad1684807a66410bdeeb0291d",
       "version_major": 2,
       "version_minor": 0
      },
      "text/plain": [
       "  0%|          | 0/5537095 [00:00<?, ?it/s]"
      ]
     },
     "metadata": {},
     "output_type": "display_data"
    },
    {
     "name": "stdout",
     "output_type": "stream",
     "text": [
      "出現数が200以上のキーワード数:8672\n"
     ]
    }
   ],
   "source": [
    "important_keywords = []\n",
    "for keyword in tqdm(keywords):\n",
    "    # keyword の出現回数が、200を超えるとき\n",
    "    if keywords[keyword] >= 200:\n",
    "        important_keywords.append(keyword)\n",
    "print(\"出現数が200以上のキーワード数:{}\".format(len(important_keywords)))"
   ]
  },
  {
   "cell_type": "code",
   "execution_count": 23,
   "metadata": {},
   "outputs": [
    {
     "data": {
      "text/plain": [
       "['approximation algorithms',\n",
       " 'software developer',\n",
       " 'sigma-delta modulation',\n",
       " 'cost model',\n",
       " 'circuit reliability',\n",
       " 'biomedical monitoring',\n",
       " 'hypermedia',\n",
       " 'collision avoidance',\n",
       " 'automatic test equipment',\n",
       " 'differentiated service']"
      ]
     },
     "execution_count": 23,
     "metadata": {},
     "output_type": "execute_result"
    }
   ],
   "source": [
    "important_keywords[:10]"
   ]
  },
  {
   "cell_type": "code",
   "execution_count": 20,
   "metadata": {},
   "outputs": [
    {
     "name": "stdout",
     "output_type": "stream",
     "text": [
      "キーワードの個数: 7076\n"
     ]
    }
   ],
   "source": [
    "important_keywords = list(map(lambda x: x.lower(), important_keywords))\n",
    "important_keywords = list(map(lambda x: x.strip(), important_keywords))\n",
    "important_keywords = list(set(important_keywords))\n",
    "print(\"キーワードの個数: {}\".format(len(important_keywords)))\n",
    "important_keywords.remove(\"\")"
   ]
  },
  {
   "cell_type": "code",
   "execution_count": 22,
   "metadata": {},
   "outputs": [],
   "source": [
    "with open(DATAPATH + \"DBLP/keywords.txt\", mode=\"a\") as f:\n",
    "    for i in important_keywords:\n",
    "        f.write(i + \"\\n\")"
   ]
  },
  {
   "cell_type": "code",
   "execution_count": null,
   "metadata": {},
   "outputs": [],
   "source": []
  }
 ],
 "metadata": {
  "interpreter": {
   "hash": "e5ac9074c40421cbf492f67471c5dc3e49846f397739518f542476e0deba3a6a"
  },
  "kernelspec": {
   "display_name": "Python 3.9.7 ('trend')",
   "language": "python",
   "name": "python3"
  },
  "language_info": {
   "codemirror_mode": {
    "name": "ipython",
    "version": 3
   },
   "file_extension": ".py",
   "mimetype": "text/x-python",
   "name": "python",
   "nbconvert_exporter": "python",
   "pygments_lexer": "ipython3",
   "version": "3.7.11"
  },
  "orig_nbformat": 4
 },
 "nbformat": 4,
 "nbformat_minor": 2
}
